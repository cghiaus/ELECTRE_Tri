{
 "cells": [
  {
   "cell_type": "markdown",
   "id": "1f1daab9-78f9-4963-884f-ebb0b80fdc01",
   "metadata": {},
   "source": [
    "<font size=\"6\">Default values in practical applications</font>\n",
    "\n",
    "[![Binder](https://mybinder.org/badge_logo.svg)](https://mybinder.org/v2/gh/cghiaus/ELECTRE_Tri/HEAD?labpath=ELECTRE_Tri%2FELECTRE_Tri_application.ipynb)\n",
    "\n",
    "The ELECTRE Tri-B method needs the following data (see `simple_example.csv`):\n",
    "- performance matrix, A;\n",
    "- criteria weights, w;\n",
    "- base profiles, B;\n",
    "- indifference, preference and veto thresholds, T.\n",
    "\n",
    "The performance matrix, A, and the criteria weights, w, need to be provided in any application of ELECTRE Tri-B method.\n",
    "\n",
    "In a first approximation, the parameters of ELECTRE Tri method:\n",
    "- the base profiles, B, (that determine the categories) and\n",
    "- the indifference, preference and veto thresholds, T,\n",
    "\n",
    "can have default values."
   ]
  },
  {
   "cell_type": "code",
   "execution_count": 1,
   "id": "bf85598c-ccba-4c15-b945-bd033b84a8f5",
   "metadata": {},
   "outputs": [],
   "source": [
    "import numpy as np\n",
    "import pandas as pd\n",
    "\n",
    "import ELECTRE_Tri as et\n",
    "\n",
    "# Set pandas to display 2 decimal places\n",
    "pd.options.display.float_format = '{:.2f}'.format"
   ]
  },
  {
   "cell_type": "markdown",
   "id": "32b87c24-b860-422f-9f1a-8421f4210101",
   "metadata": {},
   "source": [
    "# Guidelines for chosing the parameters of ELECTRE Tri-B\n",
    "\n",
    "## Categories\n",
    "\n",
    "1. **Five-category system**  \n",
    "\n",
    "This is a common and intuitive approach, often using categories like:  \n",
    "   - Very Bad\n",
    "   - Bad\n",
    "   - Neutral\n",
    "   - Good\n",
    "   - Very Good\n",
    "\n",
    "This structure is easy to understand and can be applied to many decision contexts.\n",
    "\n",
    "2. **Seven-category system**  \n",
    "\n",
    "This provides more granularity and can be structured as:\n",
    "   - Extremely Poor\n",
    "   - Very Poor\n",
    "   - Poor\n",
    "   - Average\n",
    "   - Good\n",
    "   - Very Good\n",
    "   - Excellent\n",
    "\n",
    "## Base profiles (category boundaries), B\n",
    "\n",
    "For defining the boundaries or base profiles between the categories, some simple methods include:\n",
    "\n",
    "1. **Equal interval method**  \n",
    "   Divide the range (maximum - minimum) of performance values for each criterion into equal intervals. For a five-category system, this would create boundaries at 20%, 40%, 60%, and 80% of the range.\n",
    "\n",
    "2. **Rounded natural breaks**  \n",
    "   Identify natural clusters in the data and round the boundaries to simple, easy-to-communicate values.\n",
    "\n",
    "3. **Percentile method**  \n",
    "   Use percentiles of the data distribution to set boundaries. For a five-category system, you might use the 20th, 40th, 60th, and 80th percentiles.\n",
    "\n",
    "4. **Standard deviation method**  \n",
    "   Set boundaries based on standard deviation from the mean. For example, in a five-category system:\n",
    "   - Very bad: < μ - σ\n",
    "   - Bad: μ - σ to μ - σ/2\n",
    "   - Neutral: μ - σ/2 to μ + σ/2\n",
    "   - Good: μ + σ/2 to μ + σ\n",
    "   - Very good: > μ + σ\n",
    "\n",
    "   where μ is the mean and σ is the standard deviation.\n",
    "\n",
    "Besides the simplicity, the first two methods have the advantage of being independent on performance matrix used in the analysis conducted with ELECTRE Tri-B,\n",
    "\n",
    "These simplified approaches can be particularly useful when:\n",
    "- There's a lack of expert knowledge to define precise boundaries.\n",
    "- The decision context doesn't require highly specific category definitions.\n",
    "- You need a quick, initial categorization that can be refined later.\n",
    "- Stakeholders prefer easily understandable and communicable category structures.\n",
    "\n",
    "However, it's important to note that while these simplified approaches can be useful starting points, they may not always capture the nuances of complex decision problems. In many cases, they should be viewed as initial frameworks that can be adjusted based on expert input or more sophisticated analysis of the specific decision context.\n",
    "\n",
    "## Thresholds, T\n",
    "\n",
    "When setting indifference (q), preference (p), and veto (v) thresholds, simple percentage-based methods can provide a good starting point. These methods use the interval between two successive base profiles as a reference.\n",
    "\n",
    "### Threshold ranges\n",
    "\n",
    "1. **Indifference threshold (q)**:\n",
    "   - Range: 5% to 15% of the interval between two successive base profiles\n",
    "   - Typical value: 10% of the interval\n",
    "\n",
    "2. **Preference threshold (p)**:\n",
    "   - Range: 20% to 30% of the interval between two successive base profiles\n",
    "   - Typical value: 25% of the interval\n",
    "\n",
    "3. **Veto threshold (v)**:\n",
    "   - Range: 40% to 60% of the interval between two successive base profiles\n",
    "   - Typical value: 50% of the interval\n",
    "\n",
    "Example calculation\n",
    "\n",
    "Let's consider two successive base profiles for a criterion:\n",
    "- Lower base profile: 100\n",
    "- Upper base profile: 200\n",
    "- Interval between profiles: 200 - 100 = 100\n",
    "\n",
    "Threshold calculations using typical values:\n",
    "- q = 10% of 100 = 10\n",
    "- p = 25% of 100 = 25\n",
    "- v = 50% of 100 = 50\n",
    "\n",
    "### Guidelines for application\n",
    "\n",
    "1. **Consistency**: Ensure that q < p < v for each criterion.\n",
    "\n",
    "2. **Criterion-specific adjustments**: While these percentages provide a starting point, adjust them based on the nature of each criterion. For instance:\n",
    "   - Criteria with high precision might use lower percentages.\n",
    "   - Criteria with more uncertainty might use higher percentages.\n",
    "\n",
    "3. **Rounding**: Round the calculated thresholds to a level of precision appropriate for the criterion.\n",
    "\n",
    "4. **Stakeholder validation**: Present these calculated thresholds to stakeholders or experts for validation and refinement.\n",
    "\n",
    "5. **Sensitivity analysis**: Test how small changes in these thresholds affect the final results to ensure robustness.\n",
    "\n",
    "### Advantages and limitations\n",
    "\n",
    "Advantages:\n",
    "- Simplicity and ease of understanding\n",
    "- Consistency across criteria\n",
    "- Quick initial setup for further refinement\n",
    "- Easily communicable to stakeholders\n",
    "\n",
    "Limitations:\n",
    "- May not capture the full complexity of some decision problems\n",
    "- Might need adjustment for criteria with non-linear scales or special considerations\n",
    "\n",
    "This method provides a structured starting point for setting thresholds in ELECTRE Tri-B, which can then be fine-tuned based on expert knowledge, data analysis, or specific requirements of the decision context."
   ]
  },
  {
   "cell_type": "markdown",
   "id": "2fed7929-31da-4130-9a9c-9694f41c69ce",
   "metadata": {},
   "source": [
    "# Base profiles: simple methods\n",
    "\n",
    "Let's consider as an example the problem of energy renovation of a building.\n",
    "\n",
    "## Performance of alternatives\n",
    "\n",
    "### Alternatives\n",
    "- a1: Basic renovation\n",
    "- a2: Moderate renovation\n",
    "- a3: Extensive renovation\n",
    "\n",
    "### Criteria\n",
    "- c1: Energy savings (kWh/m²/year): to be maximised\n",
    "- c2: Investment cost (€/m²): to be minimised\n",
    "\n",
    "### Performance matrix, A\n",
    "\n",
    "| Alternative             |Saving/(kWh/m²/year)| Cost/(€/m²) |\n",
    "|-------------------------|--------------------|-----------|\n",
    "| a1: Basic renovation    | 50                 | -100      |\n",
    "| a2: Moderate renovation | 80                 | -200      |\n",
    "| a3: Extensive renovation| 120                | -350      |\n",
    "\n",
    "**Note**: performance for criteria to be minimised are negative numbers."
   ]
  },
  {
   "cell_type": "markdown",
   "id": "3d53e5fa-d9f0-4731-a57f-0d478fb40263",
   "metadata": {},
   "source": [
    "## Equal interval method\n",
    "\n",
    "### Input data\n",
    "\n",
    "In this method, the decision maker needs to provide:\n",
    "- performance matrix, **A**\n",
    "- best and worst possible base profiles, **L**\n",
    "- weights of criteria, **w**\n",
    "\n",
    "See file `./data/default_categories.csv` for an example."
   ]
  },
  {
   "cell_type": "code",
   "execution_count": 2,
   "id": "bb0d409a-c79c-4103-a98f-e6cc09540c19",
   "metadata": {},
   "outputs": [
    {
     "data": {
      "text/html": [
       "<div>\n",
       "<style scoped>\n",
       "    .dataframe tbody tr th:only-of-type {\n",
       "        vertical-align: middle;\n",
       "    }\n",
       "\n",
       "    .dataframe tbody tr th {\n",
       "        vertical-align: top;\n",
       "    }\n",
       "\n",
       "    .dataframe thead th {\n",
       "        text-align: right;\n",
       "    }\n",
       "</style>\n",
       "<table border=\"1\" class=\"dataframe\">\n",
       "  <thead>\n",
       "    <tr style=\"text-align: right;\">\n",
       "      <th></th>\n",
       "      <th>profile</th>\n",
       "      <th>Saving/(kWh/m²/year)</th>\n",
       "      <th>Cost/(€/m²)</th>\n",
       "    </tr>\n",
       "    <tr>\n",
       "      <th>type</th>\n",
       "      <th></th>\n",
       "      <th></th>\n",
       "      <th></th>\n",
       "    </tr>\n",
       "  </thead>\n",
       "  <tbody>\n",
       "    <tr>\n",
       "      <th>A</th>\n",
       "      <td>a1: Basic renovation</td>\n",
       "      <td>50.00</td>\n",
       "      <td>-100.00</td>\n",
       "    </tr>\n",
       "    <tr>\n",
       "      <th>A</th>\n",
       "      <td>a2: Moderate renovation</td>\n",
       "      <td>80.00</td>\n",
       "      <td>-200.00</td>\n",
       "    </tr>\n",
       "    <tr>\n",
       "      <th>A</th>\n",
       "      <td>a3: Extensive renovation</td>\n",
       "      <td>120.00</td>\n",
       "      <td>-350.00</td>\n",
       "    </tr>\n",
       "    <tr>\n",
       "      <th>L</th>\n",
       "      <td>worst</td>\n",
       "      <td>0.00</td>\n",
       "      <td>-400.00</td>\n",
       "    </tr>\n",
       "    <tr>\n",
       "      <th>L</th>\n",
       "      <td>best</td>\n",
       "      <td>150.00</td>\n",
       "      <td>-50.00</td>\n",
       "    </tr>\n",
       "    <tr>\n",
       "      <th>w</th>\n",
       "      <td>NaN</td>\n",
       "      <td>0.70</td>\n",
       "      <td>0.30</td>\n",
       "    </tr>\n",
       "  </tbody>\n",
       "</table>\n",
       "</div>"
      ],
      "text/plain": [
       "                       profile  Saving/(kWh/m²/year)  Cost/(€/m²)\n",
       "type                                                             \n",
       "A         a1: Basic renovation                 50.00      -100.00\n",
       "A      a2: Moderate renovation                 80.00      -200.00\n",
       "A     a3: Extensive renovation                120.00      -350.00\n",
       "L                        worst                  0.00      -400.00\n",
       "L                         best                150.00       -50.00\n",
       "w                          NaN                  0.70         0.30"
      ]
     },
     "execution_count": 2,
     "metadata": {},
     "output_type": "execute_result"
    }
   ],
   "source": [
    "data_file = './data/default_categories.csv'\n",
    "pd.read_csv(data_file, index_col=0)"
   ]
  },
  {
   "cell_type": "markdown",
   "id": "312821be-e3fb-4afb-9ec3-55ab76e33536",
   "metadata": {},
   "source": [
    "### Base profiles, B\n",
    "\n",
    "In order to calculate the base profiles for each criterion, the range between the best and the worst levels `L` is divided in equidistant `n_base_profile` resulting in `n_base_profile + 1` categories. The default number of **base profiles** is 4, e.g.:\n",
    "1. b1: Threshold of Acceptability\n",
    "2. b2: Baseline Standard\n",
    "3. b3: Satisfactory Benchmark\n",
    "4. b4: Excellence Threshold\n",
    "\n",
    "that form 5 **categories**:\n",
    "1. **b1 >** below b1: very bad\n",
    "2. **(b1, b2)** between b1 and b2: bad\n",
    "3. **(b2, b3)** between b2 and b3: neutral\n",
    "4. **(b3, b4)** between b3 and b4: good\n",
    "5. **b4 <** above b4: very good."
   ]
  },
  {
   "cell_type": "markdown",
   "id": "90b447a2-6cec-481c-b346-db81b000ae2f",
   "metadata": {},
   "source": [
    "### Thresholds, T\n",
    "Indifference (q), preferrence (p), and veto (v) thresholds are calculated for each criterion as a percentage of the equidisttant range between two consecutive base profiles. Default values for the threshods are:\n",
    "- indifference: q = 10 %\n",
    "- preferrence: p = 25 %\n",
    "- veto: v = 50 %.\n",
    "\n",
    "Finally, the `credibility_threshold` (considered necessary to validate the statement \"alternative $a$ outranks base profile $b$\") is needed."
   ]
  },
  {
   "cell_type": "markdown",
   "id": "2d094b94-1e46-4adf-adda-5f03bf2c5472",
   "metadata": {},
   "source": [
    "### Problem solving"
   ]
  },
  {
   "cell_type": "code",
   "execution_count": 3,
   "id": "299d362d-cf7d-49bc-ae2e-3d971f6147ba",
   "metadata": {},
   "outputs": [],
   "source": [
    "opti, pessi = et.ELECTRE_Tri_equidistant_profiles(\n",
    "    data_file,\n",
    "    n_base_profile=4,\n",
    "    threshold_percent=[0.10, 0.25, 0.50],\n",
    "    credibility_threshold=0.7)"
   ]
  },
  {
   "cell_type": "markdown",
   "id": "b2683da5-8b21-4d10-9d32-d62720a74edd",
   "metadata": {},
   "source": [
    "### Optimistic and pessimistic sorting results"
   ]
  },
  {
   "cell_type": "code",
   "execution_count": 4,
   "id": "a2cb2d55-5a40-45a5-bf16-fb256713b755",
   "metadata": {},
   "outputs": [
    {
     "name": "stdout",
     "output_type": "stream",
     "text": [
      "\n",
      "Optimistic sorting\n"
     ]
    },
    {
     "data": {
      "text/html": [
       "<div>\n",
       "<style scoped>\n",
       "    .dataframe tbody tr th:only-of-type {\n",
       "        vertical-align: middle;\n",
       "    }\n",
       "\n",
       "    .dataframe tbody tr th {\n",
       "        vertical-align: top;\n",
       "    }\n",
       "\n",
       "    .dataframe thead th {\n",
       "        text-align: right;\n",
       "    }\n",
       "</style>\n",
       "<table border=\"1\" class=\"dataframe\">\n",
       "  <thead>\n",
       "    <tr style=\"text-align: right;\">\n",
       "      <th></th>\n",
       "      <th>alternatives</th>\n",
       "    </tr>\n",
       "    <tr>\n",
       "      <th>categories</th>\n",
       "      <th></th>\n",
       "    </tr>\n",
       "  </thead>\n",
       "  <tbody>\n",
       "    <tr>\n",
       "      <th>b1 &gt;</th>\n",
       "      <td>[]</td>\n",
       "    </tr>\n",
       "    <tr>\n",
       "      <th>(b1, b2)</th>\n",
       "      <td>[]</td>\n",
       "    </tr>\n",
       "    <tr>\n",
       "      <th>(b2, b3)</th>\n",
       "      <td>[a2: Moderate renovation]</td>\n",
       "    </tr>\n",
       "    <tr>\n",
       "      <th>(b3, b4)</th>\n",
       "      <td>[a3: Extensive renovation]</td>\n",
       "    </tr>\n",
       "    <tr>\n",
       "      <th>b4 &lt;</th>\n",
       "      <td>[a1: Basic renovation]</td>\n",
       "    </tr>\n",
       "  </tbody>\n",
       "</table>\n",
       "</div>"
      ],
      "text/plain": [
       "                          alternatives\n",
       "categories                            \n",
       "b1 >                                []\n",
       "(b1, b2)                            []\n",
       "(b2, b3)     [a2: Moderate renovation]\n",
       "(b3, b4)    [a3: Extensive renovation]\n",
       "b4 <            [a1: Basic renovation]"
      ]
     },
     "execution_count": 4,
     "metadata": {},
     "output_type": "execute_result"
    }
   ],
   "source": [
    "print('\\nOptimistic sorting')\n",
    "et.sort(opti).to_frame(name=\"alternatives\").rename_axis(\"categories\")"
   ]
  },
  {
   "cell_type": "code",
   "execution_count": 5,
   "id": "aae2059d-6de2-4e38-8a95-b58528008372",
   "metadata": {},
   "outputs": [
    {
     "name": "stdout",
     "output_type": "stream",
     "text": [
      "\n",
      "Pessimistic sorting\n"
     ]
    },
    {
     "data": {
      "text/html": [
       "<div>\n",
       "<style scoped>\n",
       "    .dataframe tbody tr th:only-of-type {\n",
       "        vertical-align: middle;\n",
       "    }\n",
       "\n",
       "    .dataframe tbody tr th {\n",
       "        vertical-align: top;\n",
       "    }\n",
       "\n",
       "    .dataframe thead th {\n",
       "        text-align: right;\n",
       "    }\n",
       "</style>\n",
       "<table border=\"1\" class=\"dataframe\">\n",
       "  <thead>\n",
       "    <tr style=\"text-align: right;\">\n",
       "      <th></th>\n",
       "      <th>alternatives</th>\n",
       "    </tr>\n",
       "    <tr>\n",
       "      <th>categories</th>\n",
       "      <th></th>\n",
       "    </tr>\n",
       "  </thead>\n",
       "  <tbody>\n",
       "    <tr>\n",
       "      <th>b1 &gt;</th>\n",
       "      <td>[a3: Extensive renovation]</td>\n",
       "    </tr>\n",
       "    <tr>\n",
       "      <th>(b1, b2)</th>\n",
       "      <td>[a1: Basic renovation]</td>\n",
       "    </tr>\n",
       "    <tr>\n",
       "      <th>(b2, b3)</th>\n",
       "      <td>[a2: Moderate renovation]</td>\n",
       "    </tr>\n",
       "    <tr>\n",
       "      <th>(b3, b4)</th>\n",
       "      <td>[]</td>\n",
       "    </tr>\n",
       "    <tr>\n",
       "      <th>b4 &lt;</th>\n",
       "      <td>[]</td>\n",
       "    </tr>\n",
       "  </tbody>\n",
       "</table>\n",
       "</div>"
      ],
      "text/plain": [
       "                          alternatives\n",
       "categories                            \n",
       "b1 >        [a3: Extensive renovation]\n",
       "(b1, b2)        [a1: Basic renovation]\n",
       "(b2, b3)     [a2: Moderate renovation]\n",
       "(b3, b4)                            []\n",
       "b4 <                                []"
      ]
     },
     "execution_count": 5,
     "metadata": {},
     "output_type": "execute_result"
    }
   ],
   "source": [
    "print('\\nPessimistic sorting')\n",
    "et.sort(pessi).to_frame(name=\"alternatives\").rename_axis(\"categories\")"
   ]
  },
  {
   "cell_type": "markdown",
   "id": "b6ae61e2-85b8-4a06-a452-5efb9f860f43",
   "metadata": {},
   "source": [
    "## Standard deviation method\n",
    "\n",
    "\n",
    "The decision maker needs to provide:\n",
    "- performance matrix;\n",
    "- weights of criteria.\n",
    "\n",
    "The parameters of ELECTRE Tri-B method (base profiles and thresholds) can be deduced from the performance matrix.\n",
    "\n",
    "### Performance matrix\n",
    "#### Alternatives\n",
    "- A1: Basic renovation\n",
    "- A2: Moderate renovation\n",
    "- A3: Extensive renovation\n",
    "\n",
    "#### Criteria\n",
    "- C1: Energy savings (kWh/m²/year): to be maximised\n",
    "- C2: Investment cost (€/m²): to be minimised\n",
    "\n",
    "#### Values in performance matrix\n",
    "\n",
    "| Alternative | c1/(kWh/m²/year)  | c2/(€/m²) |\n",
    "|-------------|-------------------|-----------|\n",
    "| a1          | 50                | -100      |\n",
    "| a2          | 80                | -200      |\n",
    "| a3          | 120               | -350      |\n",
    "\n",
    "**Note**: performance for criteria to be minimized are negative numbers."
   ]
  },
  {
   "cell_type": "code",
   "execution_count": 6,
   "id": "23cc099a-d0c2-45c1-b127-f796c3ce37e7",
   "metadata": {},
   "outputs": [
    {
     "name": "stdout",
     "output_type": "stream",
     "text": [
      "Performance matrix\n"
     ]
    },
    {
     "data": {
      "text/html": [
       "<div>\n",
       "<style scoped>\n",
       "    .dataframe tbody tr th:only-of-type {\n",
       "        vertical-align: middle;\n",
       "    }\n",
       "\n",
       "    .dataframe tbody tr th {\n",
       "        vertical-align: top;\n",
       "    }\n",
       "\n",
       "    .dataframe thead th {\n",
       "        text-align: right;\n",
       "    }\n",
       "</style>\n",
       "<table border=\"1\" class=\"dataframe\">\n",
       "  <thead>\n",
       "    <tr style=\"text-align: right;\">\n",
       "      <th></th>\n",
       "      <th>c1/(kWh/m²/year)</th>\n",
       "      <th>c2/(€/m²)</th>\n",
       "    </tr>\n",
       "    <tr>\n",
       "      <th>Alternative</th>\n",
       "      <th></th>\n",
       "      <th></th>\n",
       "    </tr>\n",
       "  </thead>\n",
       "  <tbody>\n",
       "    <tr>\n",
       "      <th>a1</th>\n",
       "      <td>50</td>\n",
       "      <td>-100</td>\n",
       "    </tr>\n",
       "    <tr>\n",
       "      <th>a2</th>\n",
       "      <td>80</td>\n",
       "      <td>-200</td>\n",
       "    </tr>\n",
       "    <tr>\n",
       "      <th>a3</th>\n",
       "      <td>120</td>\n",
       "      <td>-350</td>\n",
       "    </tr>\n",
       "  </tbody>\n",
       "</table>\n",
       "</div>"
      ],
      "text/plain": [
       "             c1/(kWh/m²/year)  c2/(€/m²)\n",
       "Alternative                             \n",
       "a1                         50       -100\n",
       "a2                         80       -200\n",
       "a3                        120       -350"
      ]
     },
     "execution_count": 6,
     "metadata": {},
     "output_type": "execute_result"
    }
   ],
   "source": [
    "data_file = './data/performance_matrix.csv'\n",
    "print(\"Performance matrix\")\n",
    "A = pd.read_csv(data_file, index_col=0)\n",
    "A"
   ]
  },
  {
   "cell_type": "code",
   "execution_count": 7,
   "id": "692ddb55-4b04-4a9e-bfd2-edade23e7dec",
   "metadata": {},
   "outputs": [],
   "source": [
    "A.columns = ['c1', 'c2']"
   ]
  },
  {
   "cell_type": "markdown",
   "id": "7f985142-8cfc-4b37-a05f-de7bcf34fc37",
   "metadata": {},
   "source": [
    "### Criteria weights\n",
    "\n",
    "The weights of the criteria can be estimated by using Simos' method ([Figueira, Roy 2002](https://doi.org/10.1016/S0377-2217(01)00370-8)). See folder `\\Simos_revised` of this repository. "
   ]
  },
  {
   "cell_type": "code",
   "execution_count": 8,
   "id": "5a2e4a83-ba77-4c48-80de-79ff462e4b0d",
   "metadata": {},
   "outputs": [
    {
     "name": "stdout",
     "output_type": "stream",
     "text": [
      "Weights \n",
      "\n"
     ]
    },
    {
     "data": {
      "text/html": [
       "<div>\n",
       "<style scoped>\n",
       "    .dataframe tbody tr th:only-of-type {\n",
       "        vertical-align: middle;\n",
       "    }\n",
       "\n",
       "    .dataframe tbody tr th {\n",
       "        vertical-align: top;\n",
       "    }\n",
       "\n",
       "    .dataframe thead th {\n",
       "        text-align: right;\n",
       "    }\n",
       "</style>\n",
       "<table border=\"1\" class=\"dataframe\">\n",
       "  <thead>\n",
       "    <tr style=\"text-align: right;\">\n",
       "      <th></th>\n",
       "      <th>c1</th>\n",
       "      <th>c2</th>\n",
       "    </tr>\n",
       "  </thead>\n",
       "  <tbody>\n",
       "    <tr>\n",
       "      <th>w</th>\n",
       "      <td>0.70</td>\n",
       "      <td>0.30</td>\n",
       "    </tr>\n",
       "  </tbody>\n",
       "</table>\n",
       "</div>"
      ],
      "text/plain": [
       "    c1   c2\n",
       "w 0.70 0.30"
      ]
     },
     "execution_count": 8,
     "metadata": {},
     "output_type": "execute_result"
    }
   ],
   "source": [
    "w = pd.Series({\n",
    "    'c1': 0.7,\n",
    "    'c2': 0.3\n",
    "})\n",
    "print('Weights \\n')\n",
    "w.to_frame().T.rename(index={0: 'w'})"
   ]
  },
  {
   "cell_type": "markdown",
   "id": "0849c7a8-f3ec-41b3-86be-776b299e3447",
   "metadata": {},
   "source": [
    "### Default parameters for ELECTRE Tri-B\n",
    "\n",
    "#### Statistics\n",
    "- C1: μ = 83.33, σ = 35.12\n",
    "- C2: μ = 216.67, σ = 125.83"
   ]
  },
  {
   "cell_type": "code",
   "execution_count": 9,
   "id": "eeb7f22f-0393-4336-99c5-a170025a7ef5",
   "metadata": {},
   "outputs": [
    {
     "data": {
      "text/html": [
       "<div>\n",
       "<style scoped>\n",
       "    .dataframe tbody tr th:only-of-type {\n",
       "        vertical-align: middle;\n",
       "    }\n",
       "\n",
       "    .dataframe tbody tr th {\n",
       "        vertical-align: top;\n",
       "    }\n",
       "\n",
       "    .dataframe thead th {\n",
       "        text-align: right;\n",
       "    }\n",
       "</style>\n",
       "<table border=\"1\" class=\"dataframe\">\n",
       "  <thead>\n",
       "    <tr style=\"text-align: right;\">\n",
       "      <th></th>\n",
       "      <th>c1</th>\n",
       "      <th>c2</th>\n",
       "    </tr>\n",
       "  </thead>\n",
       "  <tbody>\n",
       "    <tr>\n",
       "      <th>mean</th>\n",
       "      <td>83.33</td>\n",
       "      <td>-216.67</td>\n",
       "    </tr>\n",
       "    <tr>\n",
       "      <th>std</th>\n",
       "      <td>35.12</td>\n",
       "      <td>125.83</td>\n",
       "    </tr>\n",
       "  </tbody>\n",
       "</table>\n",
       "</div>"
      ],
      "text/plain": [
       "        c1      c2\n",
       "mean 83.33 -216.67\n",
       "std  35.12  125.83"
      ]
     },
     "execution_count": 9,
     "metadata": {},
     "output_type": "execute_result"
    }
   ],
   "source": [
    "A_stat = A.agg(['mean', 'std'])\n",
    "A_stat"
   ]
  },
  {
   "cell_type": "markdown",
   "id": "fb1f9a76-75e4-4063-89b7-e7dc6afb0498",
   "metadata": {},
   "source": [
    "#### Categories and base profiles\n",
    "\n",
    "We'll define 5 categories using μ and σ:\n",
    "\n",
    "1. Very Poor: < μ - σ\n",
    "2. Poor: μ - σ to μ - σ/2\n",
    "3. Average: μ - σ/2 to μ + σ/2\n",
    "4. Good: μ + σ/2 to μ + σ\n",
    "5. Very Good: > μ + σ\n",
    "\n",
    "using 4 base profiles (boundaries) between categories:\n",
    "1. Very Poor: μ - σ\n",
    "2. Poor: μ - σ/2\n",
    "3. Good: μ + σ/2\n",
    "4. Very Good: μ + σ"
   ]
  },
  {
   "cell_type": "code",
   "execution_count": 10,
   "id": "3ffab089-acf7-46c6-b8b3-4f762947c78b",
   "metadata": {},
   "outputs": [
    {
     "name": "stdout",
     "output_type": "stream",
     "text": [
      "Base profiles\n"
     ]
    },
    {
     "data": {
      "text/html": [
       "<div>\n",
       "<style scoped>\n",
       "    .dataframe tbody tr th:only-of-type {\n",
       "        vertical-align: middle;\n",
       "    }\n",
       "\n",
       "    .dataframe tbody tr th {\n",
       "        vertical-align: top;\n",
       "    }\n",
       "\n",
       "    .dataframe thead th {\n",
       "        text-align: right;\n",
       "    }\n",
       "</style>\n",
       "<table border=\"1\" class=\"dataframe\">\n",
       "  <thead>\n",
       "    <tr style=\"text-align: right;\">\n",
       "      <th></th>\n",
       "      <th>c1</th>\n",
       "      <th>c2</th>\n",
       "    </tr>\n",
       "  </thead>\n",
       "  <tbody>\n",
       "    <tr>\n",
       "      <th>Very Poor</th>\n",
       "      <td>48.21</td>\n",
       "      <td>-342.50</td>\n",
       "    </tr>\n",
       "    <tr>\n",
       "      <th>Poor</th>\n",
       "      <td>65.77</td>\n",
       "      <td>-279.58</td>\n",
       "    </tr>\n",
       "    <tr>\n",
       "      <th>Good</th>\n",
       "      <td>100.89</td>\n",
       "      <td>-153.75</td>\n",
       "    </tr>\n",
       "    <tr>\n",
       "      <th>Very Good</th>\n",
       "      <td>118.45</td>\n",
       "      <td>-90.84</td>\n",
       "    </tr>\n",
       "  </tbody>\n",
       "</table>\n",
       "</div>"
      ],
      "text/plain": [
       "              c1      c2\n",
       "Very Poor  48.21 -342.50\n",
       "Poor       65.77 -279.58\n",
       "Good      100.89 -153.75\n",
       "Very Good 118.45  -90.84"
      ]
     },
     "execution_count": 10,
     "metadata": {},
     "output_type": "execute_result"
    }
   ],
   "source": [
    "print(\"Base profiles\")\n",
    "# Define scaling factors for categories\n",
    "scales = np.array([-1, -0.5, 0.5, 1])  # Very Poor, Poor, Good, Very Good\n",
    "\n",
    "# Create DataFrame B with index\n",
    "B = pd.DataFrame(index=['Very Poor', 'Poor', 'Good', 'Very Good'],\n",
    "                 columns=A_stat.columns)\n",
    "\n",
    "# Calculate values for each column using broadcasting\n",
    "for col in A_stat.columns:\n",
    "    mean_value = A_stat.loc['mean', col]\n",
    "    std_value = A_stat.loc['std', col]\n",
    "    B[col] = mean_value + scales * std_value\n",
    "\n",
    "B"
   ]
  },
  {
   "cell_type": "markdown",
   "id": "ef2926f7-1e3d-41f1-9819-ed60e778c22e",
   "metadata": {},
   "source": [
    "#### Thresholds\n",
    "We'll calculate thresholds based on the interval between two base profiles:\n",
    "\n",
    "For example, for C1, the interval between profiles is:\n",
    "(118.45 - 48.21) / 4 = 17.56\n",
    "\n",
    "The thresholds are:\n",
    "- q (indifference): 10% of 17.56 = 1.76\n",
    "- p (preference): 25% of 17.56 = 4.39\n",
    "- v (veto): 50% of 17.56 = 8.78\n"
   ]
  },
  {
   "cell_type": "code",
   "execution_count": 11,
   "id": "d627a66e-e1ea-4428-a413-3f9aeeada66a",
   "metadata": {},
   "outputs": [
    {
     "data": {
      "text/html": [
       "<div>\n",
       "<style scoped>\n",
       "    .dataframe tbody tr th:only-of-type {\n",
       "        vertical-align: middle;\n",
       "    }\n",
       "\n",
       "    .dataframe tbody tr th {\n",
       "        vertical-align: top;\n",
       "    }\n",
       "\n",
       "    .dataframe thead th {\n",
       "        text-align: right;\n",
       "    }\n",
       "</style>\n",
       "<table border=\"1\" class=\"dataframe\">\n",
       "  <thead>\n",
       "    <tr style=\"text-align: right;\">\n",
       "      <th></th>\n",
       "      <th>c1</th>\n",
       "      <th>c2</th>\n",
       "    </tr>\n",
       "  </thead>\n",
       "  <tbody>\n",
       "    <tr>\n",
       "      <th>q</th>\n",
       "      <td>1.76</td>\n",
       "      <td>6.29</td>\n",
       "    </tr>\n",
       "    <tr>\n",
       "      <th>p</th>\n",
       "      <td>4.39</td>\n",
       "      <td>15.73</td>\n",
       "    </tr>\n",
       "    <tr>\n",
       "      <th>v</th>\n",
       "      <td>8.78</td>\n",
       "      <td>31.46</td>\n",
       "    </tr>\n",
       "  </tbody>\n",
       "</table>\n",
       "</div>"
      ],
      "text/plain": [
       "    c1    c2\n",
       "q 1.76  6.29\n",
       "p 4.39 15.73\n",
       "v 8.78 31.46"
      ]
     },
     "execution_count": 11,
     "metadata": {},
     "output_type": "execute_result"
    }
   ],
   "source": [
    "# Calculate thresholds for each column\n",
    "thresholds = {}\n",
    "for col in B.columns:\n",
    "    interval = (B[col].max() - B[col].min()) / B.shape[0]\n",
    "    thresholds[col] = {\n",
    "        'q': 0.10 * interval,\n",
    "        'p': 0.25 * interval,\n",
    "        'v': 0.50 * interval\n",
    "    }\n",
    "\n",
    "# Convert the thresholds dictionary to a DataFrame for clarity\n",
    "T = pd.DataFrame(thresholds)\n",
    "\n",
    "T"
   ]
  },
  {
   "cell_type": "markdown",
   "id": "55744ec5-d045-4d62-b5e2-a751cd35fd0d",
   "metadata": {},
   "source": [
    "### ELECTRE Tri solution"
   ]
  },
  {
   "cell_type": "code",
   "execution_count": 12,
   "id": "e43029ae-917b-4747-a3bb-7222218bfc98",
   "metadata": {},
   "outputs": [
    {
     "name": "stdout",
     "output_type": "stream",
     "text": [
      "\n",
      "Optimistic ranking:\n",
      "Alternative         a1   a2   a3\n",
      "Very Poor >        NaN  NaN  NaN\n",
      "(Very Poor, Poor)  NaN  NaN  NaN\n",
      "(Poor, Good)       NaN 1.00  NaN\n",
      "(Good, Very Good) 1.00  NaN 1.00\n",
      "Very Good <        NaN  NaN  NaN\n",
      "\n",
      "Pessimistic ranking:\n",
      "Alternative         a1   a2   a3\n",
      "Very Poor >        NaN  NaN  NaN\n",
      "(Very Poor, Poor) 1.00  NaN 1.00\n",
      "(Poor, Good)       NaN 1.00  NaN\n",
      "(Good, Very Good)  NaN  NaN  NaN\n",
      "Very Good <        NaN  NaN  NaN\n"
     ]
    }
   ],
   "source": [
    "opti, pessi = et.ELECTRE_Tri(A, B, T, w,\n",
    "                              credibility_threshold=0.7)\n",
    "print(\"\\nOptimistic ranking:\")\n",
    "print(opti)\n",
    "\n",
    "print(\"\\nPessimistic ranking:\")\n",
    "print(pessi)"
   ]
  },
  {
   "cell_type": "code",
   "execution_count": 13,
   "id": "6cb1b323-4df5-4eca-b639-62c608171c6a",
   "metadata": {},
   "outputs": [
    {
     "name": "stdout",
     "output_type": "stream",
     "text": [
      "Optimistic sorting\n"
     ]
    },
    {
     "data": {
      "text/html": [
       "<div>\n",
       "<style scoped>\n",
       "    .dataframe tbody tr th:only-of-type {\n",
       "        vertical-align: middle;\n",
       "    }\n",
       "\n",
       "    .dataframe tbody tr th {\n",
       "        vertical-align: top;\n",
       "    }\n",
       "\n",
       "    .dataframe thead th {\n",
       "        text-align: right;\n",
       "    }\n",
       "</style>\n",
       "<table border=\"1\" class=\"dataframe\">\n",
       "  <thead>\n",
       "    <tr style=\"text-align: right;\">\n",
       "      <th></th>\n",
       "      <th>alternatives</th>\n",
       "    </tr>\n",
       "    <tr>\n",
       "      <th>categories</th>\n",
       "      <th></th>\n",
       "    </tr>\n",
       "  </thead>\n",
       "  <tbody>\n",
       "    <tr>\n",
       "      <th>Very Poor &gt;</th>\n",
       "      <td>[]</td>\n",
       "    </tr>\n",
       "    <tr>\n",
       "      <th>(Very Poor, Poor)</th>\n",
       "      <td>[]</td>\n",
       "    </tr>\n",
       "    <tr>\n",
       "      <th>(Poor, Good)</th>\n",
       "      <td>[a2]</td>\n",
       "    </tr>\n",
       "    <tr>\n",
       "      <th>(Good, Very Good)</th>\n",
       "      <td>[a1, a3]</td>\n",
       "    </tr>\n",
       "    <tr>\n",
       "      <th>Very Good &lt;</th>\n",
       "      <td>[]</td>\n",
       "    </tr>\n",
       "  </tbody>\n",
       "</table>\n",
       "</div>"
      ],
      "text/plain": [
       "                  alternatives\n",
       "categories                    \n",
       "Very Poor >                 []\n",
       "(Very Poor, Poor)           []\n",
       "(Poor, Good)              [a2]\n",
       "(Good, Very Good)     [a1, a3]\n",
       "Very Good <                 []"
      ]
     },
     "execution_count": 13,
     "metadata": {},
     "output_type": "execute_result"
    }
   ],
   "source": [
    "print('Optimistic sorting')\n",
    "et.sort(opti).to_frame(name=\"alternatives\").rename_axis(\"categories\")"
   ]
  },
  {
   "cell_type": "code",
   "execution_count": 14,
   "id": "acbd5c95-0e15-40e1-9fa1-28830f3ec1fa",
   "metadata": {},
   "outputs": [
    {
     "name": "stdout",
     "output_type": "stream",
     "text": [
      "Pessimistic sorting\n"
     ]
    },
    {
     "data": {
      "text/html": [
       "<div>\n",
       "<style scoped>\n",
       "    .dataframe tbody tr th:only-of-type {\n",
       "        vertical-align: middle;\n",
       "    }\n",
       "\n",
       "    .dataframe tbody tr th {\n",
       "        vertical-align: top;\n",
       "    }\n",
       "\n",
       "    .dataframe thead th {\n",
       "        text-align: right;\n",
       "    }\n",
       "</style>\n",
       "<table border=\"1\" class=\"dataframe\">\n",
       "  <thead>\n",
       "    <tr style=\"text-align: right;\">\n",
       "      <th></th>\n",
       "      <th>alternatives</th>\n",
       "    </tr>\n",
       "    <tr>\n",
       "      <th>categories</th>\n",
       "      <th></th>\n",
       "    </tr>\n",
       "  </thead>\n",
       "  <tbody>\n",
       "    <tr>\n",
       "      <th>Very Poor &gt;</th>\n",
       "      <td>[]</td>\n",
       "    </tr>\n",
       "    <tr>\n",
       "      <th>(Very Poor, Poor)</th>\n",
       "      <td>[a1, a3]</td>\n",
       "    </tr>\n",
       "    <tr>\n",
       "      <th>(Poor, Good)</th>\n",
       "      <td>[a2]</td>\n",
       "    </tr>\n",
       "    <tr>\n",
       "      <th>(Good, Very Good)</th>\n",
       "      <td>[]</td>\n",
       "    </tr>\n",
       "    <tr>\n",
       "      <th>Very Good &lt;</th>\n",
       "      <td>[]</td>\n",
       "    </tr>\n",
       "  </tbody>\n",
       "</table>\n",
       "</div>"
      ],
      "text/plain": [
       "                  alternatives\n",
       "categories                    \n",
       "Very Poor >                 []\n",
       "(Very Poor, Poor)     [a1, a3]\n",
       "(Poor, Good)              [a2]\n",
       "(Good, Very Good)           []\n",
       "Very Good <                 []"
      ]
     },
     "execution_count": 14,
     "metadata": {},
     "output_type": "execute_result"
    }
   ],
   "source": [
    "print('Pessimistic sorting')\n",
    "et.sort(pessi).to_frame(name=\"alternatives\").rename_axis(\"categories\")"
   ]
  },
  {
   "cell_type": "markdown",
   "id": "ea051862-7fc2-452c-9be7-36fdac1a2d93",
   "metadata": {},
   "source": [
    "# References\n",
    "\n",
    "1. Daniel, S., & Ghiaus, C. (2023). Multi-Criteria Decision Analysis for Energy Retrofit of Residential Buildings: Methodology and Feedback from Real Application. Energies, 16(2), 902. https://doi.org/10.3390/en16020902 \n",
    "2. The, A. N., & Mousseau, V. (2002). Using assignment examples to infer category limits for the ELECTRE TRI method. Journal of Multi‐Criteria Decision Analysis, 11(1), 29-43. DOI: https://doi.org/10.1002/mcda.314\n",
    "3. Bouyssou, D., & Marchant, T. (2015). On the relations between ELECTRE TRI-B and ELECTRE TRI-C and on a new variant of ELECTRE TRI-B. European Journal of Operational Research, 242(1), 201-211. https://doi.org/10.1016/j.ejor.2014.09.057\n",
    "4. Figueira, J., Roy, B. (2002). Determining the weights of criteria in the ELECTRE type methods with a revised Simos' procedure. European journal of operational research, 139(2), 317-326. https://doi.org/10.1016/S0377-2217(01)00370-8"
   ]
  },
  {
   "cell_type": "code",
   "execution_count": null,
   "id": "cd483cc8-072c-4971-b648-131beba2aaec",
   "metadata": {},
   "outputs": [],
   "source": []
  }
 ],
 "metadata": {
  "kernelspec": {
   "display_name": "Python 3 (ipykernel)",
   "language": "python",
   "name": "python3"
  },
  "language_info": {
   "codemirror_mode": {
    "name": "ipython",
    "version": 3
   },
   "file_extension": ".py",
   "mimetype": "text/x-python",
   "name": "python",
   "nbconvert_exporter": "python",
   "pygments_lexer": "ipython3",
   "version": "3.11.7"
  }
 },
 "nbformat": 4,
 "nbformat_minor": 5
}
