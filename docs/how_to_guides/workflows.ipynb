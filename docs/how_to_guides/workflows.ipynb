{
 "cells": [
  {
   "cell_type": "markdown",
   "id": "adffd513-f88f-4384-80cd-5e8728d96492",
   "metadata": {},
   "source": [
    "<font size=\"6\">Workflows</font>\n",
    "\n",
    "[![Binder](https://mybinder.org/badge_logo.svg)](https://mybinder.org/v2/gh/cghiaus/ELECTRE_Tri/main?labpath=docs%2Fhow_to_guides%2Fworkflows.ipynb)\n",
    "\n",
    "Example of application of the four workflows for crisp and probabilsitic ELECTRE Tri-B with base profiles defined explicitly or calculated from extreme levels."
   ]
  },
  {
   "cell_type": "markdown",
   "id": "ed607a22-b5b7-43de-9499-c6e2118e5dc7",
   "metadata": {},
   "source": [
    "# Problem statement\n",
    "\n",
    "Let's consider the case of a bulding refurbushing.\n",
    "\n",
    "**Given:**\n",
    "\n",
    "- A set of criteria $\\{c_{k}\\}$:\n",
    "    - __c1: Saving (in kWh/m²/year)__ with weight $w = 0.7$\n",
    "    - __c2: Cost (in €/m²)__ with weight $w = 0.3$\n",
    "___\n",
    "- A set of alternatives $\\{a_{i}\\}$:\n",
    "   - __a1: Basic renovation__\n",
    "   - __a2: Moderate renovation__\n",
    "   - __a3: Extensive renovation__\n",
    "\n",
    "**Do:**\n",
    "- Classify the alternatives in categories using the four worflows are available in `electre_tri.py` module:\n",
    "\n",
    "|                 |ELECTRE Tri        | pELECTRE Tri      |\n",
    "|-----------------|-------------------|-------------------|\n",
    "| Base profiles   |`electre_tri_base` |`pelectre_tri_base`|\n",
    "| Extreme levels  |`electre_tri_level`|`electre_tri_level`|\n",
    "\n",
    "---\n",
    "\n",
    "**Available data:**\n",
    "\n",
    "|                 |ELECTRE Tri        | pELECTRE Tri      |\n",
    "|-----------------|-------------------|-------------------|\n",
    "| Base profiles   |`bldg_retrofit_base.csv` |`bldg_retrofit_base_std.csv`|\n",
    "| Extreme levels  |`bldg_retrofit_level.csv`|`bldg_retrofit_level_std.csv`|\n",
    "\n",
    "\n",
    "Note:\n",
    "\n",
    "- Performance matrix:\n",
    "  - Crisp values (_ELECTRE Tri_).\n",
    "  - Probabilistic values (_pELECTRE Tri_).\n",
    "\n",
    "- Base profiles:\n",
    "  - Explicitly defined _base profiles_.\n",
    "  - Defined as a number of equidistant ranges between _extreme levels."
   ]
  },
  {
   "cell_type": "markdown",
   "id": "4af58e70-5812-456d-8e5a-9df09f0cb0cf",
   "metadata": {},
   "source": [
    "# Imports\n",
    "\n",
    "Copy the module `electre_tri.py` in the working directory or add the path to the directory. "
   ]
  },
  {
   "cell_type": "code",
   "execution_count": 1,
   "id": "86e3c178-80b0-4c37-8fd1-ecd71b4d6d08",
   "metadata": {},
   "outputs": [],
   "source": [
    "\"\"\"\n",
    "Append `src/` directory to `path`\n",
    "\"\"\"\n",
    "import sys\n",
    "import os\n",
    "\n",
    "notebook_dir = os.path.dirname(os.path.abspath('__file__'))\n",
    "project_root = os.path.dirname(os.path.dirname(notebook_dir))\n",
    "\n",
    "src_dir = os.path.join(project_root, 'src')\n",
    "sys.path.append(src_dir)"
   ]
  },
  {
   "cell_type": "code",
   "execution_count": 2,
   "id": "769a20d7-a4b2-4659-ae67-04f206ffa86b",
   "metadata": {},
   "outputs": [],
   "source": [
    "import pandas as pd\n",
    "\n",
    "import electre_tri as et"
   ]
  },
  {
   "cell_type": "markdown",
   "id": "b5b62fcb-53d4-4da5-982a-4fae2a3c20aa",
   "metadata": {},
   "source": [
    "# ELECTRE Tri-B with base profiles defined explicitly\n",
    "\n",
    "Perform ELECTRE Tri-B with crisp values for the performance matrix A and explicitly defined base profiles B for categories. The indifference q, preference p and veto v thresholds are given explicitly."
   ]
  },
  {
   "cell_type": "code",
   "execution_count": 3,
   "id": "0073bbac-315c-466b-b08f-f26bb45df34a",
   "metadata": {},
   "outputs": [
    {
     "name": "stdout",
     "output_type": "stream",
     "text": [
      "Example of data file\n"
     ]
    },
    {
     "data": {
      "text/html": [
       "<div>\n",
       "<style scoped>\n",
       "    .dataframe tbody tr th:only-of-type {\n",
       "        vertical-align: middle;\n",
       "    }\n",
       "\n",
       "    .dataframe tbody tr th {\n",
       "        vertical-align: top;\n",
       "    }\n",
       "\n",
       "    .dataframe thead th {\n",
       "        text-align: right;\n",
       "    }\n",
       "</style>\n",
       "<table border=\"1\" class=\"dataframe\">\n",
       "  <thead>\n",
       "    <tr style=\"text-align: right;\">\n",
       "      <th></th>\n",
       "      <th>type</th>\n",
       "      <th>profile</th>\n",
       "      <th>Saving/(kWh/m²/year)</th>\n",
       "      <th>Cost/(€/m²)</th>\n",
       "    </tr>\n",
       "  </thead>\n",
       "  <tbody>\n",
       "    <tr>\n",
       "      <th>0</th>\n",
       "      <td>A</td>\n",
       "      <td>a1: Basic</td>\n",
       "      <td>50.0</td>\n",
       "      <td>-100.0</td>\n",
       "    </tr>\n",
       "    <tr>\n",
       "      <th>1</th>\n",
       "      <td>A</td>\n",
       "      <td>a2: Moderate</td>\n",
       "      <td>80.0</td>\n",
       "      <td>-200.0</td>\n",
       "    </tr>\n",
       "    <tr>\n",
       "      <th>2</th>\n",
       "      <td>A</td>\n",
       "      <td>a3: Extensive</td>\n",
       "      <td>120.0</td>\n",
       "      <td>-350.0</td>\n",
       "    </tr>\n",
       "    <tr>\n",
       "      <th>3</th>\n",
       "      <td>B</td>\n",
       "      <td>bad</td>\n",
       "      <td>50.0</td>\n",
       "      <td>-300.0</td>\n",
       "    </tr>\n",
       "    <tr>\n",
       "      <th>4</th>\n",
       "      <td>B</td>\n",
       "      <td>good</td>\n",
       "      <td>100.0</td>\n",
       "      <td>-100.0</td>\n",
       "    </tr>\n",
       "    <tr>\n",
       "      <th>5</th>\n",
       "      <td>T</td>\n",
       "      <td>q</td>\n",
       "      <td>5.0</td>\n",
       "      <td>10.0</td>\n",
       "    </tr>\n",
       "    <tr>\n",
       "      <th>6</th>\n",
       "      <td>T</td>\n",
       "      <td>p</td>\n",
       "      <td>10.0</td>\n",
       "      <td>25.0</td>\n",
       "    </tr>\n",
       "    <tr>\n",
       "      <th>7</th>\n",
       "      <td>T</td>\n",
       "      <td>v</td>\n",
       "      <td>20.0</td>\n",
       "      <td>50.0</td>\n",
       "    </tr>\n",
       "    <tr>\n",
       "      <th>8</th>\n",
       "      <td>w</td>\n",
       "      <td>NaN</td>\n",
       "      <td>0.7</td>\n",
       "      <td>0.3</td>\n",
       "    </tr>\n",
       "  </tbody>\n",
       "</table>\n",
       "</div>"
      ],
      "text/plain": [
       "  type        profile  Saving/(kWh/m²/year)  Cost/(€/m²)\n",
       "0    A      a1: Basic                  50.0       -100.0\n",
       "1    A   a2: Moderate                  80.0       -200.0\n",
       "2    A  a3: Extensive                 120.0       -350.0\n",
       "3    B            bad                  50.0       -300.0\n",
       "4    B           good                 100.0       -100.0\n",
       "5    T              q                   5.0         10.0\n",
       "6    T              p                  10.0         25.0\n",
       "7    T              v                  20.0         50.0\n",
       "8    w            NaN                   0.7          0.3"
      ]
     },
     "execution_count": 3,
     "metadata": {},
     "output_type": "execute_result"
    }
   ],
   "source": [
    "data_file = \"../../data/bldg_retrofit_base.csv\"\n",
    "print(\"Example of data file\")\n",
    "pd.read_csv(data_file)"
   ]
  },
  {
   "cell_type": "code",
   "execution_count": 4,
   "id": "979cdfad-4f95-408d-a8bf-69956984d1aa",
   "metadata": {},
   "outputs": [],
   "source": [
    "opti, pessi = et.electre_tri_base(\n",
    "    data_file,\n",
    "    credibility_threshold=0.75)"
   ]
  },
  {
   "cell_type": "code",
   "execution_count": 5,
   "id": "2e5de772-14e6-4dad-ad48-15787f212e47",
   "metadata": {},
   "outputs": [
    {
     "name": "stdout",
     "output_type": "stream",
     "text": [
      "Crisp optimistic ranking\n"
     ]
    },
    {
     "data": {
      "text/html": [
       "<div>\n",
       "<style scoped>\n",
       "    .dataframe tbody tr th:only-of-type {\n",
       "        vertical-align: middle;\n",
       "    }\n",
       "\n",
       "    .dataframe tbody tr th {\n",
       "        vertical-align: top;\n",
       "    }\n",
       "\n",
       "    .dataframe thead th {\n",
       "        text-align: right;\n",
       "    }\n",
       "</style>\n",
       "<table border=\"1\" class=\"dataframe\">\n",
       "  <thead>\n",
       "    <tr style=\"text-align: right;\">\n",
       "      <th></th>\n",
       "      <th>a1: Basic</th>\n",
       "      <th>a2: Moderate</th>\n",
       "      <th>a3: Extensive</th>\n",
       "    </tr>\n",
       "  </thead>\n",
       "  <tbody>\n",
       "    <tr>\n",
       "      <th>bad ≻</th>\n",
       "      <td>NaN</td>\n",
       "      <td>NaN</td>\n",
       "      <td>NaN</td>\n",
       "    </tr>\n",
       "    <tr>\n",
       "      <th>(bad, good)</th>\n",
       "      <td>1.0</td>\n",
       "      <td>1.0</td>\n",
       "      <td>NaN</td>\n",
       "    </tr>\n",
       "    <tr>\n",
       "      <th>good ≺</th>\n",
       "      <td>NaN</td>\n",
       "      <td>NaN</td>\n",
       "      <td>1.0</td>\n",
       "    </tr>\n",
       "  </tbody>\n",
       "</table>\n",
       "</div>"
      ],
      "text/plain": [
       "             a1: Basic  a2: Moderate  a3: Extensive\n",
       "bad ≻              NaN           NaN            NaN\n",
       "(bad, good)        1.0           1.0            NaN\n",
       "good ≺             NaN           NaN            1.0"
      ]
     },
     "execution_count": 5,
     "metadata": {},
     "output_type": "execute_result"
    }
   ],
   "source": [
    "print(\"Crisp optimistic ranking\")\n",
    "opti"
   ]
  },
  {
   "cell_type": "code",
   "execution_count": 6,
   "id": "4a357896-9dcb-4bd9-8c03-d9e3e373d835",
   "metadata": {},
   "outputs": [
    {
     "name": "stdout",
     "output_type": "stream",
     "text": [
      "Crisp pessimistic ranking:\n"
     ]
    },
    {
     "data": {
      "text/html": [
       "<div>\n",
       "<style scoped>\n",
       "    .dataframe tbody tr th:only-of-type {\n",
       "        vertical-align: middle;\n",
       "    }\n",
       "\n",
       "    .dataframe tbody tr th {\n",
       "        vertical-align: top;\n",
       "    }\n",
       "\n",
       "    .dataframe thead th {\n",
       "        text-align: right;\n",
       "    }\n",
       "</style>\n",
       "<table border=\"1\" class=\"dataframe\">\n",
       "  <thead>\n",
       "    <tr style=\"text-align: right;\">\n",
       "      <th></th>\n",
       "      <th>a1: Basic</th>\n",
       "      <th>a2: Moderate</th>\n",
       "      <th>a3: Extensive</th>\n",
       "    </tr>\n",
       "  </thead>\n",
       "  <tbody>\n",
       "    <tr>\n",
       "      <th>bad ≻</th>\n",
       "      <td>NaN</td>\n",
       "      <td>NaN</td>\n",
       "      <td>1.0</td>\n",
       "    </tr>\n",
       "    <tr>\n",
       "      <th>(bad, good)</th>\n",
       "      <td>1.0</td>\n",
       "      <td>1.0</td>\n",
       "      <td>NaN</td>\n",
       "    </tr>\n",
       "    <tr>\n",
       "      <th>good ≺</th>\n",
       "      <td>NaN</td>\n",
       "      <td>NaN</td>\n",
       "      <td>NaN</td>\n",
       "    </tr>\n",
       "  </tbody>\n",
       "</table>\n",
       "</div>"
      ],
      "text/plain": [
       "             a1: Basic  a2: Moderate  a3: Extensive\n",
       "bad ≻              NaN           NaN            1.0\n",
       "(bad, good)        1.0           1.0            NaN\n",
       "good ≺             NaN           NaN            NaN"
      ]
     },
     "execution_count": 6,
     "metadata": {},
     "output_type": "execute_result"
    }
   ],
   "source": [
    "print(\"Crisp pessimistic ranking:\")\n",
    "pessi"
   ]
  },
  {
   "cell_type": "markdown",
   "id": "55a275d7-a277-4658-8ae7-23a933ff18fa",
   "metadata": {},
   "source": [
    "# ELECTRE Tri-B with base profiles from worst & best levels\n",
    "\n",
    "Perform ELECTRE Tri-B with crisp values for the performance matrix A and base profiles for categories defined from extreme levels L. The indifference, preference and veto thresholds are given as a percentage of the range between two consecutive equidistant base profiles."
   ]
  },
  {
   "cell_type": "code",
   "execution_count": 7,
   "id": "a77365b5-7661-4075-a1c3-3c629e597da3",
   "metadata": {},
   "outputs": [
    {
     "name": "stdout",
     "output_type": "stream",
     "text": [
      "Example of data file\n"
     ]
    },
    {
     "data": {
      "text/html": [
       "<div>\n",
       "<style scoped>\n",
       "    .dataframe tbody tr th:only-of-type {\n",
       "        vertical-align: middle;\n",
       "    }\n",
       "\n",
       "    .dataframe tbody tr th {\n",
       "        vertical-align: top;\n",
       "    }\n",
       "\n",
       "    .dataframe thead th {\n",
       "        text-align: right;\n",
       "    }\n",
       "</style>\n",
       "<table border=\"1\" class=\"dataframe\">\n",
       "  <thead>\n",
       "    <tr style=\"text-align: right;\">\n",
       "      <th></th>\n",
       "      <th>type</th>\n",
       "      <th>profile</th>\n",
       "      <th>Saving/(kWh/m²/year)</th>\n",
       "      <th>Cost/(€/m²)</th>\n",
       "    </tr>\n",
       "  </thead>\n",
       "  <tbody>\n",
       "    <tr>\n",
       "      <th>0</th>\n",
       "      <td>A</td>\n",
       "      <td>a1: Basic</td>\n",
       "      <td>50.0</td>\n",
       "      <td>-100.0</td>\n",
       "    </tr>\n",
       "    <tr>\n",
       "      <th>1</th>\n",
       "      <td>A</td>\n",
       "      <td>a2: Moderate</td>\n",
       "      <td>80.0</td>\n",
       "      <td>-200.0</td>\n",
       "    </tr>\n",
       "    <tr>\n",
       "      <th>2</th>\n",
       "      <td>A</td>\n",
       "      <td>a3: Extensive</td>\n",
       "      <td>120.0</td>\n",
       "      <td>-350.0</td>\n",
       "    </tr>\n",
       "    <tr>\n",
       "      <th>3</th>\n",
       "      <td>L</td>\n",
       "      <td>worst</td>\n",
       "      <td>0.0</td>\n",
       "      <td>-300.0</td>\n",
       "    </tr>\n",
       "    <tr>\n",
       "      <th>4</th>\n",
       "      <td>L</td>\n",
       "      <td>best</td>\n",
       "      <td>150.0</td>\n",
       "      <td>0.0</td>\n",
       "    </tr>\n",
       "    <tr>\n",
       "      <th>5</th>\n",
       "      <td>w</td>\n",
       "      <td>NaN</td>\n",
       "      <td>0.7</td>\n",
       "      <td>0.3</td>\n",
       "    </tr>\n",
       "  </tbody>\n",
       "</table>\n",
       "</div>"
      ],
      "text/plain": [
       "  type        profile  Saving/(kWh/m²/year)  Cost/(€/m²)\n",
       "0    A      a1: Basic                  50.0       -100.0\n",
       "1    A   a2: Moderate                  80.0       -200.0\n",
       "2    A  a3: Extensive                 120.0       -350.0\n",
       "3    L          worst                   0.0       -300.0\n",
       "4    L           best                 150.0          0.0\n",
       "5    w            NaN                   0.7          0.3"
      ]
     },
     "execution_count": 7,
     "metadata": {},
     "output_type": "execute_result"
    }
   ],
   "source": [
    "data_file = \"../../data/bldg_retrofit_level.csv\"\n",
    "print(\"Example of data file\")\n",
    "pd.read_csv(data_file)"
   ]
  },
  {
   "cell_type": "code",
   "execution_count": 8,
   "id": "35f969da-b04a-4ff6-ba25-4204ecb2180f",
   "metadata": {},
   "outputs": [],
   "source": [
    "opti, pessi = et.electre_tri_level(\n",
    "    data_file,\n",
    "    n_base_profile=2,\n",
    "    threshold_percent=[0.10, 0.25, 0.50],\n",
    "    credibility_threshold=0.75)"
   ]
  },
  {
   "cell_type": "code",
   "execution_count": 9,
   "id": "7c79cda1-0b6d-42d6-90a1-277d8f89a570",
   "metadata": {},
   "outputs": [
    {
     "name": "stdout",
     "output_type": "stream",
     "text": [
      "Crisp optimistic ranking:\n"
     ]
    },
    {
     "data": {
      "text/html": [
       "<div>\n",
       "<style scoped>\n",
       "    .dataframe tbody tr th:only-of-type {\n",
       "        vertical-align: middle;\n",
       "    }\n",
       "\n",
       "    .dataframe tbody tr th {\n",
       "        vertical-align: top;\n",
       "    }\n",
       "\n",
       "    .dataframe thead th {\n",
       "        text-align: right;\n",
       "    }\n",
       "</style>\n",
       "<table border=\"1\" class=\"dataframe\">\n",
       "  <thead>\n",
       "    <tr style=\"text-align: right;\">\n",
       "      <th></th>\n",
       "      <th>a1: Basic</th>\n",
       "      <th>a2: Moderate</th>\n",
       "      <th>a3: Extensive</th>\n",
       "    </tr>\n",
       "  </thead>\n",
       "  <tbody>\n",
       "    <tr>\n",
       "      <th>b1 ≻</th>\n",
       "      <td>NaN</td>\n",
       "      <td>NaN</td>\n",
       "      <td>NaN</td>\n",
       "    </tr>\n",
       "    <tr>\n",
       "      <th>(b1, b2)</th>\n",
       "      <td>1.0</td>\n",
       "      <td>1.0</td>\n",
       "      <td>NaN</td>\n",
       "    </tr>\n",
       "    <tr>\n",
       "      <th>b2 ≺</th>\n",
       "      <td>NaN</td>\n",
       "      <td>NaN</td>\n",
       "      <td>1.0</td>\n",
       "    </tr>\n",
       "  </tbody>\n",
       "</table>\n",
       "</div>"
      ],
      "text/plain": [
       "          a1: Basic  a2: Moderate  a3: Extensive\n",
       "b1 ≻            NaN           NaN            NaN\n",
       "(b1, b2)        1.0           1.0            NaN\n",
       "b2 ≺            NaN           NaN            1.0"
      ]
     },
     "execution_count": 9,
     "metadata": {},
     "output_type": "execute_result"
    }
   ],
   "source": [
    "print(\"Crisp optimistic ranking:\")\n",
    "opti"
   ]
  },
  {
   "cell_type": "code",
   "execution_count": 10,
   "id": "4cc0d9c9-45ee-4ecb-b2ab-7657d58acfe8",
   "metadata": {},
   "outputs": [
    {
     "name": "stdout",
     "output_type": "stream",
     "text": [
      "Crisp pessimistic ranking:\n"
     ]
    },
    {
     "data": {
      "text/html": [
       "<div>\n",
       "<style scoped>\n",
       "    .dataframe tbody tr th:only-of-type {\n",
       "        vertical-align: middle;\n",
       "    }\n",
       "\n",
       "    .dataframe tbody tr th {\n",
       "        vertical-align: top;\n",
       "    }\n",
       "\n",
       "    .dataframe thead th {\n",
       "        text-align: right;\n",
       "    }\n",
       "</style>\n",
       "<table border=\"1\" class=\"dataframe\">\n",
       "  <thead>\n",
       "    <tr style=\"text-align: right;\">\n",
       "      <th></th>\n",
       "      <th>a1: Basic</th>\n",
       "      <th>a2: Moderate</th>\n",
       "      <th>a3: Extensive</th>\n",
       "    </tr>\n",
       "  </thead>\n",
       "  <tbody>\n",
       "    <tr>\n",
       "      <th>b1 ≻</th>\n",
       "      <td>NaN</td>\n",
       "      <td>NaN</td>\n",
       "      <td>1.0</td>\n",
       "    </tr>\n",
       "    <tr>\n",
       "      <th>(b1, b2)</th>\n",
       "      <td>1.0</td>\n",
       "      <td>1.0</td>\n",
       "      <td>NaN</td>\n",
       "    </tr>\n",
       "    <tr>\n",
       "      <th>b2 ≺</th>\n",
       "      <td>NaN</td>\n",
       "      <td>NaN</td>\n",
       "      <td>NaN</td>\n",
       "    </tr>\n",
       "  </tbody>\n",
       "</table>\n",
       "</div>"
      ],
      "text/plain": [
       "          a1: Basic  a2: Moderate  a3: Extensive\n",
       "b1 ≻            NaN           NaN            1.0\n",
       "(b1, b2)        1.0           1.0            NaN\n",
       "b2 ≺            NaN           NaN            NaN"
      ]
     },
     "execution_count": 10,
     "metadata": {},
     "output_type": "execute_result"
    }
   ],
   "source": [
    "print(\"Crisp pessimistic ranking:\")\n",
    "pessi"
   ]
  },
  {
   "cell_type": "markdown",
   "id": "7b8a34f7-83a6-4424-811f-aa2d70b44f86",
   "metadata": {},
   "source": [
    "# Probabilistic ELECTRE Tri-B with base profiles defined explicitly\n",
    "\n",
    "Perform pELECTRE Tri-B with probabilistic values S for the performance matrix A and explicitly defined base profiles B for categories. The indifference q, preference p and veto v thresholds are given explicitly."
   ]
  },
  {
   "cell_type": "code",
   "execution_count": 11,
   "id": "5060223e-40a0-40fe-b39b-5daaf037fe6e",
   "metadata": {},
   "outputs": [
    {
     "name": "stdout",
     "output_type": "stream",
     "text": [
      "Example of data file\n"
     ]
    },
    {
     "data": {
      "text/html": [
       "<div>\n",
       "<style scoped>\n",
       "    .dataframe tbody tr th:only-of-type {\n",
       "        vertical-align: middle;\n",
       "    }\n",
       "\n",
       "    .dataframe tbody tr th {\n",
       "        vertical-align: top;\n",
       "    }\n",
       "\n",
       "    .dataframe thead th {\n",
       "        text-align: right;\n",
       "    }\n",
       "</style>\n",
       "<table border=\"1\" class=\"dataframe\">\n",
       "  <thead>\n",
       "    <tr style=\"text-align: right;\">\n",
       "      <th></th>\n",
       "      <th>type</th>\n",
       "      <th>profile</th>\n",
       "      <th>Saving/(kWh/m²/year)</th>\n",
       "      <th>Cost/(€/m²)</th>\n",
       "    </tr>\n",
       "  </thead>\n",
       "  <tbody>\n",
       "    <tr>\n",
       "      <th>0</th>\n",
       "      <td>A</td>\n",
       "      <td>a1: Basic</td>\n",
       "      <td>50.0</td>\n",
       "      <td>-100.0</td>\n",
       "    </tr>\n",
       "    <tr>\n",
       "      <th>1</th>\n",
       "      <td>A</td>\n",
       "      <td>a2: Moderate</td>\n",
       "      <td>80.0</td>\n",
       "      <td>-200.0</td>\n",
       "    </tr>\n",
       "    <tr>\n",
       "      <th>2</th>\n",
       "      <td>A</td>\n",
       "      <td>a3: Extensive</td>\n",
       "      <td>120.0</td>\n",
       "      <td>-350.0</td>\n",
       "    </tr>\n",
       "    <tr>\n",
       "      <th>3</th>\n",
       "      <td>S</td>\n",
       "      <td>a1: Basic</td>\n",
       "      <td>5.0</td>\n",
       "      <td>10.0</td>\n",
       "    </tr>\n",
       "    <tr>\n",
       "      <th>4</th>\n",
       "      <td>S</td>\n",
       "      <td>a2: Moderate</td>\n",
       "      <td>8.0</td>\n",
       "      <td>20.0</td>\n",
       "    </tr>\n",
       "    <tr>\n",
       "      <th>5</th>\n",
       "      <td>S</td>\n",
       "      <td>a3: Extensive</td>\n",
       "      <td>12.0</td>\n",
       "      <td>35.0</td>\n",
       "    </tr>\n",
       "    <tr>\n",
       "      <th>6</th>\n",
       "      <td>B</td>\n",
       "      <td>bad</td>\n",
       "      <td>50.0</td>\n",
       "      <td>-200.0</td>\n",
       "    </tr>\n",
       "    <tr>\n",
       "      <th>7</th>\n",
       "      <td>B</td>\n",
       "      <td>good</td>\n",
       "      <td>100.0</td>\n",
       "      <td>-100.0</td>\n",
       "    </tr>\n",
       "    <tr>\n",
       "      <th>8</th>\n",
       "      <td>T</td>\n",
       "      <td>q</td>\n",
       "      <td>5.0</td>\n",
       "      <td>10.0</td>\n",
       "    </tr>\n",
       "    <tr>\n",
       "      <th>9</th>\n",
       "      <td>T</td>\n",
       "      <td>p</td>\n",
       "      <td>12.5</td>\n",
       "      <td>25.0</td>\n",
       "    </tr>\n",
       "    <tr>\n",
       "      <th>10</th>\n",
       "      <td>T</td>\n",
       "      <td>v</td>\n",
       "      <td>25.0</td>\n",
       "      <td>50.0</td>\n",
       "    </tr>\n",
       "    <tr>\n",
       "      <th>11</th>\n",
       "      <td>w</td>\n",
       "      <td>NaN</td>\n",
       "      <td>0.7</td>\n",
       "      <td>0.3</td>\n",
       "    </tr>\n",
       "  </tbody>\n",
       "</table>\n",
       "</div>"
      ],
      "text/plain": [
       "   type        profile  Saving/(kWh/m²/year)  Cost/(€/m²)\n",
       "0     A      a1: Basic                  50.0       -100.0\n",
       "1     A   a2: Moderate                  80.0       -200.0\n",
       "2     A  a3: Extensive                 120.0       -350.0\n",
       "3     S      a1: Basic                   5.0         10.0\n",
       "4     S   a2: Moderate                   8.0         20.0\n",
       "5     S  a3: Extensive                  12.0         35.0\n",
       "6     B            bad                  50.0       -200.0\n",
       "7     B           good                 100.0       -100.0\n",
       "8     T              q                   5.0         10.0\n",
       "9     T              p                  12.5         25.0\n",
       "10    T              v                  25.0         50.0\n",
       "11    w            NaN                   0.7          0.3"
      ]
     },
     "execution_count": 11,
     "metadata": {},
     "output_type": "execute_result"
    }
   ],
   "source": [
    "data_file = \"../../data/bldg_retrofit_base_std.csv\"\n",
    "print(\"Example of data file\")\n",
    "pd.read_csv(data_file)"
   ]
  },
  {
   "cell_type": "code",
   "execution_count": 12,
   "id": "e7ab20cd-dd02-4825-b765-809583223aa7",
   "metadata": {},
   "outputs": [],
   "source": [
    "opti, pessi = et.pelectre_tri_base(\n",
    "    data_file,\n",
    "    credibility_threshold=0.75,\n",
    "    n_simulations=100,\n",
    "    seed=123)"
   ]
  },
  {
   "cell_type": "code",
   "execution_count": 13,
   "id": "be31cd7c-4f28-4b88-93a8-a2f7e8de3622",
   "metadata": {},
   "outputs": [
    {
     "name": "stdout",
     "output_type": "stream",
     "text": [
      "Probabilistic optimistic ranking:\n"
     ]
    },
    {
     "data": {
      "text/html": [
       "<div>\n",
       "<style scoped>\n",
       "    .dataframe tbody tr th:only-of-type {\n",
       "        vertical-align: middle;\n",
       "    }\n",
       "\n",
       "    .dataframe tbody tr th {\n",
       "        vertical-align: top;\n",
       "    }\n",
       "\n",
       "    .dataframe thead th {\n",
       "        text-align: right;\n",
       "    }\n",
       "</style>\n",
       "<table border=\"1\" class=\"dataframe\">\n",
       "  <thead>\n",
       "    <tr style=\"text-align: right;\">\n",
       "      <th></th>\n",
       "      <th>a1: Basic</th>\n",
       "      <th>a2: Moderate</th>\n",
       "      <th>a3: Extensive</th>\n",
       "    </tr>\n",
       "  </thead>\n",
       "  <tbody>\n",
       "    <tr>\n",
       "      <th>bad ≻</th>\n",
       "      <td>NaN</td>\n",
       "      <td>NaN</td>\n",
       "      <td>NaN</td>\n",
       "    </tr>\n",
       "    <tr>\n",
       "      <th>(bad, good)</th>\n",
       "      <td>1.0</td>\n",
       "      <td>1.0</td>\n",
       "      <td>0.15</td>\n",
       "    </tr>\n",
       "    <tr>\n",
       "      <th>good ≺</th>\n",
       "      <td>NaN</td>\n",
       "      <td>NaN</td>\n",
       "      <td>0.85</td>\n",
       "    </tr>\n",
       "  </tbody>\n",
       "</table>\n",
       "</div>"
      ],
      "text/plain": [
       "             a1: Basic  a2: Moderate  a3: Extensive\n",
       "bad ≻              NaN           NaN            NaN\n",
       "(bad, good)        1.0           1.0           0.15\n",
       "good ≺             NaN           NaN           0.85"
      ]
     },
     "execution_count": 13,
     "metadata": {},
     "output_type": "execute_result"
    }
   ],
   "source": [
    "print(\"Probabilistic optimistic ranking:\")\n",
    "opti"
   ]
  },
  {
   "cell_type": "code",
   "execution_count": 14,
   "id": "4661d875-c2eb-43e8-bfac-adb5c6596661",
   "metadata": {},
   "outputs": [
    {
     "name": "stdout",
     "output_type": "stream",
     "text": [
      "Probabilistic pessimistic ranking:\n"
     ]
    },
    {
     "data": {
      "text/html": [
       "<div>\n",
       "<style scoped>\n",
       "    .dataframe tbody tr th:only-of-type {\n",
       "        vertical-align: middle;\n",
       "    }\n",
       "\n",
       "    .dataframe tbody tr th {\n",
       "        vertical-align: top;\n",
       "    }\n",
       "\n",
       "    .dataframe thead th {\n",
       "        text-align: right;\n",
       "    }\n",
       "</style>\n",
       "<table border=\"1\" class=\"dataframe\">\n",
       "  <thead>\n",
       "    <tr style=\"text-align: right;\">\n",
       "      <th></th>\n",
       "      <th>a1: Basic</th>\n",
       "      <th>a2: Moderate</th>\n",
       "      <th>a3: Extensive</th>\n",
       "    </tr>\n",
       "  </thead>\n",
       "  <tbody>\n",
       "    <tr>\n",
       "      <th>bad ≻</th>\n",
       "      <td>0.02</td>\n",
       "      <td>0.11</td>\n",
       "      <td>1.0</td>\n",
       "    </tr>\n",
       "    <tr>\n",
       "      <th>(bad, good)</th>\n",
       "      <td>0.98</td>\n",
       "      <td>0.89</td>\n",
       "      <td>NaN</td>\n",
       "    </tr>\n",
       "    <tr>\n",
       "      <th>good ≺</th>\n",
       "      <td>NaN</td>\n",
       "      <td>NaN</td>\n",
       "      <td>NaN</td>\n",
       "    </tr>\n",
       "  </tbody>\n",
       "</table>\n",
       "</div>"
      ],
      "text/plain": [
       "             a1: Basic  a2: Moderate  a3: Extensive\n",
       "bad ≻             0.02          0.11            1.0\n",
       "(bad, good)       0.98          0.89            NaN\n",
       "good ≺             NaN           NaN            NaN"
      ]
     },
     "execution_count": 14,
     "metadata": {},
     "output_type": "execute_result"
    }
   ],
   "source": [
    "print(\"Probabilistic pessimistic ranking:\")\n",
    "pessi"
   ]
  },
  {
   "cell_type": "markdown",
   "id": "b1048a36-d1fc-4a48-80c5-d39fc60b30b5",
   "metadata": {},
   "source": [
    "# Probabilistic ELECTRE Tri-B with base profiles from worst & best levels\n",
    "\n",
    "Perform pELECTRE Tri-B with probabilistic values S for the performance matrix A and base profiles for categories defined from extreme levels L. The indifference, preference and veto thresholds are given as a percentage of the range between two consecutive equidistant base profiles."
   ]
  },
  {
   "cell_type": "code",
   "execution_count": 15,
   "id": "e7578606-0dc3-4818-a2b7-7f38b9593ed1",
   "metadata": {},
   "outputs": [
    {
     "name": "stdout",
     "output_type": "stream",
     "text": [
      "Example of data file\n"
     ]
    },
    {
     "data": {
      "text/html": [
       "<div>\n",
       "<style scoped>\n",
       "    .dataframe tbody tr th:only-of-type {\n",
       "        vertical-align: middle;\n",
       "    }\n",
       "\n",
       "    .dataframe tbody tr th {\n",
       "        vertical-align: top;\n",
       "    }\n",
       "\n",
       "    .dataframe thead th {\n",
       "        text-align: right;\n",
       "    }\n",
       "</style>\n",
       "<table border=\"1\" class=\"dataframe\">\n",
       "  <thead>\n",
       "    <tr style=\"text-align: right;\">\n",
       "      <th></th>\n",
       "      <th>type</th>\n",
       "      <th>profile</th>\n",
       "      <th>Saving/(kWh/m²/year)</th>\n",
       "      <th>Cost/(€/m²)</th>\n",
       "    </tr>\n",
       "  </thead>\n",
       "  <tbody>\n",
       "    <tr>\n",
       "      <th>0</th>\n",
       "      <td>A</td>\n",
       "      <td>a1: Basic</td>\n",
       "      <td>50.0</td>\n",
       "      <td>-100.0</td>\n",
       "    </tr>\n",
       "    <tr>\n",
       "      <th>1</th>\n",
       "      <td>A</td>\n",
       "      <td>a2: Moderate</td>\n",
       "      <td>80.0</td>\n",
       "      <td>-200.0</td>\n",
       "    </tr>\n",
       "    <tr>\n",
       "      <th>2</th>\n",
       "      <td>A</td>\n",
       "      <td>a3: Extensive</td>\n",
       "      <td>120.0</td>\n",
       "      <td>-350.0</td>\n",
       "    </tr>\n",
       "    <tr>\n",
       "      <th>3</th>\n",
       "      <td>S</td>\n",
       "      <td>a1: Basic</td>\n",
       "      <td>5.0</td>\n",
       "      <td>10.0</td>\n",
       "    </tr>\n",
       "    <tr>\n",
       "      <th>4</th>\n",
       "      <td>S</td>\n",
       "      <td>a2: Moderate</td>\n",
       "      <td>8.0</td>\n",
       "      <td>20.0</td>\n",
       "    </tr>\n",
       "    <tr>\n",
       "      <th>5</th>\n",
       "      <td>S</td>\n",
       "      <td>a3: Extensive</td>\n",
       "      <td>12.0</td>\n",
       "      <td>35.0</td>\n",
       "    </tr>\n",
       "    <tr>\n",
       "      <th>6</th>\n",
       "      <td>L</td>\n",
       "      <td>worst</td>\n",
       "      <td>0.0</td>\n",
       "      <td>-300.0</td>\n",
       "    </tr>\n",
       "    <tr>\n",
       "      <th>7</th>\n",
       "      <td>L</td>\n",
       "      <td>best</td>\n",
       "      <td>150.0</td>\n",
       "      <td>0.0</td>\n",
       "    </tr>\n",
       "    <tr>\n",
       "      <th>8</th>\n",
       "      <td>w</td>\n",
       "      <td>NaN</td>\n",
       "      <td>0.7</td>\n",
       "      <td>0.3</td>\n",
       "    </tr>\n",
       "  </tbody>\n",
       "</table>\n",
       "</div>"
      ],
      "text/plain": [
       "  type        profile  Saving/(kWh/m²/year)  Cost/(€/m²)\n",
       "0    A      a1: Basic                  50.0       -100.0\n",
       "1    A   a2: Moderate                  80.0       -200.0\n",
       "2    A  a3: Extensive                 120.0       -350.0\n",
       "3    S      a1: Basic                   5.0         10.0\n",
       "4    S   a2: Moderate                   8.0         20.0\n",
       "5    S  a3: Extensive                  12.0         35.0\n",
       "6    L          worst                   0.0       -300.0\n",
       "7    L           best                 150.0          0.0\n",
       "8    w            NaN                   0.7          0.3"
      ]
     },
     "execution_count": 15,
     "metadata": {},
     "output_type": "execute_result"
    }
   ],
   "source": [
    "data_file = \"../../data/bldg_retrofit_level_std.csv\"\n",
    "print(\"Example of data file\")\n",
    "pd.read_csv(data_file)"
   ]
  },
  {
   "cell_type": "code",
   "execution_count": 16,
   "id": "1b7e7d10-4bf3-4f9f-b12d-c4dbbf15a6cf",
   "metadata": {},
   "outputs": [],
   "source": [
    "opti, pessi = et.pelectre_tri_level(\n",
    "    data_file,\n",
    "    n_base_profile=2,\n",
    "    threshold_percent=[0.10, 0.25, 0.50],\n",
    "    credibility_threshold=0.75,\n",
    "    n_simulations=100,\n",
    "    seed=123)"
   ]
  },
  {
   "cell_type": "code",
   "execution_count": 17,
   "id": "1bea4384-86f6-4135-ac65-42a5056b5f3f",
   "metadata": {},
   "outputs": [
    {
     "name": "stdout",
     "output_type": "stream",
     "text": [
      "Probabilistic optimistic ranking:\n"
     ]
    },
    {
     "data": {
      "text/html": [
       "<div>\n",
       "<style scoped>\n",
       "    .dataframe tbody tr th:only-of-type {\n",
       "        vertical-align: middle;\n",
       "    }\n",
       "\n",
       "    .dataframe tbody tr th {\n",
       "        vertical-align: top;\n",
       "    }\n",
       "\n",
       "    .dataframe thead th {\n",
       "        text-align: right;\n",
       "    }\n",
       "</style>\n",
       "<table border=\"1\" class=\"dataframe\">\n",
       "  <thead>\n",
       "    <tr style=\"text-align: right;\">\n",
       "      <th></th>\n",
       "      <th>a1: Basic</th>\n",
       "      <th>a2: Moderate</th>\n",
       "      <th>a3: Extensive</th>\n",
       "    </tr>\n",
       "  </thead>\n",
       "  <tbody>\n",
       "    <tr>\n",
       "      <th>b1 ≻</th>\n",
       "      <td>NaN</td>\n",
       "      <td>NaN</td>\n",
       "      <td>NaN</td>\n",
       "    </tr>\n",
       "    <tr>\n",
       "      <th>(b1, b2)</th>\n",
       "      <td>1.0</td>\n",
       "      <td>1.0</td>\n",
       "      <td>NaN</td>\n",
       "    </tr>\n",
       "    <tr>\n",
       "      <th>b2 ≺</th>\n",
       "      <td>NaN</td>\n",
       "      <td>NaN</td>\n",
       "      <td>1.0</td>\n",
       "    </tr>\n",
       "  </tbody>\n",
       "</table>\n",
       "</div>"
      ],
      "text/plain": [
       "          a1: Basic  a2: Moderate  a3: Extensive\n",
       "b1 ≻            NaN           NaN            NaN\n",
       "(b1, b2)        1.0           1.0            NaN\n",
       "b2 ≺            NaN           NaN            1.0"
      ]
     },
     "execution_count": 17,
     "metadata": {},
     "output_type": "execute_result"
    }
   ],
   "source": [
    "print(\"Probabilistic optimistic ranking:\")\n",
    "opti"
   ]
  },
  {
   "cell_type": "code",
   "execution_count": 18,
   "id": "9c1f1618-b3a0-4492-8806-c29313ff7946",
   "metadata": {},
   "outputs": [
    {
     "name": "stdout",
     "output_type": "stream",
     "text": [
      "Probabilistic pessimistic ranking\n"
     ]
    },
    {
     "data": {
      "text/html": [
       "<div>\n",
       "<style scoped>\n",
       "    .dataframe tbody tr th:only-of-type {\n",
       "        vertical-align: middle;\n",
       "    }\n",
       "\n",
       "    .dataframe tbody tr th {\n",
       "        vertical-align: top;\n",
       "    }\n",
       "\n",
       "    .dataframe thead th {\n",
       "        text-align: right;\n",
       "    }\n",
       "</style>\n",
       "<table border=\"1\" class=\"dataframe\">\n",
       "  <thead>\n",
       "    <tr style=\"text-align: right;\">\n",
       "      <th></th>\n",
       "      <th>a1: Basic</th>\n",
       "      <th>a2: Moderate</th>\n",
       "      <th>a3: Extensive</th>\n",
       "    </tr>\n",
       "  </thead>\n",
       "  <tbody>\n",
       "    <tr>\n",
       "      <th>b1 ≻</th>\n",
       "      <td>NaN</td>\n",
       "      <td>NaN</td>\n",
       "      <td>1.0</td>\n",
       "    </tr>\n",
       "    <tr>\n",
       "      <th>(b1, b2)</th>\n",
       "      <td>1.0</td>\n",
       "      <td>1.0</td>\n",
       "      <td>NaN</td>\n",
       "    </tr>\n",
       "    <tr>\n",
       "      <th>b2 ≺</th>\n",
       "      <td>NaN</td>\n",
       "      <td>NaN</td>\n",
       "      <td>NaN</td>\n",
       "    </tr>\n",
       "  </tbody>\n",
       "</table>\n",
       "</div>"
      ],
      "text/plain": [
       "          a1: Basic  a2: Moderate  a3: Extensive\n",
       "b1 ≻            NaN           NaN            1.0\n",
       "(b1, b2)        1.0           1.0            NaN\n",
       "b2 ≺            NaN           NaN            NaN"
      ]
     },
     "execution_count": 18,
     "metadata": {},
     "output_type": "execute_result"
    }
   ],
   "source": [
    "print(\"Probabilistic pessimistic ranking\")\n",
    "pessi"
   ]
  },
  {
   "cell_type": "code",
   "execution_count": null,
   "id": "de2a7fea-fd7b-4f2a-9b66-01a4a2f24959",
   "metadata": {},
   "outputs": [],
   "source": []
  }
 ],
 "metadata": {
  "kernelspec": {
   "display_name": "Python 3 (ipykernel)",
   "language": "python",
   "name": "python3"
  },
  "language_info": {
   "codemirror_mode": {
    "name": "ipython",
    "version": 3
   },
   "file_extension": ".py",
   "mimetype": "text/x-python",
   "name": "python",
   "nbconvert_exporter": "python",
   "pygments_lexer": "ipython3",
   "version": "3.11.7"
  }
 },
 "nbformat": 4,
 "nbformat_minor": 5
}
