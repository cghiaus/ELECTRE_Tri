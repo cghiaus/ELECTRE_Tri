{
 "cells": [
  {
   "cell_type": "markdown",
   "id": "e6af49a0-095c-42e1-a306-5133c6c4b30b",
   "metadata": {},
   "source": [
    "<h1>Your ELECTRE Tri analysis</h1>\n",
    "\n",
    "[![Binder](https://mybinder.org/badge_logo.svg)](https://mybinder.org/v2/gh/cghiaus/ELECTRE_Tri/HEAD?labpath=ELECTRE_Tri%2FELECTRE_Tri_yours.ipynb)\n",
    "\n",
    "1. Upload your data file by dragging  your file in `data\\` folder.\n",
    "2. Change `data_file` accordingly.\n",
    "3. Interpret the results."
   ]
  },
  {
   "cell_type": "markdown",
   "id": "090d1869-34b2-48e8-bdb9-cddbe77e14e9",
   "metadata": {},
   "source": [
    "# Data file\n",
    "\n",
    "ELECTRE Tri data file is a [.csv](https://en.m.wikipedia.org/wiki/Comma-separated_values) text file that contains, for each criterion:\n",
    "- performance of alternatives **A**;\n",
    "- base profiles **B**;\n",
    "- indifference, preference and veto thresholds **T**;\n",
    "- weights **w**. \n",
    "\n",
    "Examples data files are given in `data\\` folder. Data files can be obtained with a [spreadsheet](https://en.m.wikipedia.org/wiki/Spreadsheet)."
   ]
  },
  {
   "cell_type": "code",
   "execution_count": 2,
   "id": "67043013-f51e-4cf2-99e1-af210178b960",
   "metadata": {},
   "outputs": [
    {
     "name": "stdout",
     "output_type": "stream",
     "text": [
      "Example of data file\n"
     ]
    },
    {
     "data": {
      "text/html": [
       "<div>\n",
       "<style scoped>\n",
       "    .dataframe tbody tr th:only-of-type {\n",
       "        vertical-align: middle;\n",
       "    }\n",
       "\n",
       "    .dataframe tbody tr th {\n",
       "        vertical-align: top;\n",
       "    }\n",
       "\n",
       "    .dataframe thead th {\n",
       "        text-align: right;\n",
       "    }\n",
       "</style>\n",
       "<table border=\"1\" class=\"dataframe\">\n",
       "  <thead>\n",
       "    <tr style=\"text-align: right;\">\n",
       "      <th></th>\n",
       "      <th>type</th>\n",
       "      <th>profile</th>\n",
       "      <th>c1</th>\n",
       "      <th>c2</th>\n",
       "    </tr>\n",
       "  </thead>\n",
       "  <tbody>\n",
       "    <tr>\n",
       "      <th>0</th>\n",
       "      <td>A</td>\n",
       "      <td>a1</td>\n",
       "      <td>8.5</td>\n",
       "      <td>18.0</td>\n",
       "    </tr>\n",
       "    <tr>\n",
       "      <th>1</th>\n",
       "      <td>A</td>\n",
       "      <td>a2</td>\n",
       "      <td>14.0</td>\n",
       "      <td>16.0</td>\n",
       "    </tr>\n",
       "    <tr>\n",
       "      <th>2</th>\n",
       "      <td>A</td>\n",
       "      <td>a3</td>\n",
       "      <td>5.0</td>\n",
       "      <td>27.0</td>\n",
       "    </tr>\n",
       "    <tr>\n",
       "      <th>3</th>\n",
       "      <td>B</td>\n",
       "      <td>b1</td>\n",
       "      <td>10.0</td>\n",
       "      <td>15.0</td>\n",
       "    </tr>\n",
       "    <tr>\n",
       "      <th>4</th>\n",
       "      <td>B</td>\n",
       "      <td>b2</td>\n",
       "      <td>15.0</td>\n",
       "      <td>20.0</td>\n",
       "    </tr>\n",
       "    <tr>\n",
       "      <th>5</th>\n",
       "      <td>T</td>\n",
       "      <td>q</td>\n",
       "      <td>1.0</td>\n",
       "      <td>2.0</td>\n",
       "    </tr>\n",
       "    <tr>\n",
       "      <th>6</th>\n",
       "      <td>T</td>\n",
       "      <td>p</td>\n",
       "      <td>2.0</td>\n",
       "      <td>4.0</td>\n",
       "    </tr>\n",
       "    <tr>\n",
       "      <th>7</th>\n",
       "      <td>T</td>\n",
       "      <td>v</td>\n",
       "      <td>4.0</td>\n",
       "      <td>8.0</td>\n",
       "    </tr>\n",
       "    <tr>\n",
       "      <th>8</th>\n",
       "      <td>w</td>\n",
       "      <td>NaN</td>\n",
       "      <td>0.7</td>\n",
       "      <td>0.3</td>\n",
       "    </tr>\n",
       "  </tbody>\n",
       "</table>\n",
       "</div>"
      ],
      "text/plain": [
       "  type profile    c1    c2\n",
       "0    A      a1   8.5  18.0\n",
       "1    A      a2  14.0  16.0\n",
       "2    A      a3   5.0  27.0\n",
       "3    B      b1  10.0  15.0\n",
       "4    B      b2  15.0  20.0\n",
       "5    T       q   1.0   2.0\n",
       "6    T       p   2.0   4.0\n",
       "7    T       v   4.0   8.0\n",
       "8    w     NaN   0.7   0.3"
      ]
     },
     "execution_count": 2,
     "metadata": {},
     "output_type": "execute_result"
    }
   ],
   "source": [
    "import pandas as pd\n",
    "data_file = './data/simple_example.csv'\n",
    "print(\"Example of data file\")\n",
    "pd.read_csv(data_file)"
   ]
  },
  {
   "cell_type": "markdown",
   "id": "c5fd78f1-46a1-4c99-932d-75f706f1330c",
   "metadata": {},
   "source": [
    "# Problem solving"
   ]
  },
  {
   "cell_type": "code",
   "execution_count": 1,
   "id": "ea315bf5-03ab-473c-833d-a7850aa306da",
   "metadata": {},
   "outputs": [],
   "source": [
    "import pandas as pd\n",
    "import ELECTRE_Tri as et\n",
    "\n",
    "# Problem statement\n",
    "data_file = './data/simple_example.csv'\n",
    "credibility_threshold = 0.7\n",
    "\n",
    "# Problem solving\n",
    "A, B, T, w = et.read_electre_tri_data(data_file)\n",
    "optimistic, pessimistic = et.ELECTRE_Tri(A, B, T, w,\n",
    "                                         credibility_threshold)"
   ]
  },
  {
   "cell_type": "markdown",
   "id": "d434c7c9-fe0d-4790-8908-0d4849f35e5c",
   "metadata": {},
   "source": [
    "# Results"
   ]
  },
  {
   "cell_type": "code",
   "execution_count": 2,
   "id": "14d56f45-9640-4e29-807f-80a992b0444e",
   "metadata": {},
   "outputs": [
    {
     "name": "stdout",
     "output_type": "stream",
     "text": [
      "Optimistic sorting\n"
     ]
    },
    {
     "data": {
      "text/html": [
       "<div>\n",
       "<style scoped>\n",
       "    .dataframe tbody tr th:only-of-type {\n",
       "        vertical-align: middle;\n",
       "    }\n",
       "\n",
       "    .dataframe tbody tr th {\n",
       "        vertical-align: top;\n",
       "    }\n",
       "\n",
       "    .dataframe thead th {\n",
       "        text-align: right;\n",
       "    }\n",
       "</style>\n",
       "<table border=\"1\" class=\"dataframe\">\n",
       "  <thead>\n",
       "    <tr style=\"text-align: right;\">\n",
       "      <th></th>\n",
       "      <th>alternatives</th>\n",
       "    </tr>\n",
       "    <tr>\n",
       "      <th>categories</th>\n",
       "      <th></th>\n",
       "    </tr>\n",
       "  </thead>\n",
       "  <tbody>\n",
       "    <tr>\n",
       "      <th>b1 &gt;</th>\n",
       "      <td>[a1]</td>\n",
       "    </tr>\n",
       "    <tr>\n",
       "      <th>(b1, b2)</th>\n",
       "      <td>[]</td>\n",
       "    </tr>\n",
       "    <tr>\n",
       "      <th>b2 &lt;</th>\n",
       "      <td>[a2, a3]</td>\n",
       "    </tr>\n",
       "  </tbody>\n",
       "</table>\n",
       "</div>"
      ],
      "text/plain": [
       "           alternatives\n",
       "categories             \n",
       "b1 >               [a1]\n",
       "(b1, b2)             []\n",
       "b2 <           [a2, a3]"
      ]
     },
     "execution_count": 2,
     "metadata": {},
     "output_type": "execute_result"
    }
   ],
   "source": [
    "# Optimistic sorting\n",
    "opti_sort = et.sort(optimistic)\n",
    "print('Optimistic sorting')\n",
    "opti_sort.to_frame(name=\"alternatives\").rename_axis(\"categories\")"
   ]
  },
  {
   "cell_type": "code",
   "execution_count": 3,
   "id": "a2b45620-814b-41f7-80ce-55bd59877d23",
   "metadata": {},
   "outputs": [
    {
     "name": "stdout",
     "output_type": "stream",
     "text": [
      "Pessimistic sorting\n"
     ]
    },
    {
     "data": {
      "text/html": [
       "<div>\n",
       "<style scoped>\n",
       "    .dataframe tbody tr th:only-of-type {\n",
       "        vertical-align: middle;\n",
       "    }\n",
       "\n",
       "    .dataframe tbody tr th {\n",
       "        vertical-align: top;\n",
       "    }\n",
       "\n",
       "    .dataframe thead th {\n",
       "        text-align: right;\n",
       "    }\n",
       "</style>\n",
       "<table border=\"1\" class=\"dataframe\">\n",
       "  <thead>\n",
       "    <tr style=\"text-align: right;\">\n",
       "      <th></th>\n",
       "      <th>alternatives</th>\n",
       "    </tr>\n",
       "    <tr>\n",
       "      <th>categories</th>\n",
       "      <th></th>\n",
       "    </tr>\n",
       "  </thead>\n",
       "  <tbody>\n",
       "    <tr>\n",
       "      <th>b1 &gt;</th>\n",
       "      <td>[a1, a3]</td>\n",
       "    </tr>\n",
       "    <tr>\n",
       "      <th>(b1, b2)</th>\n",
       "      <td>[a2]</td>\n",
       "    </tr>\n",
       "    <tr>\n",
       "      <th>b2 &lt;</th>\n",
       "      <td>[]</td>\n",
       "    </tr>\n",
       "  </tbody>\n",
       "</table>\n",
       "</div>"
      ],
      "text/plain": [
       "           alternatives\n",
       "categories             \n",
       "b1 >           [a1, a3]\n",
       "(b1, b2)           [a2]\n",
       "b2 <                 []"
      ]
     },
     "execution_count": 3,
     "metadata": {},
     "output_type": "execute_result"
    }
   ],
   "source": [
    "# Pessimistic sorting\n",
    "pessi_sort = et.sort(pessimistic)\n",
    "print('Pessimistic sorting')\n",
    "pessi_sort.to_frame(name=\"alternatives\").rename_axis(\"categories\")"
   ]
  },
  {
   "cell_type": "code",
   "execution_count": null,
   "id": "f170899b-645b-460c-847b-ad9d3a083533",
   "metadata": {},
   "outputs": [],
   "source": []
  }
 ],
 "metadata": {
  "kernelspec": {
   "display_name": "Python 3 (ipykernel)",
   "language": "python",
   "name": "python3"
  },
  "language_info": {
   "codemirror_mode": {
    "name": "ipython",
    "version": 3
   },
   "file_extension": ".py",
   "mimetype": "text/x-python",
   "name": "python",
   "nbconvert_exporter": "python",
   "pygments_lexer": "ipython3",
   "version": "3.11.7"
  }
 },
 "nbformat": 4,
 "nbformat_minor": 5
}
