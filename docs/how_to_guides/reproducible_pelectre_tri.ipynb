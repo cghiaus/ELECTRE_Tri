{
 "cells": [
  {
   "cell_type": "markdown",
   "id": "ec98dd10-0b63-4900-91b7-1380c6fa8d96",
   "metadata": {},
   "source": [
    "<font size=\"6\">Reproducible probabilistic ELECTRE Tri-B</font>\n",
    "\n",
    "[![Binder](https://mybinder.org/badge_logo.svg)](https://mybinder.org/v2/gh/cghiaus/ELECTRE_Tri/main?labpath=docs%2Fhow_to_guides%2Frepeoducibele_electre_tri.ipynb)"
   ]
  },
  {
   "cell_type": "markdown",
   "id": "96ed5d35-c3d1-4db0-b631-e789f02f1866",
   "metadata": {},
   "source": [
    "The Probabilistic ELECTRE Tri-B method enhances traditional ELECTRE Tri by integrating probabilistic analysis through Monte Carlo simulations. This approach generates multiple iterations of the performance matrix, with its values drawn from normal distributions, reflecting the inherent uncertainty in decision-making data.\n",
    "\n",
    "The Monte Carlo simulations can either be purely random or reproducible, allowing for consistent results across multiple runs. To ensure reproducibility, set `seed=None` when calling the `pelectre_tri_b()` function. This feature is particularly useful for validating results or conducting comparative analyses."
   ]
  },
  {
   "cell_type": "markdown",
   "id": "b81eddab-e3eb-485d-aa88-9142b7470768",
   "metadata": {},
   "source": [
    "The **Probabilistic ELECTRE Tri-B** method enhances traditional ELECTRE Tri by incorporating probabilistic analysis through Monte Carlo simulations. This approach generates multiple iterations of the performance matrix, with its values drawn from normal distributions, capturing the inherent uncertainty in decision-making data.\n",
    "\n",
    "To ensure **reproducibility** and obtain the same results at different runs, there are two options when calling the `pelectre_tri_b()` function:\n",
    "1. **Using a `seed` for random number generation**: By setting a specific `seed`, the sequence of random numbers will be consistent across multiple runs, ensuring that results remain the same.\n",
    "2. **Increasing the number of simulations**: By changing `n_simulations` (number of simulations), the random sample becomes more representative of the underlying normal distribution, making the results more stable and consistent."
   ]
  },
  {
   "cell_type": "markdown",
   "id": "c1056735-0d77-4ff2-b1c3-e708a237247f",
   "metadata": {},
   "source": [
    "# Imports"
   ]
  },
  {
   "cell_type": "code",
   "execution_count": 1,
   "id": "533fb1dc-4c47-4f0f-8dcf-0a68b5b4182d",
   "metadata": {},
   "outputs": [],
   "source": [
    "\"\"\"\n",
    "Append `src/` directory to `path`\n",
    "\"\"\"\n",
    "import sys\n",
    "import os\n",
    "\n",
    "notebook_dir = os.path.dirname(os.path.abspath('__file__'))\n",
    "project_root = os.path.dirname(os.path.dirname(notebook_dir))\n",
    "\n",
    "src_dir = os.path.join(project_root, 'src')\n",
    "sys.path.append(src_dir)\n"
   ]
  },
  {
   "cell_type": "code",
   "execution_count": 2,
   "id": "5add6e41-a3dc-41d2-bd49-a21b20472b95",
   "metadata": {},
   "outputs": [],
   "source": [
    "import numpy as np\n",
    "import pandas as pd\n",
    "\n",
    "import electre_tri as et\n",
    "\n",
    "pd.options.display.float_format = '{:.2f}'.format\n",
    "np.random.seed(123)"
   ]
  },
  {
   "cell_type": "markdown",
   "id": "1fd71193-1da4-42ec-b28c-486e91f8cc35",
   "metadata": {},
   "source": [
    "# Problem inputs"
   ]
  },
  {
   "cell_type": "code",
   "execution_count": 3,
   "id": "1526b15f-b89c-4949-9ac5-4d983daaf880",
   "metadata": {},
   "outputs": [],
   "source": [
    "# Problem inputs\n",
    "data_file = '../../data/mous3docl99_3_std.csv'\n",
    "credibility_threshold = 0.7"
   ]
  },
  {
   "cell_type": "code",
   "execution_count": 4,
   "id": "d0a348c4-0e0c-4a50-80e0-bf3dbbfb7103",
   "metadata": {},
   "outputs": [],
   "source": [
    "A, S, B, T, w = et.read_pelectre_tri_base(data_file)"
   ]
  },
  {
   "cell_type": "markdown",
   "id": "3c48742e-c7cd-4c27-b106-0c4ff023f49b",
   "metadata": {},
   "source": [
    "# Reproducible pELECTRE Tri-B\n",
    "\n",
    "By default, the `pelectre_tri_b()` function uses `seed=123` to generate the sequence of random numbers. This ensures reproducibility, allowing the results to remain consistent across multiple runs.  "
   ]
  },
  {
   "cell_type": "code",
   "execution_count": 5,
   "id": "8e225c8b-0656-418a-a413-98419750c565",
   "metadata": {},
   "outputs": [],
   "source": [
    "p_opti, p_pessi = et.pelectre_tri_b(\n",
    "    A, S, B, T, w,\n",
    "    credibility_threshold)"
   ]
  },
  {
   "cell_type": "code",
   "execution_count": 6,
   "id": "a6add2f0-1972-4928-b08a-a3c69569ccca",
   "metadata": {},
   "outputs": [
    {
     "name": "stdout",
     "output_type": "stream",
     "text": [
      "\n",
      "Probabilistic optimistic ranking:\n",
      "           a1   a2   a3\n",
      "b1 ≻        0    0    0\n",
      "(b1, b2) 0.13 0.47 1.00\n",
      "b2 ≺     0.87 0.53    0\n",
      "\n",
      "Probabilistic pessimistic ranking:\n",
      "           a1   a2   a3\n",
      "b1 ≻        0 0.95 0.41\n",
      "(b1, b2) 0.55 0.05 0.59\n",
      "b2 ≺     0.45    0    0\n"
     ]
    }
   ],
   "source": [
    "# Results\n",
    "print(\"\\nProbabilistic optimistic ranking:\")\n",
    "print(p_opti.to_string(na_rep='0'))\n",
    "\n",
    "print(\"\\nProbabilistic pessimistic ranking:\")\n",
    "print(p_pessi.to_string(na_rep='0'))"
   ]
  },
  {
   "cell_type": "markdown",
   "id": "1cd6e9fc-a11c-4356-9b1d-5be61f79a38f",
   "metadata": {},
   "source": [
    "# Purely random pELECTRE Tri-B\n",
    "\n",
    "To execute pELECTRE Tri-B in a purely random mode, set `seed=None` when calling the `pelectre_tri_b()` function. \n",
    "\n",
    "In this mode, the results will vary slightly with each run due to the inherent randomness of the Monte Carlo simulations. This approach is particularly useful for exploring variability and understanding the range of potential outcomes in uncertain decision-making scenarios."
   ]
  },
  {
   "cell_type": "code",
   "execution_count": 7,
   "id": "3d09021b-f984-431c-9773-546dd060c9e1",
   "metadata": {},
   "outputs": [],
   "source": [
    "p_opti, p_pessi = et.pelectre_tri_b(\n",
    "    A, S, B, T, w,\n",
    "    credibility_threshold,\n",
    "    n_simulations=100,\n",
    "    seed=None)"
   ]
  },
  {
   "cell_type": "code",
   "execution_count": 8,
   "id": "14314b75-fc23-4fcf-bdb5-ad9f68d83f02",
   "metadata": {},
   "outputs": [
    {
     "name": "stdout",
     "output_type": "stream",
     "text": [
      "\n",
      "Probabilistic optimistic ranking:\n",
      "           a1   a2   a3\n",
      "b1 ≻        0    0 0.01\n",
      "(b1, b2) 0.10 0.45 0.99\n",
      "b2 ≺     0.90 0.55    0\n",
      "\n",
      "Probabilistic pessimistic ranking:\n",
      "           a1   a2   a3\n",
      "b1 ≻        0 0.94 0.37\n",
      "(b1, b2) 0.41 0.06 0.63\n",
      "b2 ≺     0.59    0    0\n"
     ]
    }
   ],
   "source": [
    "# Results\n",
    "print(\"\\nProbabilistic optimistic ranking:\")\n",
    "print(p_opti.to_string(na_rep='0'))\n",
    "\n",
    "print(\"\\nProbabilistic pessimistic ranking:\")\n",
    "print(p_pessi.to_string(na_rep='0'))"
   ]
  },
  {
   "cell_type": "markdown",
   "id": "f6df60a2-4b3f-4abd-9e72-b17ed2f1008d",
   "metadata": {},
   "source": [
    "# Convergent purely random pELECTRE Tri-B\n",
    "\n",
    "To achieve convergent results in purely random pELECTRE Tri-B, increase the number of simulations by adjusting the `n_simulations` parameter. However, increasing `n_simulations` will also lead to longer computational times. Therefore, it is essential to balance the trade-off between accuracy and efficiency when selecting this parameter.\n",
    "\n",
    "## Factors influencing convergence\n",
    "The number of runs required for convergence in Monte Carlo simulations depends on several factors:\n",
    "- **Desired level of precision**: How small a variation is acceptable between runs.\n",
    "- **Variability in the performance matrix**: Greater variability may require more simulations.\n",
    "- **Number of reference profiles**: More profiles typically increase the computational effort required.\n",
    "- **Values of thresholds**: Indifference, preference, and veto thresholds can impact the results' sensitivity.\n",
    "\n",
    "## General procedure to determine the number of runs\n",
    "1. **Start small**: Begin with 100 runs as a baseline.\n",
    "2. **Test multiple runs**: Perform the simulations several times with the same `n_simulations` value to assess consistency.\n",
    "3. **Monitor variation**: Gradually increase `n_simulations` until the variation between runs becomes negligible.\n",
    "4. **Establish convergence**: Once the results converge (e.g., changes are within an acceptable threshold, such as 1 %), you can finalize the number of simulations.\n"
   ]
  },
  {
   "cell_type": "code",
   "execution_count": 9,
   "id": "7b14c2f0-d340-4cdd-adb7-983d6cd30e4e",
   "metadata": {},
   "outputs": [],
   "source": [
    "p_opti, p_pessi = et.pelectre_tri_b(\n",
    "    A, S, B, T, w,\n",
    "    credibility_threshold,\n",
    "    n_simulations=500,\n",
    "    seed=None)"
   ]
  },
  {
   "cell_type": "code",
   "execution_count": 10,
   "id": "38c7592a-f274-4888-b42c-7a6c955da3b2",
   "metadata": {},
   "outputs": [
    {
     "name": "stdout",
     "output_type": "stream",
     "text": [
      "\n",
      "Probabilistic optimistic ranking:\n",
      "           a1   a2   a3\n",
      "b1 ≻        0    0 0.03\n",
      "(b1, b2) 0.07 0.43 0.97\n",
      "b2 ≺     0.93 0.57    0\n",
      "\n",
      "Probabilistic pessimistic ranking:\n",
      "           a1   a2   a3\n",
      "b1 ≻        0 0.94 0.32\n",
      "(b1, b2) 0.51 0.06 0.68\n",
      "b2 ≺     0.49    0    0\n"
     ]
    }
   ],
   "source": [
    "# Results\n",
    "print(\"\\nProbabilistic optimistic ranking:\")\n",
    "print(p_opti.to_string(na_rep='0'))\n",
    "\n",
    "print(\"\\nProbabilistic pessimistic ranking:\")\n",
    "print(p_pessi.to_string(na_rep='0'))"
   ]
  }
 ],
 "metadata": {
  "kernelspec": {
   "display_name": "Python 3 (ipykernel)",
   "language": "python",
   "name": "python3"
  },
  "language_info": {
   "codemirror_mode": {
    "name": "ipython",
    "version": 3
   },
   "file_extension": ".py",
   "mimetype": "text/x-python",
   "name": "python",
   "nbconvert_exporter": "python",
   "pygments_lexer": "ipython3",
   "version": "3.11.7"
  }
 },
 "nbformat": 4,
 "nbformat_minor": 5
}
