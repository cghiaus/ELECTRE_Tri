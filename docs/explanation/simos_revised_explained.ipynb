{
 "cells": [
  {
   "cell_type": "markdown",
   "id": "dec9057f-1064-49bc-bf02-8c8ea9aa5f08",
   "metadata": {
    "tags": []
   },
   "source": [
    "<font size=\"6\">Revised Simos method for calculation of criteria weights</font>\n",
    "\n",
    "[![Binder](https://mybinder.org/badge_logo.svg)](https://mybinder.org/v2/gh/cghiaus/ELECTRE_Tri/main?labpath=docs%2Fexplanation%2Fsimos_revised_explained.ipynb)"
   ]
  },
  {
   "cell_type": "markdown",
   "id": "020ba926-7518-46fc-9d5c-10311776c833",
   "metadata": {},
   "source": [
    "\n",
    "\n",
    "This notebook explains the function `criteria_weights_Simos` from the file `Simos_revised.py`. The explanation follows the script `Simos_revised_script.py`."
   ]
  },
  {
   "cell_type": "code",
   "execution_count": 1,
   "id": "dc834e77-1ab1-4218-9cad-5465aeed45c1",
   "metadata": {},
   "outputs": [],
   "source": [
    "\"\"\"\n",
    "Append `src/` directory to `path`\n",
    "\"\"\"\n",
    "import sys\n",
    "import os\n",
    "\n",
    "notebook_dir = os.path.dirname(os.path.abspath('__file__'))\n",
    "project_root = os.path.dirname(os.path.dirname(notebook_dir))\n",
    "\n",
    "src_dir = os.path.join(project_root, 'src')\n",
    "sys.path.append(src_dir)"
   ]
  },
  {
   "cell_type": "code",
   "execution_count": 2,
   "id": "5f918697-15f9-4b30-8f8d-67ac1a4f125a",
   "metadata": {},
   "outputs": [],
   "source": [
    "import numpy as np\n",
    "import pandas as pd\n",
    "\n",
    "import simos_revised"
   ]
  },
  {
   "cell_type": "markdown",
   "id": "5af218aa-5290-48b1-a203-d6c31a40571f",
   "metadata": {
    "tags": []
   },
   "source": [
    "# Principles of the method\n",
    "\n",
    "The method lets the decision maker to hierarchise the criteria by obtaining relative weights that add up to 100. The decision maker is asked:\n",
    "- to order the criteria in categories from least important to most important (some criteria can be ex aequo) with the possibility to indicate different gaps between successive categories;  \n",
    "- to give a ratio between the importance of the most and least important category.\n",
    "\n",
    "## Procedure\n",
    "\n",
    "1. The decision maker receives:\n",
    "    - a set of **cards** containing the name of each criterion (with some complementary information, if needed).\n",
    "    - a set of **white cards**.\n",
    "2. The decision maker is asked to rank these cards (i.e. criteria) from the least importnant to the most important (in ascending order). If more criteria have the same importance (i.e. same weight), the cards form a subset (they are bound together).\n",
    "3. The decision maker is asked to introduce white cards between two cards (or subsets of cards) if the difference is considered more impornant:\n",
    "    - *no white card*: a unit of difference between subsets of criteria;\n",
    "    - *one white card*: difference of two units between criteria;\n",
    "    - $n$ *white cards*: difference of $n+1$ units between criteria.\n",
    "4. The decision maker states how many times the last criterion is more important than the first one in the ranking. This value is denoted by $z$."
   ]
  },
  {
   "cell_type": "markdown",
   "id": "fd57d158-932d-437d-a5f1-89b0a745c92b",
   "metadata": {},
   "source": [
    "## Example 1\n",
    "\n",
    "Let us consider the example given by Papathanasiou, J., Ploskas, N. (2018). The set of 8 criteria: {a, b, c, d, e, f, g, h} and the ranking obtained by following the procedure are presented in Table A.1, page 167 and the normalized weights (that sum up to 100) for $z = 6.5$ are presented in Table A.2 page 168.\n",
    "\n",
    "|Position| Subsets |Normalized weights|\n",
    "|--------|---------|------------------|\n",
    "| 0      |   b, d  |2.61437908497     |\n",
    "| 1      |   c     |6.2091503268      |\n",
    "| 2      |  white  |                  |\n",
    "| 3      | e, f, h |13.3986928105     |\n",
    "| 4      |  white  |                  |\n",
    "| 5      |  white  |                  |\n",
    "| 6      |  a, g   |24.1830065359     |\n",
    "\n",
    "Note:"
   ]
  },
  {
   "cell_type": "code",
   "execution_count": 3,
   "id": "b8a44474-2ce3-404f-a238-508f41d8e9a2",
   "metadata": {},
   "outputs": [
    {
     "data": {
      "text/plain": [
       "9.24999999997227"
      ]
     },
     "execution_count": 3,
     "metadata": {},
     "output_type": "execute_result"
    }
   ],
   "source": [
    "# Ratio between the most important and the least important criteria\n",
    "24.1830065359 / 2.61437908497"
   ]
  },
  {
   "cell_type": "code",
   "execution_count": 4,
   "id": "fc370f5a-0c81-458e-893d-1df56bde7eb1",
   "metadata": {},
   "outputs": [
    {
     "data": {
      "text/plain": [
       "100.00000000003999"
      ]
     },
     "execution_count": 4,
     "metadata": {},
     "output_type": "execute_result"
    }
   ],
   "source": [
    "# Sum of all weights:\n",
    "2 * 2.61437908497 + 6.2091503268 + 3 * 13.3986928105 + 2 * 24.1830065359"
   ]
  },
  {
   "cell_type": "code",
   "execution_count": 5,
   "id": "184667da-aa19-4988-91ad-786bdc1dfebc",
   "metadata": {
    "tags": []
   },
   "outputs": [
    {
     "name": "stdout",
     "output_type": "stream",
     "text": [
      "Information given by the set of cards\n"
     ]
    },
    {
     "data": {
      "text/html": [
       "<div>\n",
       "<style scoped>\n",
       "    .dataframe tbody tr th:only-of-type {\n",
       "        vertical-align: middle;\n",
       "    }\n",
       "\n",
       "    .dataframe tbody tr th {\n",
       "        vertical-align: top;\n",
       "    }\n",
       "\n",
       "    .dataframe thead th {\n",
       "        text-align: right;\n",
       "    }\n",
       "</style>\n",
       "<table border=\"1\" class=\"dataframe\">\n",
       "  <thead>\n",
       "    <tr style=\"text-align: right;\">\n",
       "      <th></th>\n",
       "      <th>0</th>\n",
       "      <th>1</th>\n",
       "      <th>2</th>\n",
       "    </tr>\n",
       "    <tr>\n",
       "      <th>Position</th>\n",
       "      <th></th>\n",
       "      <th></th>\n",
       "      <th></th>\n",
       "    </tr>\n",
       "  </thead>\n",
       "  <tbody>\n",
       "    <tr>\n",
       "      <th>0</th>\n",
       "      <td>b</td>\n",
       "      <td>d</td>\n",
       "      <td></td>\n",
       "    </tr>\n",
       "    <tr>\n",
       "      <th>1</th>\n",
       "      <td>c</td>\n",
       "      <td></td>\n",
       "      <td></td>\n",
       "    </tr>\n",
       "    <tr>\n",
       "      <th>2</th>\n",
       "      <td>white</td>\n",
       "      <td></td>\n",
       "      <td></td>\n",
       "    </tr>\n",
       "    <tr>\n",
       "      <th>3</th>\n",
       "      <td>e</td>\n",
       "      <td>f</td>\n",
       "      <td>h</td>\n",
       "    </tr>\n",
       "    <tr>\n",
       "      <th>4</th>\n",
       "      <td>white</td>\n",
       "      <td></td>\n",
       "      <td></td>\n",
       "    </tr>\n",
       "    <tr>\n",
       "      <th>5</th>\n",
       "      <td>white</td>\n",
       "      <td></td>\n",
       "      <td></td>\n",
       "    </tr>\n",
       "    <tr>\n",
       "      <th>6</th>\n",
       "      <td>a</td>\n",
       "      <td>g</td>\n",
       "      <td></td>\n",
       "    </tr>\n",
       "  </tbody>\n",
       "</table>\n",
       "</div>"
      ],
      "text/plain": [
       "              0  1  2\n",
       "Position             \n",
       "0             b  d   \n",
       "1             c      \n",
       "2         white      \n",
       "3             e  f  h\n",
       "4         white      \n",
       "5         white      \n",
       "6             a  g   "
      ]
     },
     "execution_count": 5,
     "metadata": {},
     "output_type": "execute_result"
    }
   ],
   "source": [
    "# Sets with white cards included (positions)\n",
    "sets_white = pd.read_csv(\"../../data/cards_subsets_1.csv\")\n",
    "\n",
    "#------------display------------\n",
    "df = sets_white\n",
    "df = df.fillna(\"\")\n",
    "df.index.name = 'Position'\n",
    "print('Information given by the set of cards')\n",
    "df"
   ]
  },
  {
   "cell_type": "markdown",
   "id": "8859f6cb-b40e-450d-bc28-db25b5cc4e6a",
   "metadata": {},
   "source": [
    "## Example 2"
   ]
  },
  {
   "cell_type": "markdown",
   "id": "3566ddf8-5cab-4dce-82a5-4b1a7ed96674",
   "metadata": {},
   "source": [
    "Let us consider the example given by Figueira, J., Roy, B. (2002). The set of 12 criteria: {a, b, c, d, e, f, g, h, i, j, k, l} and the ranking obtained by follwing the procedure are presented in Table 1, page 319 and Table 2 page 321. The obtained normalized weights (that sum up to 100) for $z = 6.5$ are presented in Table 5 page 324.\n",
    "\n",
    "|Position| Subsets   |Normalized weights|\n",
    "|--------|-----------|------------------|\n",
    "| 0      | c, g, l   |2.366863905       |\n",
    "| 1      | d         |4.544378698       | \n",
    "| 2      | white     |                  |\n",
    "| 3      | b, f, i, j|8.875739645       |\n",
    "| 4      | e         |11.053254438      |\n",
    "| 5      | a, h      |13.207100592      |\n",
    "| 6      | k         |15.384615385      |\n",
    "\n",
    "Note:"
   ]
  },
  {
   "cell_type": "code",
   "execution_count": 6,
   "id": "19ecb86c-859c-43ab-b10e-507e8874101d",
   "metadata": {},
   "outputs": [
    {
     "data": {
      "text/plain": [
       "6.500000001056249"
      ]
     },
     "execution_count": 6,
     "metadata": {},
     "output_type": "execute_result"
    }
   ],
   "source": [
    "# Ratio between the most important and the least important criteria\n",
    "15.384615385 / 2.366863905"
   ]
  },
  {
   "cell_type": "code",
   "execution_count": 7,
   "id": "471b2417-3678-46a1-9f6a-71440c1beec6",
   "metadata": {},
   "outputs": [
    {
     "data": {
      "text/plain": [
       "99.99999999999999"
      ]
     },
     "execution_count": 7,
     "metadata": {},
     "output_type": "execute_result"
    }
   ],
   "source": [
    "# Sum of all weights:\n",
    "3 * 2.366863905 + 4.544378698 + 4 * 8.875739645 + 11.053254438 + 2 * 13.207100592 + 15.384615385"
   ]
  },
  {
   "cell_type": "code",
   "execution_count": 8,
   "id": "90c8d4e4-75de-43c1-a833-b3b4b5f6d5aa",
   "metadata": {},
   "outputs": [
    {
     "name": "stdout",
     "output_type": "stream",
     "text": [
      "Information with position given by the set of cards\n"
     ]
    },
    {
     "data": {
      "text/html": [
       "<div>\n",
       "<style scoped>\n",
       "    .dataframe tbody tr th:only-of-type {\n",
       "        vertical-align: middle;\n",
       "    }\n",
       "\n",
       "    .dataframe tbody tr th {\n",
       "        vertical-align: top;\n",
       "    }\n",
       "\n",
       "    .dataframe thead th {\n",
       "        text-align: right;\n",
       "    }\n",
       "</style>\n",
       "<table border=\"1\" class=\"dataframe\">\n",
       "  <thead>\n",
       "    <tr style=\"text-align: right;\">\n",
       "      <th></th>\n",
       "      <th>0</th>\n",
       "      <th>1</th>\n",
       "      <th>2</th>\n",
       "      <th>3</th>\n",
       "    </tr>\n",
       "    <tr>\n",
       "      <th>Position</th>\n",
       "      <th></th>\n",
       "      <th></th>\n",
       "      <th></th>\n",
       "      <th></th>\n",
       "    </tr>\n",
       "  </thead>\n",
       "  <tbody>\n",
       "    <tr>\n",
       "      <th>0</th>\n",
       "      <td>c</td>\n",
       "      <td>g</td>\n",
       "      <td>l</td>\n",
       "      <td></td>\n",
       "    </tr>\n",
       "    <tr>\n",
       "      <th>1</th>\n",
       "      <td>d</td>\n",
       "      <td></td>\n",
       "      <td></td>\n",
       "      <td></td>\n",
       "    </tr>\n",
       "    <tr>\n",
       "      <th>2</th>\n",
       "      <td>white</td>\n",
       "      <td></td>\n",
       "      <td></td>\n",
       "      <td></td>\n",
       "    </tr>\n",
       "    <tr>\n",
       "      <th>3</th>\n",
       "      <td>b</td>\n",
       "      <td>f</td>\n",
       "      <td>i</td>\n",
       "      <td>j</td>\n",
       "    </tr>\n",
       "    <tr>\n",
       "      <th>4</th>\n",
       "      <td>e</td>\n",
       "      <td></td>\n",
       "      <td></td>\n",
       "      <td></td>\n",
       "    </tr>\n",
       "    <tr>\n",
       "      <th>5</th>\n",
       "      <td>a</td>\n",
       "      <td>h</td>\n",
       "      <td></td>\n",
       "      <td></td>\n",
       "    </tr>\n",
       "    <tr>\n",
       "      <th>6</th>\n",
       "      <td>k</td>\n",
       "      <td></td>\n",
       "      <td></td>\n",
       "      <td></td>\n",
       "    </tr>\n",
       "  </tbody>\n",
       "</table>\n",
       "</div>"
      ],
      "text/plain": [
       "              0  1  2  3\n",
       "Position                \n",
       "0             c  g  l   \n",
       "1             d         \n",
       "2         white         \n",
       "3             b  f  i  j\n",
       "4             e         \n",
       "5             a  h      \n",
       "6             k         "
      ]
     },
     "execution_count": 8,
     "metadata": {},
     "output_type": "execute_result"
    }
   ],
   "source": [
    "# Figueira, J., Roy, B. (2002) Table 1, page 319 and Table 2 page 321\n",
    "# Sets with white cards included (positions)\n",
    "sets_white = pd.read_csv(\"../../data/cards_subsets_2.csv\")\n",
    "\n",
    "#------------display------------\n",
    "df = sets_white\n",
    "df.index.name = 'Position'\n",
    "df = df.fillna(\"\")\n",
    "print('Information with position given by the set of cards')\n",
    "df"
   ]
  },
  {
   "cell_type": "markdown",
   "id": "a56cedda-3f8a-4b96-9515-7b563e65715c",
   "metadata": {
    "tags": []
   },
   "source": [
    "## Ratio between the most and the least importat criteria \n",
    "Suppose that the last subset is 6.5 times more important than the first one, i.e.  $z = 6.5$:"
   ]
  },
  {
   "cell_type": "code",
   "execution_count": 9,
   "id": "eeb65677-b985-4be9-838c-9bd510457e16",
   "metadata": {},
   "outputs": [],
   "source": [
    "# The last subset is z more important than the 1st one\n",
    "z = 6.5"
   ]
  },
  {
   "cell_type": "markdown",
   "id": "d9c1106d-9545-433b-87b8-d5b9e88ce07b",
   "metadata": {
    "tags": []
   },
   "source": [
    "# Revised Simos method"
   ]
  },
  {
   "cell_type": "markdown",
   "id": "cec5cd0f-c08c-4735-8e6b-41b11bece9f8",
   "metadata": {
    "tags": []
   },
   "source": [
    "## Chose subsets\n",
    "\n",
    "- `subsets_1` from Papathanasiou, J., Ploskas, N. (2018), Table A.1, page 167 \n",
    "- `subsets_2` from Figueira, J., Roy, B. (2002), Table 1, page 319:"
   ]
  },
  {
   "cell_type": "code",
   "execution_count": 10,
   "id": "3f9ec64a-0b05-47a6-b935-c92b9417d130",
   "metadata": {},
   "outputs": [],
   "source": [
    "set_cards_file = \"../../data/cards_subsets_1.csv\"\n",
    "sets_white = pd.read_csv(set_cards_file)"
   ]
  },
  {
   "cell_type": "markdown",
   "id": "a9927b4b-7eeb-4647-97f3-a2a138f57be2",
   "metadata": {
    "tags": []
   },
   "source": [
    "## Non-normalized weights\n",
    "\n",
    "### Unitary ratio between two consecutive ranks\n",
    "\n",
    "Let $e'_r$ be the number of white cars between the ranks $r$ and $r+1$. Then (Figueira, Roy 2002 eq. §3.2.1 and Papathanasiou, Ploskas, 2018, eq. (A.1)):\n",
    "\n",
    "$$\n",
    "\\left\\{\\begin{matrix}\n",
    "e_r = e'_r+1\\\\ \n",
    "e=\\sum_{r-1}^{n-1}e_r\\\\ \n",
    "u=\\frac{z-1}{e}\n",
    "\\end{matrix}\\right.\n",
    "$$"
   ]
  },
  {
   "cell_type": "code",
   "execution_count": 11,
   "id": "96e7e39e-5188-4f3c-b302-0940d6d064e3",
   "metadata": {},
   "outputs": [
    {
     "name": "stdout",
     "output_type": "stream",
     "text": [
      "Ranks of criteria without white cards\n"
     ]
    },
    {
     "data": {
      "text/html": [
       "<div>\n",
       "<style scoped>\n",
       "    .dataframe tbody tr th:only-of-type {\n",
       "        vertical-align: middle;\n",
       "    }\n",
       "\n",
       "    .dataframe tbody tr th {\n",
       "        vertical-align: top;\n",
       "    }\n",
       "\n",
       "    .dataframe thead th {\n",
       "        text-align: right;\n",
       "    }\n",
       "</style>\n",
       "<table border=\"1\" class=\"dataframe\">\n",
       "  <thead>\n",
       "    <tr style=\"text-align: right;\">\n",
       "      <th></th>\n",
       "      <th>0</th>\n",
       "      <th>1</th>\n",
       "      <th>2</th>\n",
       "    </tr>\n",
       "    <tr>\n",
       "      <th>Rank</th>\n",
       "      <th></th>\n",
       "      <th></th>\n",
       "      <th></th>\n",
       "    </tr>\n",
       "  </thead>\n",
       "  <tbody>\n",
       "    <tr>\n",
       "      <th>0</th>\n",
       "      <td>b</td>\n",
       "      <td>d</td>\n",
       "      <td></td>\n",
       "    </tr>\n",
       "    <tr>\n",
       "      <th>1</th>\n",
       "      <td>c</td>\n",
       "      <td></td>\n",
       "      <td></td>\n",
       "    </tr>\n",
       "    <tr>\n",
       "      <th>3</th>\n",
       "      <td>e</td>\n",
       "      <td>f</td>\n",
       "      <td>h</td>\n",
       "    </tr>\n",
       "    <tr>\n",
       "      <th>6</th>\n",
       "      <td>a</td>\n",
       "      <td>g</td>\n",
       "      <td></td>\n",
       "    </tr>\n",
       "  </tbody>\n",
       "</table>\n",
       "</div>"
      ],
      "text/plain": [
       "      0  1  2\n",
       "Rank         \n",
       "0     b  d   \n",
       "1     c      \n",
       "3     e  f  h\n",
       "6     a  g   "
      ]
     },
     "execution_count": 11,
     "metadata": {},
     "output_type": "execute_result"
    }
   ],
   "source": [
    "# Sets without white cards (ranks)\n",
    "sets = sets_white[~sets_white[\"0\"].str.contains(\"white\")]\n",
    "\n",
    "#------------display------------\n",
    "df = sets.copy()\n",
    "df.index.name = 'Rank'\n",
    "df = df.fillna(\"\")\n",
    "print('Ranks of criteria without white cards')\n",
    "df"
   ]
  },
  {
   "cell_type": "code",
   "execution_count": 12,
   "id": "61617f22-0eaa-4cd3-bbbe-a820ab052bb7",
   "metadata": {
    "tags": []
   },
   "outputs": [
    {
     "data": {
      "text/html": [
       "<div>\n",
       "<style scoped>\n",
       "    .dataframe tbody tr th:only-of-type {\n",
       "        vertical-align: middle;\n",
       "    }\n",
       "\n",
       "    .dataframe tbody tr th {\n",
       "        vertical-align: top;\n",
       "    }\n",
       "\n",
       "    .dataframe thead th {\n",
       "        text-align: right;\n",
       "    }\n",
       "</style>\n",
       "<table border=\"1\" class=\"dataframe\">\n",
       "  <thead>\n",
       "    <tr style=\"text-align: right;\">\n",
       "      <th></th>\n",
       "      <th>0</th>\n",
       "      <th>1</th>\n",
       "      <th>2</th>\n",
       "      <th>c</th>\n",
       "    </tr>\n",
       "    <tr>\n",
       "      <th>Rank</th>\n",
       "      <th></th>\n",
       "      <th></th>\n",
       "      <th></th>\n",
       "      <th></th>\n",
       "    </tr>\n",
       "  </thead>\n",
       "  <tbody>\n",
       "    <tr>\n",
       "      <th>0</th>\n",
       "      <td>b</td>\n",
       "      <td>d</td>\n",
       "      <td></td>\n",
       "      <td>2</td>\n",
       "    </tr>\n",
       "    <tr>\n",
       "      <th>1</th>\n",
       "      <td>c</td>\n",
       "      <td></td>\n",
       "      <td></td>\n",
       "      <td>1</td>\n",
       "    </tr>\n",
       "    <tr>\n",
       "      <th>3</th>\n",
       "      <td>e</td>\n",
       "      <td>f</td>\n",
       "      <td>h</td>\n",
       "      <td>3</td>\n",
       "    </tr>\n",
       "    <tr>\n",
       "      <th>6</th>\n",
       "      <td>a</td>\n",
       "      <td>g</td>\n",
       "      <td></td>\n",
       "      <td>2</td>\n",
       "    </tr>\n",
       "  </tbody>\n",
       "</table>\n",
       "</div>"
      ],
      "text/plain": [
       "      0  1  2  c\n",
       "Rank            \n",
       "0     b  d     2\n",
       "1     c        1\n",
       "3     e  f  h  3\n",
       "6     a  g     2"
      ]
     },
     "execution_count": 12,
     "metadata": {},
     "output_type": "execute_result"
    }
   ],
   "source": [
    "# number of elements in each subset\n",
    "c = sets.count(axis=1)\n",
    "\n",
    "#------------display------------\n",
    "df['c'] = c\n",
    "df"
   ]
  },
  {
   "cell_type": "code",
   "execution_count": 13,
   "id": "d403f69d-db77-44dc-aafe-2ae877b10e8e",
   "metadata": {
    "tags": []
   },
   "outputs": [
    {
     "name": "stdout",
     "output_type": "stream",
     "text": [
      "u = 1.375\n"
     ]
    }
   ],
   "source": [
    "# unitary ratio between two consecutive ranks\n",
    "# the range is actually z - 1\n",
    "u = round((z - 1) / len(c), 6)\n",
    "\n",
    "#------------display------------\n",
    "print(f\"u = {u:.3f}\")"
   ]
  },
  {
   "cell_type": "markdown",
   "id": "d105cd34-3ada-4460-b169-0e3bb0df07b9",
   "metadata": {
    "tags": []
   },
   "source": [
    "### Vector of differences between subsets\n",
    "\n",
    "The 1st difference is $e_0 = 0$. The difference between two positions (including white cards) is *1*. The difference between ranks include the white cards."
   ]
  },
  {
   "cell_type": "code",
   "execution_count": 14,
   "id": "b5e147bf-802b-415f-8b3c-7d1ef8c11fed",
   "metadata": {},
   "outputs": [
    {
     "data": {
      "text/html": [
       "<div>\n",
       "<style scoped>\n",
       "    .dataframe tbody tr th:only-of-type {\n",
       "        vertical-align: middle;\n",
       "    }\n",
       "\n",
       "    .dataframe tbody tr th {\n",
       "        vertical-align: top;\n",
       "    }\n",
       "\n",
       "    .dataframe thead th {\n",
       "        text-align: right;\n",
       "    }\n",
       "</style>\n",
       "<table border=\"1\" class=\"dataframe\">\n",
       "  <thead>\n",
       "    <tr style=\"text-align: right;\">\n",
       "      <th></th>\n",
       "      <th>0</th>\n",
       "      <th>1</th>\n",
       "      <th>2</th>\n",
       "      <th>c</th>\n",
       "      <th>e</th>\n",
       "    </tr>\n",
       "    <tr>\n",
       "      <th>Rank</th>\n",
       "      <th></th>\n",
       "      <th></th>\n",
       "      <th></th>\n",
       "      <th></th>\n",
       "      <th></th>\n",
       "    </tr>\n",
       "  </thead>\n",
       "  <tbody>\n",
       "    <tr>\n",
       "      <th>0</th>\n",
       "      <td>b</td>\n",
       "      <td>d</td>\n",
       "      <td></td>\n",
       "      <td>2</td>\n",
       "      <td>0</td>\n",
       "    </tr>\n",
       "    <tr>\n",
       "      <th>1</th>\n",
       "      <td>c</td>\n",
       "      <td></td>\n",
       "      <td></td>\n",
       "      <td>1</td>\n",
       "      <td>1</td>\n",
       "    </tr>\n",
       "    <tr>\n",
       "      <th>3</th>\n",
       "      <td>e</td>\n",
       "      <td>f</td>\n",
       "      <td>h</td>\n",
       "      <td>3</td>\n",
       "      <td>2</td>\n",
       "    </tr>\n",
       "    <tr>\n",
       "      <th>6</th>\n",
       "      <td>a</td>\n",
       "      <td>g</td>\n",
       "      <td></td>\n",
       "      <td>2</td>\n",
       "      <td>3</td>\n",
       "    </tr>\n",
       "  </tbody>\n",
       "</table>\n",
       "</div>"
      ],
      "text/plain": [
       "      0  1  2  c  e\n",
       "Rank               \n",
       "0     b  d     2  0\n",
       "1     c        1  1\n",
       "3     e  f  h  3  2\n",
       "6     a  g     2  3"
      ]
     },
     "execution_count": 14,
     "metadata": {},
     "output_type": "execute_result"
    }
   ],
   "source": [
    "# differences e (écarts?) of indexes of non-'white' in subsets\n",
    "idx_diff = np.diff(sets.index.to_numpy())\n",
    "e = np.append(0, idx_diff)\n",
    "\n",
    "#------------display------------\n",
    "df['e'] = e\n",
    "df"
   ]
  },
  {
   "cell_type": "markdown",
   "id": "a9b5dffc-a78c-4695-a59d-1b400074892b",
   "metadata": {
    "tags": []
   },
   "source": [
    "### Non-normalized weights\n",
    "\n",
    "The non-normalized weights are:\n",
    "\n",
    "$$k_r = 1 + u \\sum_{i=0}^{r-1}e_i$$\n",
    "\n",
    "in which $e_0 = 0$.\n",
    "\n",
    "The ratio of weigts of last and first criteria is \n",
    "$$ \\frac{k_{r,n}}{k_{r,0}} \\cong z$$"
   ]
  },
  {
   "cell_type": "code",
   "execution_count": 15,
   "id": "2164a1d9-eaf0-4d43-9624-298dfdba22ec",
   "metadata": {},
   "outputs": [
    {
     "data": {
      "text/html": [
       "<div>\n",
       "<style scoped>\n",
       "    .dataframe tbody tr th:only-of-type {\n",
       "        vertical-align: middle;\n",
       "    }\n",
       "\n",
       "    .dataframe tbody tr th {\n",
       "        vertical-align: top;\n",
       "    }\n",
       "\n",
       "    .dataframe thead th {\n",
       "        text-align: right;\n",
       "    }\n",
       "</style>\n",
       "<table border=\"1\" class=\"dataframe\">\n",
       "  <thead>\n",
       "    <tr style=\"text-align: right;\">\n",
       "      <th></th>\n",
       "      <th>0</th>\n",
       "      <th>1</th>\n",
       "      <th>2</th>\n",
       "      <th>c</th>\n",
       "      <th>e</th>\n",
       "      <th>k</th>\n",
       "    </tr>\n",
       "    <tr>\n",
       "      <th>Rank</th>\n",
       "      <th></th>\n",
       "      <th></th>\n",
       "      <th></th>\n",
       "      <th></th>\n",
       "      <th></th>\n",
       "      <th></th>\n",
       "    </tr>\n",
       "  </thead>\n",
       "  <tbody>\n",
       "    <tr>\n",
       "      <th>0</th>\n",
       "      <td>b</td>\n",
       "      <td>d</td>\n",
       "      <td></td>\n",
       "      <td>2</td>\n",
       "      <td>0</td>\n",
       "      <td>1.000</td>\n",
       "    </tr>\n",
       "    <tr>\n",
       "      <th>1</th>\n",
       "      <td>c</td>\n",
       "      <td></td>\n",
       "      <td></td>\n",
       "      <td>1</td>\n",
       "      <td>1</td>\n",
       "      <td>2.375</td>\n",
       "    </tr>\n",
       "    <tr>\n",
       "      <th>3</th>\n",
       "      <td>e</td>\n",
       "      <td>f</td>\n",
       "      <td>h</td>\n",
       "      <td>3</td>\n",
       "      <td>2</td>\n",
       "      <td>5.125</td>\n",
       "    </tr>\n",
       "    <tr>\n",
       "      <th>6</th>\n",
       "      <td>a</td>\n",
       "      <td>g</td>\n",
       "      <td></td>\n",
       "      <td>2</td>\n",
       "      <td>3</td>\n",
       "      <td>9.250</td>\n",
       "    </tr>\n",
       "  </tbody>\n",
       "</table>\n",
       "</div>"
      ],
      "text/plain": [
       "      0  1  2  c  e      k\n",
       "Rank                      \n",
       "0     b  d     2  0  1.000\n",
       "1     c        1  1  2.375\n",
       "3     e  f  h  3  2  5.125\n",
       "6     a  g     2  3  9.250"
      ]
     },
     "execution_count": 15,
     "metadata": {},
     "output_type": "execute_result"
    }
   ],
   "source": [
    "# Non-normalized weights k\n",
    "k = 1 + u * np.cumsum(e)\n",
    "\n",
    "#------------display------------\n",
    "df['k'] = k\n",
    "df"
   ]
  },
  {
   "cell_type": "markdown",
   "id": "271c8166-e266-4b0d-a5f2-3fc86c288c97",
   "metadata": {
    "tags": []
   },
   "source": [
    "## Normalized weights\n",
    "\n",
    "The wieghts are normalized to add up to 100:\n",
    "\n",
    "$$k_{r}^{*} = \\frac{100}{\\sum_{i=1}^{\\widetilde{n}}c_i k_i}k_r$$"
   ]
  },
  {
   "cell_type": "code",
   "execution_count": 16,
   "id": "88ff95ba-9f9d-4f9b-9afd-04ad36488c0c",
   "metadata": {},
   "outputs": [
    {
     "data": {
      "text/html": [
       "<div>\n",
       "<style scoped>\n",
       "    .dataframe tbody tr th:only-of-type {\n",
       "        vertical-align: middle;\n",
       "    }\n",
       "\n",
       "    .dataframe tbody tr th {\n",
       "        vertical-align: top;\n",
       "    }\n",
       "\n",
       "    .dataframe thead th {\n",
       "        text-align: right;\n",
       "    }\n",
       "</style>\n",
       "<table border=\"1\" class=\"dataframe\">\n",
       "  <thead>\n",
       "    <tr style=\"text-align: right;\">\n",
       "      <th></th>\n",
       "      <th>0</th>\n",
       "      <th>1</th>\n",
       "      <th>2</th>\n",
       "      <th>c</th>\n",
       "      <th>e</th>\n",
       "      <th>k</th>\n",
       "      <th>weights</th>\n",
       "    </tr>\n",
       "    <tr>\n",
       "      <th>Rank</th>\n",
       "      <th></th>\n",
       "      <th></th>\n",
       "      <th></th>\n",
       "      <th></th>\n",
       "      <th></th>\n",
       "      <th></th>\n",
       "      <th></th>\n",
       "    </tr>\n",
       "  </thead>\n",
       "  <tbody>\n",
       "    <tr>\n",
       "      <th>0</th>\n",
       "      <td>b</td>\n",
       "      <td>d</td>\n",
       "      <td></td>\n",
       "      <td>2</td>\n",
       "      <td>0</td>\n",
       "      <td>1.000</td>\n",
       "      <td>2.614379</td>\n",
       "    </tr>\n",
       "    <tr>\n",
       "      <th>1</th>\n",
       "      <td>c</td>\n",
       "      <td></td>\n",
       "      <td></td>\n",
       "      <td>1</td>\n",
       "      <td>1</td>\n",
       "      <td>2.375</td>\n",
       "      <td>6.209150</td>\n",
       "    </tr>\n",
       "    <tr>\n",
       "      <th>3</th>\n",
       "      <td>e</td>\n",
       "      <td>f</td>\n",
       "      <td>h</td>\n",
       "      <td>3</td>\n",
       "      <td>2</td>\n",
       "      <td>5.125</td>\n",
       "      <td>13.398693</td>\n",
       "    </tr>\n",
       "    <tr>\n",
       "      <th>6</th>\n",
       "      <td>a</td>\n",
       "      <td>g</td>\n",
       "      <td></td>\n",
       "      <td>2</td>\n",
       "      <td>3</td>\n",
       "      <td>9.250</td>\n",
       "      <td>24.183007</td>\n",
       "    </tr>\n",
       "  </tbody>\n",
       "</table>\n",
       "</div>"
      ],
      "text/plain": [
       "      0  1  2  c  e      k    weights\n",
       "Rank                                 \n",
       "0     b  d     2  0  1.000   2.614379\n",
       "1     c        1  1  2.375   6.209150\n",
       "3     e  f  h  3  2  5.125  13.398693\n",
       "6     a  g     2  3  9.250  24.183007"
      ]
     },
     "execution_count": 16,
     "metadata": {},
     "output_type": "execute_result"
    }
   ],
   "source": [
    "# Normalized weights\n",
    "weights = 100 / sum(c * k) * k\n",
    "\n",
    "#------------display------------\n",
    "df['weights'] = weights\n",
    "df"
   ]
  },
  {
   "cell_type": "code",
   "execution_count": 17,
   "id": "70b31b69-7c56-46a1-a09c-5cce18b42c9f",
   "metadata": {},
   "outputs": [
    {
     "name": "stdout",
     "output_type": "stream",
     "text": [
      "Sum of normalized weights: 100.00\n"
     ]
    }
   ],
   "source": [
    "print(f\"Sum of normalized weights: {sum(c * df['weights']):.2f}\")"
   ]
  },
  {
   "cell_type": "markdown",
   "id": "d21a5c0e-4b00-4ae4-9c09-0228e6ac4a31",
   "metadata": {},
   "source": [
    "## Weights allocated to each criterion\n",
    "The weights are associated to a set of criteria *ex aequo* (see above). In order to obtain pairs [Criteria, Normed_weight]: \n",
    "- flat the criteria,\n",
    "- expand and flat the weigths,\n",
    "- make a dataframe which associates each criterion with its corresponding weight."
   ]
  },
  {
   "cell_type": "code",
   "execution_count": 18,
   "id": "66f49c87-eea1-468e-87d2-d0c4b62f65f7",
   "metadata": {},
   "outputs": [],
   "source": [
    "# Reshape the results to match each criterion with its weight\n",
    "# flat subsets\n",
    "sets_flat = sets.stack().values\n",
    "\n",
    "# weights expanded to correspond to elemnets of sets_flat\n",
    "weights_flat = [c.values[i] * [weights[i]] for i in range(len(c))]\n",
    "weights_flat = sum(weights_flat, [])\n",
    "\n",
    "# return the result as a dataframe\n",
    "df = pd.DataFrame({'Criteria': sets_flat, 'Weight': weights_flat})"
   ]
  },
  {
   "cell_type": "markdown",
   "id": "c162fbe5-7b15-41cd-ad9e-3cfa161963a9",
   "metadata": {
    "tags": []
   },
   "source": [
    "# Result validation\n",
    "Compare the results obtained above with those presented in:\n",
    "- Papathanasiou, J., Ploskas, N. (2018), Table A.2 page 168 for `subsets_1`\n",
    "- Figueira, J., Roy, B. (2002), Table 5, column *Normalized weights $k^*_i$* (note that in this table, the results are in the order of the weights, not of the criteria) for `subsets_2`."
   ]
  },
  {
   "cell_type": "code",
   "execution_count": 19,
   "id": "6db9e9f9-187f-4335-93df-e930013bf561",
   "metadata": {
    "tags": []
   },
   "outputs": [],
   "source": [
    "# Total of weights (should be 100).\n",
    "Total = df['Weight'].sum()\n",
    "df.loc['Total', 'Weight'] = Total"
   ]
  },
  {
   "cell_type": "code",
   "execution_count": 20,
   "id": "4da95650-a2fc-48f7-bbdc-ac4b0d4cd8c8",
   "metadata": {
    "tags": []
   },
   "outputs": [
    {
     "data": {
      "text/html": [
       "<div>\n",
       "<style scoped>\n",
       "    .dataframe tbody tr th:only-of-type {\n",
       "        vertical-align: middle;\n",
       "    }\n",
       "\n",
       "    .dataframe tbody tr th {\n",
       "        vertical-align: top;\n",
       "    }\n",
       "\n",
       "    .dataframe thead th {\n",
       "        text-align: right;\n",
       "    }\n",
       "</style>\n",
       "<table border=\"1\" class=\"dataframe\">\n",
       "  <thead>\n",
       "    <tr style=\"text-align: right;\">\n",
       "      <th></th>\n",
       "      <th>Criteria</th>\n",
       "      <th>Weight</th>\n",
       "    </tr>\n",
       "  </thead>\n",
       "  <tbody>\n",
       "    <tr>\n",
       "      <th>6</th>\n",
       "      <td>a</td>\n",
       "      <td>24.183007</td>\n",
       "    </tr>\n",
       "    <tr>\n",
       "      <th>0</th>\n",
       "      <td>b</td>\n",
       "      <td>2.614379</td>\n",
       "    </tr>\n",
       "    <tr>\n",
       "      <th>2</th>\n",
       "      <td>c</td>\n",
       "      <td>6.209150</td>\n",
       "    </tr>\n",
       "    <tr>\n",
       "      <th>1</th>\n",
       "      <td>d</td>\n",
       "      <td>2.614379</td>\n",
       "    </tr>\n",
       "    <tr>\n",
       "      <th>3</th>\n",
       "      <td>e</td>\n",
       "      <td>13.398693</td>\n",
       "    </tr>\n",
       "    <tr>\n",
       "      <th>4</th>\n",
       "      <td>f</td>\n",
       "      <td>13.398693</td>\n",
       "    </tr>\n",
       "    <tr>\n",
       "      <th>7</th>\n",
       "      <td>g</td>\n",
       "      <td>24.183007</td>\n",
       "    </tr>\n",
       "    <tr>\n",
       "      <th>5</th>\n",
       "      <td>h</td>\n",
       "      <td>13.398693</td>\n",
       "    </tr>\n",
       "    <tr>\n",
       "      <th>Total</th>\n",
       "      <td>NaN</td>\n",
       "      <td>100.000000</td>\n",
       "    </tr>\n",
       "  </tbody>\n",
       "</table>\n",
       "</div>"
      ],
      "text/plain": [
       "      Criteria      Weight\n",
       "6            a   24.183007\n",
       "0            b    2.614379\n",
       "2            c    6.209150\n",
       "1            d    2.614379\n",
       "3            e   13.398693\n",
       "4            f   13.398693\n",
       "7            g   24.183007\n",
       "5            h   13.398693\n",
       "Total      NaN  100.000000"
      ]
     },
     "execution_count": 20,
     "metadata": {},
     "output_type": "execute_result"
    }
   ],
   "source": [
    "df.sort_values(by=[\"Criteria\"])"
   ]
  },
  {
   "cell_type": "code",
   "execution_count": 21,
   "id": "e1e17cd5-5d2b-4c72-9acd-3dda078b472f",
   "metadata": {},
   "outputs": [
    {
     "data": {
      "text/html": [
       "<div>\n",
       "<style scoped>\n",
       "    .dataframe tbody tr th:only-of-type {\n",
       "        vertical-align: middle;\n",
       "    }\n",
       "\n",
       "    .dataframe tbody tr th {\n",
       "        vertical-align: top;\n",
       "    }\n",
       "\n",
       "    .dataframe thead th {\n",
       "        text-align: right;\n",
       "    }\n",
       "</style>\n",
       "<table border=\"1\" class=\"dataframe\">\n",
       "  <thead>\n",
       "    <tr style=\"text-align: right;\">\n",
       "      <th></th>\n",
       "      <th>Criteria</th>\n",
       "      <th>Weight</th>\n",
       "    </tr>\n",
       "  </thead>\n",
       "  <tbody>\n",
       "    <tr>\n",
       "      <th>0</th>\n",
       "      <td>b</td>\n",
       "      <td>2.614379</td>\n",
       "    </tr>\n",
       "    <tr>\n",
       "      <th>1</th>\n",
       "      <td>d</td>\n",
       "      <td>2.614379</td>\n",
       "    </tr>\n",
       "    <tr>\n",
       "      <th>2</th>\n",
       "      <td>c</td>\n",
       "      <td>6.209150</td>\n",
       "    </tr>\n",
       "    <tr>\n",
       "      <th>3</th>\n",
       "      <td>e</td>\n",
       "      <td>13.398693</td>\n",
       "    </tr>\n",
       "    <tr>\n",
       "      <th>4</th>\n",
       "      <td>f</td>\n",
       "      <td>13.398693</td>\n",
       "    </tr>\n",
       "    <tr>\n",
       "      <th>5</th>\n",
       "      <td>h</td>\n",
       "      <td>13.398693</td>\n",
       "    </tr>\n",
       "    <tr>\n",
       "      <th>6</th>\n",
       "      <td>a</td>\n",
       "      <td>24.183007</td>\n",
       "    </tr>\n",
       "    <tr>\n",
       "      <th>7</th>\n",
       "      <td>g</td>\n",
       "      <td>24.183007</td>\n",
       "    </tr>\n",
       "    <tr>\n",
       "      <th>Total</th>\n",
       "      <td>NaN</td>\n",
       "      <td>100.000000</td>\n",
       "    </tr>\n",
       "  </tbody>\n",
       "</table>\n",
       "</div>"
      ],
      "text/plain": [
       "      Criteria      Weight\n",
       "0            b    2.614379\n",
       "1            d    2.614379\n",
       "2            c    6.209150\n",
       "3            e   13.398693\n",
       "4            f   13.398693\n",
       "5            h   13.398693\n",
       "6            a   24.183007\n",
       "7            g   24.183007\n",
       "Total      NaN  100.000000"
      ]
     },
     "execution_count": 21,
     "metadata": {},
     "output_type": "execute_result"
    }
   ],
   "source": [
    "df.sort_values(by=[\"Weight\"])"
   ]
  },
  {
   "cell_type": "markdown",
   "id": "e705e71e-3551-45c6-a76e-8de5f2e52818",
   "metadata": {},
   "source": [
    "# Examples of use"
   ]
  },
  {
   "cell_type": "markdown",
   "id": "a23de852-4766-4cd9-8f62-4fa504e37913",
   "metadata": {},
   "source": [
    "## Example 1\n",
    "\n",
    "`subsets_1.csv` data from:\n",
    "\n",
    "> Papathanasiou, J., Ploskas, N. (2018). Multiple criteria decision aid. Methods, Examples and Python Implementations, 136.Appendix: Revised Simos https://doi.org/10.1007/978-3-319-91648-4\n",
    ">\n",
    "> Table A.1 Ranking of the criteria using cards, page 167\n",
    "> Table A.2 Criteria weights, page 168"
   ]
  },
  {
   "cell_type": "code",
   "execution_count": 22,
   "id": "5762855b-f5ff-419a-be7c-5bb4c9593327",
   "metadata": {},
   "outputs": [
    {
     "name": "stdout",
     "output_type": "stream",
     "text": [
      "Set of cards (Table A.1, page 167)\n"
     ]
    },
    {
     "data": {
      "text/html": [
       "<div>\n",
       "<style scoped>\n",
       "    .dataframe tbody tr th:only-of-type {\n",
       "        vertical-align: middle;\n",
       "    }\n",
       "\n",
       "    .dataframe tbody tr th {\n",
       "        vertical-align: top;\n",
       "    }\n",
       "\n",
       "    .dataframe thead th {\n",
       "        text-align: right;\n",
       "    }\n",
       "</style>\n",
       "<table border=\"1\" class=\"dataframe\">\n",
       "  <thead>\n",
       "    <tr style=\"text-align: right;\">\n",
       "      <th></th>\n",
       "      <th>0</th>\n",
       "      <th>1</th>\n",
       "      <th>2</th>\n",
       "    </tr>\n",
       "  </thead>\n",
       "  <tbody>\n",
       "    <tr>\n",
       "      <th>0</th>\n",
       "      <td>b</td>\n",
       "      <td>d</td>\n",
       "      <td></td>\n",
       "    </tr>\n",
       "    <tr>\n",
       "      <th>1</th>\n",
       "      <td>c</td>\n",
       "      <td></td>\n",
       "      <td></td>\n",
       "    </tr>\n",
       "    <tr>\n",
       "      <th>2</th>\n",
       "      <td>white</td>\n",
       "      <td></td>\n",
       "      <td></td>\n",
       "    </tr>\n",
       "    <tr>\n",
       "      <th>3</th>\n",
       "      <td>e</td>\n",
       "      <td>f</td>\n",
       "      <td>h</td>\n",
       "    </tr>\n",
       "    <tr>\n",
       "      <th>4</th>\n",
       "      <td>white</td>\n",
       "      <td></td>\n",
       "      <td></td>\n",
       "    </tr>\n",
       "    <tr>\n",
       "      <th>5</th>\n",
       "      <td>white</td>\n",
       "      <td></td>\n",
       "      <td></td>\n",
       "    </tr>\n",
       "    <tr>\n",
       "      <th>6</th>\n",
       "      <td>a</td>\n",
       "      <td>g</td>\n",
       "      <td></td>\n",
       "    </tr>\n",
       "  </tbody>\n",
       "</table>\n",
       "</div>"
      ],
      "text/plain": [
       "       0  1  2\n",
       "0      b  d   \n",
       "1      c      \n",
       "2  white      \n",
       "3      e  f  h\n",
       "4  white      \n",
       "5  white      \n",
       "6      a  g   "
      ]
     },
     "execution_count": 22,
     "metadata": {},
     "output_type": "execute_result"
    }
   ],
   "source": [
    "set_cards = \"../../data/cards_subsets_1.csv\"\n",
    "\n",
    "print(\"Set of cards (Table A.1, page 167)\")\n",
    "pd.read_csv(set_cards).fillna('')"
   ]
  },
  {
   "cell_type": "code",
   "execution_count": 23,
   "id": "0d894df8-c333-49f1-ba75-7f051db0795b",
   "metadata": {},
   "outputs": [
    {
     "name": "stdout",
     "output_type": "stream",
     "text": [
      "\n",
      "Results for ../../data/cards_subsets_1.csv with z = 6.5 (Table A.2, page 168):\n",
      "\n",
      "Sorted criteria \n"
     ]
    },
    {
     "data": {
      "text/html": [
       "<div>\n",
       "<style scoped>\n",
       "    .dataframe tbody tr th:only-of-type {\n",
       "        vertical-align: middle;\n",
       "    }\n",
       "\n",
       "    .dataframe tbody tr th {\n",
       "        vertical-align: top;\n",
       "    }\n",
       "\n",
       "    .dataframe thead th {\n",
       "        text-align: right;\n",
       "    }\n",
       "</style>\n",
       "<table border=\"1\" class=\"dataframe\">\n",
       "  <thead>\n",
       "    <tr style=\"text-align: right;\">\n",
       "      <th></th>\n",
       "      <th>Criteria</th>\n",
       "      <th>Weight</th>\n",
       "    </tr>\n",
       "  </thead>\n",
       "  <tbody>\n",
       "    <tr>\n",
       "      <th>6</th>\n",
       "      <td>a</td>\n",
       "      <td>24.183007</td>\n",
       "    </tr>\n",
       "    <tr>\n",
       "      <th>0</th>\n",
       "      <td>b</td>\n",
       "      <td>2.614379</td>\n",
       "    </tr>\n",
       "    <tr>\n",
       "      <th>2</th>\n",
       "      <td>c</td>\n",
       "      <td>6.209150</td>\n",
       "    </tr>\n",
       "    <tr>\n",
       "      <th>1</th>\n",
       "      <td>d</td>\n",
       "      <td>2.614379</td>\n",
       "    </tr>\n",
       "    <tr>\n",
       "      <th>3</th>\n",
       "      <td>e</td>\n",
       "      <td>13.398693</td>\n",
       "    </tr>\n",
       "    <tr>\n",
       "      <th>4</th>\n",
       "      <td>f</td>\n",
       "      <td>13.398693</td>\n",
       "    </tr>\n",
       "    <tr>\n",
       "      <th>7</th>\n",
       "      <td>g</td>\n",
       "      <td>24.183007</td>\n",
       "    </tr>\n",
       "    <tr>\n",
       "      <th>5</th>\n",
       "      <td>h</td>\n",
       "      <td>13.398693</td>\n",
       "    </tr>\n",
       "  </tbody>\n",
       "</table>\n",
       "</div>"
      ],
      "text/plain": [
       "  Criteria     Weight\n",
       "6        a  24.183007\n",
       "0        b   2.614379\n",
       "2        c   6.209150\n",
       "1        d   2.614379\n",
       "3        e  13.398693\n",
       "4        f  13.398693\n",
       "7        g  24.183007\n",
       "5        h  13.398693"
      ]
     },
     "execution_count": 23,
     "metadata": {},
     "output_type": "execute_result"
    }
   ],
   "source": [
    "# The last subset is z = 6.5 more important than the 1st one\n",
    "z = 6.5\n",
    "\n",
    "df = simos_revised.criteria_weights_Simos(set_cards, z)\n",
    "\n",
    "print(f\"\\nResults for {set_cards} with z = {z} (Table A.2, page 168):\\n\")\n",
    "print(\"Sorted criteria \")\n",
    "df.sort_values(by=[\"Criteria\"])"
   ]
  },
  {
   "cell_type": "code",
   "execution_count": 24,
   "id": "80e00f57-fbbc-442f-aac6-7faa51387eb3",
   "metadata": {},
   "outputs": [
    {
     "name": "stdout",
     "output_type": "stream",
     "text": [
      "Sorted weights\n"
     ]
    },
    {
     "data": {
      "text/html": [
       "<div>\n",
       "<style scoped>\n",
       "    .dataframe tbody tr th:only-of-type {\n",
       "        vertical-align: middle;\n",
       "    }\n",
       "\n",
       "    .dataframe tbody tr th {\n",
       "        vertical-align: top;\n",
       "    }\n",
       "\n",
       "    .dataframe thead th {\n",
       "        text-align: right;\n",
       "    }\n",
       "</style>\n",
       "<table border=\"1\" class=\"dataframe\">\n",
       "  <thead>\n",
       "    <tr style=\"text-align: right;\">\n",
       "      <th></th>\n",
       "      <th>Criteria</th>\n",
       "      <th>Weight</th>\n",
       "    </tr>\n",
       "  </thead>\n",
       "  <tbody>\n",
       "    <tr>\n",
       "      <th>0</th>\n",
       "      <td>b</td>\n",
       "      <td>2.614379</td>\n",
       "    </tr>\n",
       "    <tr>\n",
       "      <th>1</th>\n",
       "      <td>d</td>\n",
       "      <td>2.614379</td>\n",
       "    </tr>\n",
       "    <tr>\n",
       "      <th>2</th>\n",
       "      <td>c</td>\n",
       "      <td>6.209150</td>\n",
       "    </tr>\n",
       "    <tr>\n",
       "      <th>3</th>\n",
       "      <td>e</td>\n",
       "      <td>13.398693</td>\n",
       "    </tr>\n",
       "    <tr>\n",
       "      <th>4</th>\n",
       "      <td>f</td>\n",
       "      <td>13.398693</td>\n",
       "    </tr>\n",
       "    <tr>\n",
       "      <th>5</th>\n",
       "      <td>h</td>\n",
       "      <td>13.398693</td>\n",
       "    </tr>\n",
       "    <tr>\n",
       "      <th>6</th>\n",
       "      <td>a</td>\n",
       "      <td>24.183007</td>\n",
       "    </tr>\n",
       "    <tr>\n",
       "      <th>7</th>\n",
       "      <td>g</td>\n",
       "      <td>24.183007</td>\n",
       "    </tr>\n",
       "  </tbody>\n",
       "</table>\n",
       "</div>"
      ],
      "text/plain": [
       "  Criteria     Weight\n",
       "0        b   2.614379\n",
       "1        d   2.614379\n",
       "2        c   6.209150\n",
       "3        e  13.398693\n",
       "4        f  13.398693\n",
       "5        h  13.398693\n",
       "6        a  24.183007\n",
       "7        g  24.183007"
      ]
     },
     "execution_count": 24,
     "metadata": {},
     "output_type": "execute_result"
    }
   ],
   "source": [
    "print(\"Sorted weights\")\n",
    "df.sort_values(by=[\"Weight\"])"
   ]
  },
  {
   "cell_type": "markdown",
   "id": "156b4222-007c-4537-a956-52cd06abe659",
   "metadata": {},
   "source": [
    "## Example 2\n",
    "\n",
    "`subsets_2.csv` data from:\n",
    "\n",
    "> Figueira, J., Roy, B. (2002). Determining the weights of criteria in the ELECTRE type methods with a revised Simos' procedure. European journal of operational research, 139(2), 317-326. https://doi.org/10.1016/S0377-2217(01)00370-8\n",
    ">\n",
    "> Table 1 Presentation of the information given by the set of cards, page 319\n",
    "> \n",
    "> Table 5, Determining the normalized weights of each criterion for w = 1 and z = 6.5, column *Normalized weights $k^*_i$* (note that in this table, the results are in the order of the weights, not of the criteria), page 324)"
   ]
  },
  {
   "cell_type": "code",
   "execution_count": 25,
   "id": "cf62ebe3-b9ca-4c64-9a02-2e7209cd87bf",
   "metadata": {},
   "outputs": [
    {
     "name": "stdout",
     "output_type": "stream",
     "text": [
      "Set of cards (Table 1, page 319)\n"
     ]
    },
    {
     "data": {
      "text/html": [
       "<div>\n",
       "<style scoped>\n",
       "    .dataframe tbody tr th:only-of-type {\n",
       "        vertical-align: middle;\n",
       "    }\n",
       "\n",
       "    .dataframe tbody tr th {\n",
       "        vertical-align: top;\n",
       "    }\n",
       "\n",
       "    .dataframe thead th {\n",
       "        text-align: right;\n",
       "    }\n",
       "</style>\n",
       "<table border=\"1\" class=\"dataframe\">\n",
       "  <thead>\n",
       "    <tr style=\"text-align: right;\">\n",
       "      <th></th>\n",
       "      <th>0</th>\n",
       "      <th>1</th>\n",
       "      <th>2</th>\n",
       "      <th>3</th>\n",
       "    </tr>\n",
       "  </thead>\n",
       "  <tbody>\n",
       "    <tr>\n",
       "      <th>0</th>\n",
       "      <td>c</td>\n",
       "      <td>g</td>\n",
       "      <td>l</td>\n",
       "      <td></td>\n",
       "    </tr>\n",
       "    <tr>\n",
       "      <th>1</th>\n",
       "      <td>d</td>\n",
       "      <td></td>\n",
       "      <td></td>\n",
       "      <td></td>\n",
       "    </tr>\n",
       "    <tr>\n",
       "      <th>2</th>\n",
       "      <td>white</td>\n",
       "      <td></td>\n",
       "      <td></td>\n",
       "      <td></td>\n",
       "    </tr>\n",
       "    <tr>\n",
       "      <th>3</th>\n",
       "      <td>b</td>\n",
       "      <td>f</td>\n",
       "      <td>i</td>\n",
       "      <td>j</td>\n",
       "    </tr>\n",
       "    <tr>\n",
       "      <th>4</th>\n",
       "      <td>e</td>\n",
       "      <td></td>\n",
       "      <td></td>\n",
       "      <td></td>\n",
       "    </tr>\n",
       "    <tr>\n",
       "      <th>5</th>\n",
       "      <td>a</td>\n",
       "      <td>h</td>\n",
       "      <td></td>\n",
       "      <td></td>\n",
       "    </tr>\n",
       "    <tr>\n",
       "      <th>6</th>\n",
       "      <td>k</td>\n",
       "      <td></td>\n",
       "      <td></td>\n",
       "      <td></td>\n",
       "    </tr>\n",
       "  </tbody>\n",
       "</table>\n",
       "</div>"
      ],
      "text/plain": [
       "       0  1  2  3\n",
       "0      c  g  l   \n",
       "1      d         \n",
       "2  white         \n",
       "3      b  f  i  j\n",
       "4      e         \n",
       "5      a  h      \n",
       "6      k         "
      ]
     },
     "execution_count": 25,
     "metadata": {},
     "output_type": "execute_result"
    }
   ],
   "source": [
    "import simos_revised\n",
    "\n",
    "set_cards = \"../../data/cards_subsets_2.csv\"\n",
    "\n",
    "print(\"Set of cards (Table 1, page 319)\")\n",
    "pd.read_csv(set_cards).fillna('')"
   ]
  },
  {
   "cell_type": "code",
   "execution_count": 26,
   "id": "c3fce29a-fb3c-49a4-90be-8fa01672cfc7",
   "metadata": {},
   "outputs": [
    {
     "name": "stdout",
     "output_type": "stream",
     "text": [
      "\n",
      "Results for ../../data/cards_subsets_2.csv with z = 6.5 (Table 5, page 324):\n",
      "\n",
      "Sorted weights\n"
     ]
    },
    {
     "data": {
      "text/html": [
       "<div>\n",
       "<style scoped>\n",
       "    .dataframe tbody tr th:only-of-type {\n",
       "        vertical-align: middle;\n",
       "    }\n",
       "\n",
       "    .dataframe tbody tr th {\n",
       "        vertical-align: top;\n",
       "    }\n",
       "\n",
       "    .dataframe thead th {\n",
       "        text-align: right;\n",
       "    }\n",
       "</style>\n",
       "<table border=\"1\" class=\"dataframe\">\n",
       "  <thead>\n",
       "    <tr style=\"text-align: right;\">\n",
       "      <th></th>\n",
       "      <th>Criteria</th>\n",
       "      <th>Weight</th>\n",
       "    </tr>\n",
       "  </thead>\n",
       "  <tbody>\n",
       "    <tr>\n",
       "      <th>0</th>\n",
       "      <td>c</td>\n",
       "      <td>2.366863</td>\n",
       "    </tr>\n",
       "    <tr>\n",
       "      <th>1</th>\n",
       "      <td>g</td>\n",
       "      <td>2.366863</td>\n",
       "    </tr>\n",
       "    <tr>\n",
       "      <th>2</th>\n",
       "      <td>l</td>\n",
       "      <td>2.366863</td>\n",
       "    </tr>\n",
       "    <tr>\n",
       "      <th>3</th>\n",
       "      <td>d</td>\n",
       "      <td>4.536489</td>\n",
       "    </tr>\n",
       "    <tr>\n",
       "      <th>4</th>\n",
       "      <td>b</td>\n",
       "      <td>8.875740</td>\n",
       "    </tr>\n",
       "    <tr>\n",
       "      <th>5</th>\n",
       "      <td>f</td>\n",
       "      <td>8.875740</td>\n",
       "    </tr>\n",
       "    <tr>\n",
       "      <th>6</th>\n",
       "      <td>i</td>\n",
       "      <td>8.875740</td>\n",
       "    </tr>\n",
       "    <tr>\n",
       "      <th>7</th>\n",
       "      <td>j</td>\n",
       "      <td>8.875740</td>\n",
       "    </tr>\n",
       "    <tr>\n",
       "      <th>8</th>\n",
       "      <td>e</td>\n",
       "      <td>11.045365</td>\n",
       "    </tr>\n",
       "    <tr>\n",
       "      <th>9</th>\n",
       "      <td>a</td>\n",
       "      <td>13.214991</td>\n",
       "    </tr>\n",
       "    <tr>\n",
       "      <th>10</th>\n",
       "      <td>h</td>\n",
       "      <td>13.214991</td>\n",
       "    </tr>\n",
       "    <tr>\n",
       "      <th>11</th>\n",
       "      <td>k</td>\n",
       "      <td>15.384616</td>\n",
       "    </tr>\n",
       "  </tbody>\n",
       "</table>\n",
       "</div>"
      ],
      "text/plain": [
       "   Criteria     Weight\n",
       "0         c   2.366863\n",
       "1         g   2.366863\n",
       "2         l   2.366863\n",
       "3         d   4.536489\n",
       "4         b   8.875740\n",
       "5         f   8.875740\n",
       "6         i   8.875740\n",
       "7         j   8.875740\n",
       "8         e  11.045365\n",
       "9         a  13.214991\n",
       "10        h  13.214991\n",
       "11        k  15.384616"
      ]
     },
     "execution_count": 26,
     "metadata": {},
     "output_type": "execute_result"
    }
   ],
   "source": [
    "# The last subset is z = 6.5 more important than the 1st one\n",
    "z = 6.5\n",
    "\n",
    "df = simos_revised.criteria_weights_Simos(set_cards, z)\n",
    "\n",
    "print(f\"\\nResults for {set_cards} with z = {z} (Table 5, page 324):\\n\")\n",
    "print(\"Sorted weights\")\n",
    "df.sort_values(by=[\"Weight\"])"
   ]
  },
  {
   "cell_type": "markdown",
   "id": "055542fd-ac0f-43ed-b1ca-546d76b98324",
   "metadata": {},
   "source": [
    "# Bibliography\n",
    "\n",
    "Papathanasiou, J., Ploskas, N. (2018). Multiple criteria decision aid. Methods, Examples and Python Implementations, 136.Appendix: Revised Simos https://doi.org/10.1007/978-3-319-91648-4\n",
    "\n",
    "Figueira, J., Roy, B. (2002). Determining the weights of criteria in the ELECTRE type methods with a revised Simos' procedure. European journal of operational research, 139(2), 317-326. https://doi.org/10.1016/S0377-2217(01)00370-8"
   ]
  },
  {
   "cell_type": "code",
   "execution_count": null,
   "id": "44ebac1e-8d40-4dc1-849b-40e343d31ff3",
   "metadata": {},
   "outputs": [],
   "source": []
  }
 ],
 "metadata": {
  "kernelspec": {
   "display_name": "Python 3 (ipykernel)",
   "language": "python",
   "name": "python3"
  },
  "language_info": {
   "codemirror_mode": {
    "name": "ipython",
    "version": 3
   },
   "file_extension": ".py",
   "mimetype": "text/x-python",
   "name": "python",
   "nbconvert_exporter": "python",
   "pygments_lexer": "ipython3",
   "version": "3.11.7"
  },
  "toc-autonumbering": true
 },
 "nbformat": 4,
 "nbformat_minor": 5
}
