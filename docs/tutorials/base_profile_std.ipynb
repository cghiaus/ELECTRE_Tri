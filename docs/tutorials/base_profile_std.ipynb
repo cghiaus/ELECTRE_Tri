{
 "cells": [
  {
   "cell_type": "markdown",
   "id": "e6af49a0-095c-42e1-a306-5133c6c4b30b",
   "metadata": {},
   "source": [
    "<h1>pELECTRE Tri analysis with explicitely defined base profiles</h1>\n",
    "\n",
    "[![Binder](https://mybinder.org/badge_logo.svg)](https://mybinder.org/v2/gh/cghiaus/ELECTRE_Tri/HEAD?labpath=docs%2Ftutorials%2Fbase_profile_pelectre.ipynb)\n",
    "\n",
    "pELECTRE Tri-B is a probabilistic extention of ELECTRE Tri-B multiple-criteria decision-making (MCDM). It gives the degree of membership of alternatives to categories based on probability distribution of velues in performance matrix.\n",
    "\n",
    "**Given:**\n",
    "\n",
    "- A set of criteria $c = \\{c_k\\}$ with associated weights $w = \\{w_k\\}$.\n",
    "- A matrix $A = \\{a_{i,k}\\}$ of performances of alternatives $a_i$ for each criterion $k$.\n",
    "- A matrix $S = \\{s_{i,k}\\}$ of standard deviation of performances of alternatives $a_i$ for each criterion $k$.\n",
    "- A matrix $B = \\{b_{j,k}\\}$ of base profiles (or category boundaries) $b_j$ for each criterion $k$ that form a set of $l$ ordered categories $C$, where $l - 1$ is the number of base profiles.\n",
    "- Preference $p = \\{p_k\\}$, indifference $q = \\{q_k\\}$, and veto $v = \\{v_k\\}$ threshold vectors for each criterion.\n",
    "- A credibility threshold $\\lambda$ for outranking.\n",
    "\n",
    "**Do:**\n",
    "1. Take random values for performance of alternatives with mean $\\{a_{i,k}\\}$ and standard deviation $\\{s_{i,k}\\}$.\n",
    "2. Assign each alternative $a_i ∈ A$ to one of the predefined categories $C_j ∈ C$ based on its performance across all criteria $c_k$ by using optimistic and pessimistic classification.\n",
    "3. Repeat this process.\n",
    "4. Obtain probabilistic classification that shows the probability of each alternative to belong to a category."
   ]
  },
  {
   "cell_type": "code",
   "execution_count": 2,
   "id": "facd074c-a16e-4376-bc78-6aacf7a2ec70",
   "metadata": {},
   "outputs": [],
   "source": [
    "\"\"\"\n",
    "Append `src/` directory to `path`\n",
    "\"\"\"\n",
    "import sys\n",
    "import os\n",
    "\n",
    "notebook_dir = os.path.dirname(os.path.abspath('__file__'))\n",
    "project_root = os.path.dirname(os.path.dirname(notebook_dir))\n",
    "\n",
    "src_dir = os.path.join(project_root, 'src')\n",
    "sys.path.append(src_dir)"
   ]
  },
  {
   "cell_type": "code",
   "execution_count": 3,
   "id": "d088eea9-6f1a-42ab-aefe-aed829fc31dd",
   "metadata": {},
   "outputs": [],
   "source": [
    "import pandas as pd\n",
    "\n",
    "import electre_tri as et"
   ]
  },
  {
   "cell_type": "markdown",
   "id": "090d1869-34b2-48e8-bdb9-cddbe77e14e9",
   "metadata": {},
   "source": [
    "# Data file\n",
    "\n",
    "ELECTRE Tri-B data is a [.csv](https://en.m.wikipedia.org/wiki/Comma-separated_values) text file that contains, for each criterion:\n",
    "- performance of alternatives **A**;\n",
    "- base profiles **B**;\n",
    "- indifference, preference and veto thresholds **T**;\n",
    "- weights **w**. \n",
    "\n",
    "Examples data files are given in `data/` folder. Data files can be obtained with a [spreadsheet](https://en.m.wikipedia.org/wiki/Spreadsheet)."
   ]
  },
  {
   "cell_type": "code",
   "execution_count": 5,
   "id": "67043013-f51e-4cf2-99e1-af210178b960",
   "metadata": {},
   "outputs": [
    {
     "name": "stdout",
     "output_type": "stream",
     "text": [
      "Example of data file\n"
     ]
    },
    {
     "data": {
      "text/html": [
       "<div>\n",
       "<style scoped>\n",
       "    .dataframe tbody tr th:only-of-type {\n",
       "        vertical-align: middle;\n",
       "    }\n",
       "\n",
       "    .dataframe tbody tr th {\n",
       "        vertical-align: top;\n",
       "    }\n",
       "\n",
       "    .dataframe thead th {\n",
       "        text-align: right;\n",
       "    }\n",
       "</style>\n",
       "<table border=\"1\" class=\"dataframe\">\n",
       "  <thead>\n",
       "    <tr style=\"text-align: right;\">\n",
       "      <th></th>\n",
       "      <th>type</th>\n",
       "      <th>profile</th>\n",
       "      <th>c1</th>\n",
       "      <th>c2</th>\n",
       "    </tr>\n",
       "  </thead>\n",
       "  <tbody>\n",
       "    <tr>\n",
       "      <th>0</th>\n",
       "      <td>A</td>\n",
       "      <td>a1</td>\n",
       "      <td>8.50</td>\n",
       "      <td>18.0</td>\n",
       "    </tr>\n",
       "    <tr>\n",
       "      <th>1</th>\n",
       "      <td>A</td>\n",
       "      <td>a2</td>\n",
       "      <td>14.00</td>\n",
       "      <td>16.0</td>\n",
       "    </tr>\n",
       "    <tr>\n",
       "      <th>2</th>\n",
       "      <td>A</td>\n",
       "      <td>a3</td>\n",
       "      <td>5.00</td>\n",
       "      <td>27.0</td>\n",
       "    </tr>\n",
       "    <tr>\n",
       "      <th>3</th>\n",
       "      <td>S</td>\n",
       "      <td>a1</td>\n",
       "      <td>0.85</td>\n",
       "      <td>1.8</td>\n",
       "    </tr>\n",
       "    <tr>\n",
       "      <th>4</th>\n",
       "      <td>S</td>\n",
       "      <td>a2</td>\n",
       "      <td>1.40</td>\n",
       "      <td>1.6</td>\n",
       "    </tr>\n",
       "    <tr>\n",
       "      <th>5</th>\n",
       "      <td>S</td>\n",
       "      <td>a3</td>\n",
       "      <td>0.50</td>\n",
       "      <td>2.7</td>\n",
       "    </tr>\n",
       "    <tr>\n",
       "      <th>6</th>\n",
       "      <td>B</td>\n",
       "      <td>b1</td>\n",
       "      <td>10.00</td>\n",
       "      <td>15.0</td>\n",
       "    </tr>\n",
       "    <tr>\n",
       "      <th>7</th>\n",
       "      <td>B</td>\n",
       "      <td>b2</td>\n",
       "      <td>15.00</td>\n",
       "      <td>20.0</td>\n",
       "    </tr>\n",
       "    <tr>\n",
       "      <th>8</th>\n",
       "      <td>T</td>\n",
       "      <td>q</td>\n",
       "      <td>1.00</td>\n",
       "      <td>2.0</td>\n",
       "    </tr>\n",
       "    <tr>\n",
       "      <th>9</th>\n",
       "      <td>T</td>\n",
       "      <td>p</td>\n",
       "      <td>2.00</td>\n",
       "      <td>4.0</td>\n",
       "    </tr>\n",
       "    <tr>\n",
       "      <th>10</th>\n",
       "      <td>T</td>\n",
       "      <td>v</td>\n",
       "      <td>4.00</td>\n",
       "      <td>8.0</td>\n",
       "    </tr>\n",
       "    <tr>\n",
       "      <th>11</th>\n",
       "      <td>w</td>\n",
       "      <td>NaN</td>\n",
       "      <td>0.70</td>\n",
       "      <td>0.3</td>\n",
       "    </tr>\n",
       "  </tbody>\n",
       "</table>\n",
       "</div>"
      ],
      "text/plain": [
       "   type profile     c1    c2\n",
       "0     A      a1   8.50  18.0\n",
       "1     A      a2  14.00  16.0\n",
       "2     A      a3   5.00  27.0\n",
       "3     S      a1   0.85   1.8\n",
       "4     S      a2   1.40   1.6\n",
       "5     S      a3   0.50   2.7\n",
       "6     B      b1  10.00  15.0\n",
       "7     B      b2  15.00  20.0\n",
       "8     T       q   1.00   2.0\n",
       "9     T       p   2.00   4.0\n",
       "10    T       v   4.00   8.0\n",
       "11    w     NaN   0.70   0.3"
      ]
     },
     "execution_count": 5,
     "metadata": {},
     "output_type": "execute_result"
    }
   ],
   "source": [
    "data_file = \"../../data/base_profile_std.csv\"\n",
    "print(\"Example of data file\")\n",
    "pd.read_csv(data_file)"
   ]
  },
  {
   "cell_type": "markdown",
   "id": "c5fd78f1-46a1-4c99-932d-75f706f1330c",
   "metadata": {},
   "source": [
    "# Problem solving"
   ]
  },
  {
   "cell_type": "code",
   "execution_count": 7,
   "id": "ea315bf5-03ab-473c-833d-a7850aa306da",
   "metadata": {},
   "outputs": [],
   "source": [
    "# Problem statement\n",
    "data_file = \"../../data/base_profile_std.csv\"\n",
    "credibility_threshold = 0.7\n",
    "\n",
    "# Problem solving\n",
    "A, S, B, T, w = et.read_pelectre_tri_base(data_file)\n",
    "\n",
    "p_opti, p_pessi = et.pelectre_tri_b(\n",
    "    A, S, B, T, w,\n",
    "    credibility_threshold,\n",
    "    n_simulations=100)"
   ]
  },
  {
   "cell_type": "markdown",
   "id": "d434c7c9-fe0d-4790-8908-0d4849f35e5c",
   "metadata": {},
   "source": [
    "# Results"
   ]
  },
  {
   "cell_type": "markdown",
   "id": "4e405401-2707-43d8-9546-4a2a6981449e",
   "metadata": {},
   "source": [
    "## Probabilistic ranking\n",
    "\n",
    "Probabilistic ranking means indicating for each alternative the probability of membership to each  category."
   ]
  },
  {
   "cell_type": "code",
   "execution_count": 10,
   "id": "31c9dc55-2728-4ea8-9643-77e57d2593ca",
   "metadata": {},
   "outputs": [
    {
     "name": "stdout",
     "output_type": "stream",
     "text": [
      "\n",
      "Probabilistic optimistic ranking:\n",
      "            a1    a2    a3\n",
      "b1 ≻      0.49     0  0.03\n",
      "(b1, b2)  0.51  0.46  0.47\n",
      "b2 ≺         0  0.54  0.50\n",
      "\n",
      "Probabilistic pessimistic ranking:\n",
      "           a1    a2   a3\n",
      "b1 ≻      1.0  0.04  1.0\n",
      "(b1, b2)    0  0.94    0\n",
      "b2 ≺        0  0.02    0\n"
     ]
    }
   ],
   "source": [
    "# Results\n",
    "print(\"\\nProbabilistic optimistic ranking:\")\n",
    "print(p_opti.to_string(na_rep='0'))\n",
    "\n",
    "print(\"\\nProbabilistic pessimistic ranking:\")\n",
    "print(p_pessi.to_string(na_rep='0'))"
   ]
  },
  {
   "cell_type": "markdown",
   "id": "fab17324-b0f4-4875-9eb6-1dc19f3b7063",
   "metadata": {},
   "source": [
    "## Crisp ranking\n",
    "\n",
    "Crisp ranking means indicating for each alternative the category to which it belongs."
   ]
  },
  {
   "cell_type": "code",
   "execution_count": 12,
   "id": "b89e09f8-83cb-4dc7-a515-7df57015d47a",
   "metadata": {},
   "outputs": [
    {
     "name": "stdout",
     "output_type": "stream",
     "text": [
      "\n",
      "Probabilistic optimistic ranking:\n",
      "           a1   a2   a3\n",
      "b1 ≻      1.0    0    0\n",
      "(b1, b2)    0    0    0\n",
      "b2 ≺        0  1.0  1.0\n",
      "\n",
      "Probabilistic pessimistic ranking:\n",
      "           a1   a2   a3\n",
      "b1 ≻      1.0    0  1.0\n",
      "(b1, b2)    0  1.0    0\n",
      "b2 ≺        0    0    0\n"
     ]
    }
   ],
   "source": [
    "# Problem statement\n",
    "data_file = \"../../data/base_profile.csv\"\n",
    "credibility_threshold = 0.7\n",
    "\n",
    "# Problem solving\n",
    "A, B, T, w = et.read_electre_tri_base(data_file)\n",
    "opti, pessi = et.electre_tri_b(A, B, T, w,\n",
    "                               credibility_threshold)\n",
    "# Results\n",
    "print(\"\\nProbabilistic optimistic ranking:\")\n",
    "print(opti.to_string(na_rep='0'))\n",
    "\n",
    "print(\"\\nProbabilistic pessimistic ranking:\")\n",
    "print(pessi.to_string(na_rep='0'))"
   ]
  },
  {
   "cell_type": "code",
   "execution_count": null,
   "id": "f08252c0-1243-4f47-a663-67adcd28bab9",
   "metadata": {},
   "outputs": [],
   "source": []
  }
 ],
 "metadata": {
  "kernelspec": {
   "display_name": "Python [conda env:base] *",
   "language": "python",
   "name": "conda-base-py"
  },
  "language_info": {
   "codemirror_mode": {
    "name": "ipython",
    "version": 3
   },
   "file_extension": ".py",
   "mimetype": "text/x-python",
   "name": "python",
   "nbconvert_exporter": "python",
   "pygments_lexer": "ipython3",
   "version": "3.11.7"
  }
 },
 "nbformat": 4,
 "nbformat_minor": 5
}
