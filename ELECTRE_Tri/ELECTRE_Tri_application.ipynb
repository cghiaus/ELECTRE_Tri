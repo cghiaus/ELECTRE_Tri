{
 "cells": [
  {
   "cell_type": "markdown",
   "id": "1f1daab9-78f9-4963-884f-ebb0b80fdc01",
   "metadata": {},
   "source": [
    "<font size=\"6\">Practical application</font>\n",
    "\n",
    "[![Binder](https://mybinder.org/badge_logo.svg)](https://mybinder.org/v2/gh/cghiaus/ELECTRE_Tri/HEAD?labpath=ELECTRE_Tri%2FELECTRE_Tri_application.ipynb)"
   ]
  },
  {
   "cell_type": "code",
   "execution_count": 1,
   "id": "bf85598c-ccba-4c15-b945-bd033b84a8f5",
   "metadata": {},
   "outputs": [],
   "source": [
    "import numpy as np\n",
    "import pandas as pd\n",
    "\n",
    "import ELECTRE_Tri as et\n",
    "\n",
    "# Set pandas to display 2 decimal places\n",
    "pd.options.display.float_format = '{:.2f}'.format"
   ]
  },
  {
   "cell_type": "markdown",
   "id": "7a31d63f-0c5a-4126-ad84-702be187e6d2",
   "metadata": {},
   "source": [
    "# ELECTRE Tri: example with 3 alternatives and 2 criteria\n",
    "\n",
    "The decision maker needs to provide:\n",
    "- performance matrix;\n",
    "- weights of criteria.\n",
    "\n",
    "The parameters of ELECTRE Tri-B method (base profiles and thresholds) can be provided or deduced from the performance matrix.\n",
    "\n",
    "## Performance matrix\n",
    "### Alternatives\n",
    "- A1: Basic renovation\n",
    "- A2: Moderate renovation\n",
    "- A3: Extensive renovation\n",
    "\n",
    "### Criteria\n",
    "- C1: Energy savings (kWh/m²/year): to be maximised\n",
    "- C2: Investment cost (€/m²): to be minimised\n",
    "\n",
    "### Values in performance matrix\n",
    "\n",
    "| Alternative | C1/(kWh/m²/year) | C2/(€/m²) |\n",
    "|-------------|-------------------|-----------|\n",
    "| A1          | 50                | -100      |\n",
    "| A2          | 80                | -200      |\n",
    "| A3          | 120               | -350      |\n",
    "\n",
    "**Note**: performance for criteria to be minimized are negative numbers."
   ]
  },
  {
   "cell_type": "code",
   "execution_count": 2,
   "id": "23cc099a-d0c2-45c1-b127-f796c3ce37e7",
   "metadata": {},
   "outputs": [
    {
     "name": "stdout",
     "output_type": "stream",
     "text": [
      "Performance matrix\n"
     ]
    },
    {
     "data": {
      "text/html": [
       "<div>\n",
       "<style scoped>\n",
       "    .dataframe tbody tr th:only-of-type {\n",
       "        vertical-align: middle;\n",
       "    }\n",
       "\n",
       "    .dataframe tbody tr th {\n",
       "        vertical-align: top;\n",
       "    }\n",
       "\n",
       "    .dataframe thead th {\n",
       "        text-align: right;\n",
       "    }\n",
       "</style>\n",
       "<table border=\"1\" class=\"dataframe\">\n",
       "  <thead>\n",
       "    <tr style=\"text-align: right;\">\n",
       "      <th></th>\n",
       "      <th>C1/(kWh/m²/year)</th>\n",
       "      <th>C2/(€/m²)</th>\n",
       "    </tr>\n",
       "    <tr>\n",
       "      <th>Alternative</th>\n",
       "      <th></th>\n",
       "      <th></th>\n",
       "    </tr>\n",
       "  </thead>\n",
       "  <tbody>\n",
       "    <tr>\n",
       "      <th>A1</th>\n",
       "      <td>50</td>\n",
       "      <td>-100</td>\n",
       "    </tr>\n",
       "    <tr>\n",
       "      <th>A2</th>\n",
       "      <td>80</td>\n",
       "      <td>-200</td>\n",
       "    </tr>\n",
       "    <tr>\n",
       "      <th>A3</th>\n",
       "      <td>120</td>\n",
       "      <td>-350</td>\n",
       "    </tr>\n",
       "  </tbody>\n",
       "</table>\n",
       "</div>"
      ],
      "text/plain": [
       "             C1/(kWh/m²/year)  C2/(€/m²)\n",
       "Alternative                             \n",
       "A1                         50       -100\n",
       "A2                         80       -200\n",
       "A3                        120       -350"
      ]
     },
     "execution_count": 2,
     "metadata": {},
     "output_type": "execute_result"
    }
   ],
   "source": [
    "data_file = './data/performance_matrix.csv'\n",
    "print(\"Performance matrix\")\n",
    "A = pd.read_csv(data_file, index_col=0)\n",
    "A"
   ]
  },
  {
   "cell_type": "code",
   "execution_count": 3,
   "id": "692ddb55-4b04-4a9e-bfd2-edade23e7dec",
   "metadata": {},
   "outputs": [],
   "source": [
    "A.columns = ['C1', 'C2']"
   ]
  },
  {
   "cell_type": "markdown",
   "id": "7f985142-8cfc-4b37-a05f-de7bcf34fc37",
   "metadata": {},
   "source": [
    "### Criteria weights\n",
    "\n",
    "The weights of the criteria can be estimated by using Simos' method ([Figueira, Roy 2002](https://doi.org/10.1016/S0377-2217(01)00370-8)). See folder `\\Simos_revised` of this repository. "
   ]
  },
  {
   "cell_type": "code",
   "execution_count": 4,
   "id": "5a2e4a83-ba77-4c48-80de-79ff462e4b0d",
   "metadata": {},
   "outputs": [
    {
     "name": "stdout",
     "output_type": "stream",
     "text": [
      "Weights \n",
      "\n"
     ]
    },
    {
     "data": {
      "text/html": [
       "<div>\n",
       "<style scoped>\n",
       "    .dataframe tbody tr th:only-of-type {\n",
       "        vertical-align: middle;\n",
       "    }\n",
       "\n",
       "    .dataframe tbody tr th {\n",
       "        vertical-align: top;\n",
       "    }\n",
       "\n",
       "    .dataframe thead th {\n",
       "        text-align: right;\n",
       "    }\n",
       "</style>\n",
       "<table border=\"1\" class=\"dataframe\">\n",
       "  <thead>\n",
       "    <tr style=\"text-align: right;\">\n",
       "      <th></th>\n",
       "      <th>C1</th>\n",
       "      <th>C2</th>\n",
       "    </tr>\n",
       "  </thead>\n",
       "  <tbody>\n",
       "    <tr>\n",
       "      <th>w</th>\n",
       "      <td>0.70</td>\n",
       "      <td>0.30</td>\n",
       "    </tr>\n",
       "  </tbody>\n",
       "</table>\n",
       "</div>"
      ],
      "text/plain": [
       "    C1   C2\n",
       "w 0.70 0.30"
      ]
     },
     "execution_count": 4,
     "metadata": {},
     "output_type": "execute_result"
    }
   ],
   "source": [
    "w = pd.Series({\n",
    "    'C1': 0.7,\n",
    "    'C2': 0.3\n",
    "})\n",
    "print('Weights \\n')\n",
    "w.to_frame().T.rename(index={0: 'w'})"
   ]
  },
  {
   "cell_type": "markdown",
   "id": "0849c7a8-f3ec-41b3-86be-776b299e3447",
   "metadata": {},
   "source": [
    "## Calculate default parameters for ELECTRE Tri-B\n",
    "\n",
    "### Statistics\n",
    "- C1: μ = 83.33, σ = 35.12\n",
    "- C2: μ = 216.67, σ = 125.83"
   ]
  },
  {
   "cell_type": "code",
   "execution_count": 5,
   "id": "eeb7f22f-0393-4336-99c5-a170025a7ef5",
   "metadata": {},
   "outputs": [
    {
     "data": {
      "text/html": [
       "<div>\n",
       "<style scoped>\n",
       "    .dataframe tbody tr th:only-of-type {\n",
       "        vertical-align: middle;\n",
       "    }\n",
       "\n",
       "    .dataframe tbody tr th {\n",
       "        vertical-align: top;\n",
       "    }\n",
       "\n",
       "    .dataframe thead th {\n",
       "        text-align: right;\n",
       "    }\n",
       "</style>\n",
       "<table border=\"1\" class=\"dataframe\">\n",
       "  <thead>\n",
       "    <tr style=\"text-align: right;\">\n",
       "      <th></th>\n",
       "      <th>C1</th>\n",
       "      <th>C2</th>\n",
       "    </tr>\n",
       "  </thead>\n",
       "  <tbody>\n",
       "    <tr>\n",
       "      <th>mean</th>\n",
       "      <td>83.33</td>\n",
       "      <td>-216.67</td>\n",
       "    </tr>\n",
       "    <tr>\n",
       "      <th>std</th>\n",
       "      <td>35.12</td>\n",
       "      <td>125.83</td>\n",
       "    </tr>\n",
       "  </tbody>\n",
       "</table>\n",
       "</div>"
      ],
      "text/plain": [
       "        C1      C2\n",
       "mean 83.33 -216.67\n",
       "std  35.12  125.83"
      ]
     },
     "execution_count": 5,
     "metadata": {},
     "output_type": "execute_result"
    }
   ],
   "source": [
    "A_stat = A.agg(['mean', 'std'])\n",
    "A_stat"
   ]
  },
  {
   "cell_type": "markdown",
   "id": "fb1f9a76-75e4-4063-89b7-e7dc6afb0498",
   "metadata": {},
   "source": [
    "### Categories and base profiles\n",
    "\n",
    "We'll define 5 categories using μ and σ:\n",
    "\n",
    "1. Very Poor: < μ - σ\n",
    "2. Poor: μ - σ to μ - σ/2\n",
    "3. Average: μ - σ/2 to μ + σ/2\n",
    "4. Good: μ + σ/2 to μ + σ\n",
    "5. Very Good: > μ + σ\n",
    "\n",
    "using 4 base profiles (boundaries) between categories:\n",
    "1. Very Poor: μ - σ\n",
    "2. Poor: μ - σ/2\n",
    "3. Good: μ + σ/2\n",
    "4. Very Good: μ + σ"
   ]
  },
  {
   "cell_type": "code",
   "execution_count": 6,
   "id": "3ffab089-acf7-46c6-b8b3-4f762947c78b",
   "metadata": {},
   "outputs": [
    {
     "name": "stdout",
     "output_type": "stream",
     "text": [
      "Base profiles\n"
     ]
    },
    {
     "data": {
      "text/html": [
       "<div>\n",
       "<style scoped>\n",
       "    .dataframe tbody tr th:only-of-type {\n",
       "        vertical-align: middle;\n",
       "    }\n",
       "\n",
       "    .dataframe tbody tr th {\n",
       "        vertical-align: top;\n",
       "    }\n",
       "\n",
       "    .dataframe thead th {\n",
       "        text-align: right;\n",
       "    }\n",
       "</style>\n",
       "<table border=\"1\" class=\"dataframe\">\n",
       "  <thead>\n",
       "    <tr style=\"text-align: right;\">\n",
       "      <th></th>\n",
       "      <th>C1</th>\n",
       "      <th>C2</th>\n",
       "    </tr>\n",
       "  </thead>\n",
       "  <tbody>\n",
       "    <tr>\n",
       "      <th>Very Poor</th>\n",
       "      <td>48.21</td>\n",
       "      <td>-342.50</td>\n",
       "    </tr>\n",
       "    <tr>\n",
       "      <th>Poor</th>\n",
       "      <td>65.77</td>\n",
       "      <td>-279.58</td>\n",
       "    </tr>\n",
       "    <tr>\n",
       "      <th>Good</th>\n",
       "      <td>100.89</td>\n",
       "      <td>-153.75</td>\n",
       "    </tr>\n",
       "    <tr>\n",
       "      <th>Very Good</th>\n",
       "      <td>118.45</td>\n",
       "      <td>-90.84</td>\n",
       "    </tr>\n",
       "  </tbody>\n",
       "</table>\n",
       "</div>"
      ],
      "text/plain": [
       "              C1      C2\n",
       "Very Poor  48.21 -342.50\n",
       "Poor       65.77 -279.58\n",
       "Good      100.89 -153.75\n",
       "Very Good 118.45  -90.84"
      ]
     },
     "execution_count": 6,
     "metadata": {},
     "output_type": "execute_result"
    }
   ],
   "source": [
    "print(\"Base profiles\")\n",
    "# Define scaling factors for categories\n",
    "scales = np.array([-1, -0.5, 0.5, 1])  # Very Poor, Poor, Good, Very Good\n",
    "\n",
    "# Create DataFrame B with index\n",
    "B = pd.DataFrame(index=['Very Poor', 'Poor', 'Good', 'Very Good'],\n",
    "                 columns=A_stat.columns)\n",
    "\n",
    "# Calculate values for each column using broadcasting\n",
    "for col in A_stat.columns:\n",
    "    mean_value = A_stat.loc['mean', col]\n",
    "    std_value = A_stat.loc['std', col]\n",
    "    B[col] = mean_value + scales * std_value\n",
    "\n",
    "B"
   ]
  },
  {
   "cell_type": "markdown",
   "id": "ef2926f7-1e3d-41f1-9819-ed60e778c22e",
   "metadata": {},
   "source": [
    "### Thresholds\n",
    "We'll calculate thresholds based on the interval between two base profiles:\n",
    "\n",
    "For example, for C1, the interval between profiles is:\n",
    "(118.45 - 48.21) / 4 = 17.56\n",
    "\n",
    "The thresholds are:\n",
    "- q (indifference): 10% of 17.56 = 1.76\n",
    "- p (preference): 25% of 17.56 = 4.39\n",
    "- v (veto): 50% of 17.56 = 8.78\n"
   ]
  },
  {
   "cell_type": "code",
   "execution_count": 7,
   "id": "d627a66e-e1ea-4428-a413-3f9aeeada66a",
   "metadata": {},
   "outputs": [
    {
     "data": {
      "text/html": [
       "<div>\n",
       "<style scoped>\n",
       "    .dataframe tbody tr th:only-of-type {\n",
       "        vertical-align: middle;\n",
       "    }\n",
       "\n",
       "    .dataframe tbody tr th {\n",
       "        vertical-align: top;\n",
       "    }\n",
       "\n",
       "    .dataframe thead th {\n",
       "        text-align: right;\n",
       "    }\n",
       "</style>\n",
       "<table border=\"1\" class=\"dataframe\">\n",
       "  <thead>\n",
       "    <tr style=\"text-align: right;\">\n",
       "      <th></th>\n",
       "      <th>C1</th>\n",
       "      <th>C2</th>\n",
       "    </tr>\n",
       "  </thead>\n",
       "  <tbody>\n",
       "    <tr>\n",
       "      <th>q</th>\n",
       "      <td>1.76</td>\n",
       "      <td>6.29</td>\n",
       "    </tr>\n",
       "    <tr>\n",
       "      <th>p</th>\n",
       "      <td>4.39</td>\n",
       "      <td>15.73</td>\n",
       "    </tr>\n",
       "    <tr>\n",
       "      <th>v</th>\n",
       "      <td>8.78</td>\n",
       "      <td>31.46</td>\n",
       "    </tr>\n",
       "  </tbody>\n",
       "</table>\n",
       "</div>"
      ],
      "text/plain": [
       "    C1    C2\n",
       "q 1.76  6.29\n",
       "p 4.39 15.73\n",
       "v 8.78 31.46"
      ]
     },
     "execution_count": 7,
     "metadata": {},
     "output_type": "execute_result"
    }
   ],
   "source": [
    "# Calculate thresholds for each column\n",
    "thresholds = {}\n",
    "for col in B.columns:\n",
    "    interval = (B[col].max() - B[col].min()) / B.shape[0]\n",
    "    thresholds[col] = {\n",
    "        'q': 0.10 * interval,\n",
    "        'p': 0.25 * interval,\n",
    "        'v': 0.50 * interval\n",
    "    }\n",
    "\n",
    "# Convert the thresholds dictionary to a DataFrame for clarity\n",
    "T = pd.DataFrame(thresholds)\n",
    "\n",
    "T"
   ]
  },
  {
   "cell_type": "code",
   "execution_count": 8,
   "id": "e43029ae-917b-4747-a3bb-7222218bfc98",
   "metadata": {},
   "outputs": [
    {
     "name": "stdout",
     "output_type": "stream",
     "text": [
      "\n",
      "Optimistic ranking:\n",
      "Alternative         A1   A2   A3\n",
      "Very Poor >        NaN  NaN  NaN\n",
      "(Very Poor, Poor)  NaN  NaN  NaN\n",
      "(Poor, Good)       NaN 1.00  NaN\n",
      "(Good, Very Good) 1.00  NaN 1.00\n",
      "Very Good <        NaN  NaN  NaN\n",
      "\n",
      "Pessimistic ranking:\n",
      "Alternative         A1   A2   A3\n",
      "Very Poor >        NaN  NaN  NaN\n",
      "(Very Poor, Poor) 1.00  NaN 1.00\n",
      "(Poor, Good)       NaN 1.00  NaN\n",
      "(Good, Very Good)  NaN  NaN  NaN\n",
      "Very Good <        NaN  NaN  NaN\n"
     ]
    }
   ],
   "source": [
    "opti, pessi = et.ELECTRE_Tri(A, B, T, w,\n",
    "                              credibility_threshold=0.7)\n",
    "print(\"\\nOptimistic ranking:\")\n",
    "print(opti)\n",
    "\n",
    "print(\"\\nPessimistic ranking:\")\n",
    "print(pessi)"
   ]
  },
  {
   "cell_type": "code",
   "execution_count": 9,
   "id": "6cb1b323-4df5-4eca-b639-62c608171c6a",
   "metadata": {},
   "outputs": [
    {
     "name": "stdout",
     "output_type": "stream",
     "text": [
      "Optimistic sorting\n"
     ]
    },
    {
     "data": {
      "text/html": [
       "<div>\n",
       "<style scoped>\n",
       "    .dataframe tbody tr th:only-of-type {\n",
       "        vertical-align: middle;\n",
       "    }\n",
       "\n",
       "    .dataframe tbody tr th {\n",
       "        vertical-align: top;\n",
       "    }\n",
       "\n",
       "    .dataframe thead th {\n",
       "        text-align: right;\n",
       "    }\n",
       "</style>\n",
       "<table border=\"1\" class=\"dataframe\">\n",
       "  <thead>\n",
       "    <tr style=\"text-align: right;\">\n",
       "      <th></th>\n",
       "      <th>alternatives</th>\n",
       "    </tr>\n",
       "    <tr>\n",
       "      <th>categories</th>\n",
       "      <th></th>\n",
       "    </tr>\n",
       "  </thead>\n",
       "  <tbody>\n",
       "    <tr>\n",
       "      <th>Very Poor &gt;</th>\n",
       "      <td>[]</td>\n",
       "    </tr>\n",
       "    <tr>\n",
       "      <th>(Very Poor, Poor)</th>\n",
       "      <td>[]</td>\n",
       "    </tr>\n",
       "    <tr>\n",
       "      <th>(Poor, Good)</th>\n",
       "      <td>[A2]</td>\n",
       "    </tr>\n",
       "    <tr>\n",
       "      <th>(Good, Very Good)</th>\n",
       "      <td>[A1, A3]</td>\n",
       "    </tr>\n",
       "    <tr>\n",
       "      <th>Very Good &lt;</th>\n",
       "      <td>[]</td>\n",
       "    </tr>\n",
       "  </tbody>\n",
       "</table>\n",
       "</div>"
      ],
      "text/plain": [
       "                  alternatives\n",
       "categories                    \n",
       "Very Poor >                 []\n",
       "(Very Poor, Poor)           []\n",
       "(Poor, Good)              [A2]\n",
       "(Good, Very Good)     [A1, A3]\n",
       "Very Good <                 []"
      ]
     },
     "execution_count": 9,
     "metadata": {},
     "output_type": "execute_result"
    }
   ],
   "source": [
    "print('Optimistic sorting')\n",
    "et.sort(opti).to_frame(name=\"alternatives\").rename_axis(\"categories\")"
   ]
  },
  {
   "cell_type": "code",
   "execution_count": 10,
   "id": "acbd5c95-0e15-40e1-9fa1-28830f3ec1fa",
   "metadata": {},
   "outputs": [
    {
     "name": "stdout",
     "output_type": "stream",
     "text": [
      "Pessimistic sorting\n"
     ]
    },
    {
     "data": {
      "text/html": [
       "<div>\n",
       "<style scoped>\n",
       "    .dataframe tbody tr th:only-of-type {\n",
       "        vertical-align: middle;\n",
       "    }\n",
       "\n",
       "    .dataframe tbody tr th {\n",
       "        vertical-align: top;\n",
       "    }\n",
       "\n",
       "    .dataframe thead th {\n",
       "        text-align: right;\n",
       "    }\n",
       "</style>\n",
       "<table border=\"1\" class=\"dataframe\">\n",
       "  <thead>\n",
       "    <tr style=\"text-align: right;\">\n",
       "      <th></th>\n",
       "      <th>alternatives</th>\n",
       "    </tr>\n",
       "    <tr>\n",
       "      <th>categories</th>\n",
       "      <th></th>\n",
       "    </tr>\n",
       "  </thead>\n",
       "  <tbody>\n",
       "    <tr>\n",
       "      <th>Very Poor &gt;</th>\n",
       "      <td>[]</td>\n",
       "    </tr>\n",
       "    <tr>\n",
       "      <th>(Very Poor, Poor)</th>\n",
       "      <td>[A1, A3]</td>\n",
       "    </tr>\n",
       "    <tr>\n",
       "      <th>(Poor, Good)</th>\n",
       "      <td>[A2]</td>\n",
       "    </tr>\n",
       "    <tr>\n",
       "      <th>(Good, Very Good)</th>\n",
       "      <td>[]</td>\n",
       "    </tr>\n",
       "    <tr>\n",
       "      <th>Very Good &lt;</th>\n",
       "      <td>[]</td>\n",
       "    </tr>\n",
       "  </tbody>\n",
       "</table>\n",
       "</div>"
      ],
      "text/plain": [
       "                  alternatives\n",
       "categories                    \n",
       "Very Poor >                 []\n",
       "(Very Poor, Poor)     [A1, A3]\n",
       "(Poor, Good)              [A2]\n",
       "(Good, Very Good)           []\n",
       "Very Good <                 []"
      ]
     },
     "execution_count": 10,
     "metadata": {},
     "output_type": "execute_result"
    }
   ],
   "source": [
    "print('Pessimistic sorting')\n",
    "et.sort(pessi).to_frame(name=\"alternatives\").rename_axis(\"categories\")"
   ]
  },
  {
   "cell_type": "markdown",
   "id": "41f32eee-76bd-409b-a6f0-c5fb3449d582",
   "metadata": {},
   "source": [
    "# Guidelines for chosing the parameters of ELECTRE Tri-B\n",
    "\n",
    "## Categories\n",
    "\n",
    "1. **Five-category system**:  \n",
    "   This is a common and intuitive approach, often using categories like:\n",
    "   - Very Bad\n",
    "   - Bad\n",
    "   - Neutral\n",
    "   - Good\n",
    "   - Very Good\n",
    "\n",
    "   This structure is easy to understand and can be applied to many decision contexts.\n",
    "\n",
    "2. **Seven-category system**:  \n",
    "   This provides more granularity and can be structured as:\n",
    "   - Extremely Poor\n",
    "   - Very Poor\n",
    "   - Poor\n",
    "   - Average\n",
    "   - Good\n",
    "   - Very Good\n",
    "   - Excellent\n",
    "\n",
    "## Base profiles (categories boundaries)\n",
    "\n",
    "For defining the boundaries or base profiles between these categories, some simple methods include:\n",
    "\n",
    "1. **Equal interval method**:  \n",
    "   Divide the range (maximum - minimum) of criterion values into equal intervals. For a five-category system, this would create boundaries at 20%, 40%, 60%, and 80% of the range.\n",
    "\n",
    "2. **Percentile method**:  \n",
    "   Use percentiles of the data distribution to set boundaries. For a five-category system, you might use the 20th, 40th, 60th, and 80th percentiles.\n",
    "\n",
    "3. **Standard deviation method**:  \n",
    "   Set boundaries based on standard deviations from the mean. For example, in a five-category system:\n",
    "   - Very Bad: < μ - σ\n",
    "   - Bad: μ - σ to μ - σ/2\n",
    "   - Neutral: μ - σ/2 to μ + σ/2\n",
    "   - Good: μ + σ/2 to μ + σ\n",
    "   - Very Good: > μ + σ\n",
    "\n",
    "   Where μ is the mean and σ is the standard deviation.\n",
    "\n",
    "4. **Rounded natural breaks**:  \n",
    "   Identify natural clusters in the data and round the boundaries to simple, easy-to-communicate values.\n",
    "\n",
    "These simplified approaches can be particularly useful when:\n",
    "- There's a lack of expert knowledge to define precise boundaries.\n",
    "- The decision context doesn't require highly specific category definitions.\n",
    "- You need a quick, initial categorization that can be refined later.\n",
    "- Stakeholders prefer easily understandable and communicable category structures.\n",
    "\n",
    "However, it's important to note that while these simplified approaches can be useful starting points, they may not always capture the nuances of complex decision problems. In many cases, they should be viewed as initial frameworks that can be adjusted based on expert input or more sophisticated analysis of the specific decision context.\n",
    "\n",
    "## Thresholds\n",
    "\n",
    "When setting indifference (q), preference (p), and veto (v) thresholds, simple percentage-based methods can provide a good starting point. These methods use the interval between two successive base profiles as a reference.\n",
    "\n",
    "### Threshold ranges\n",
    "\n",
    "1. **Indifference threshold (q)**:\n",
    "   - Range: 5% to 15% of the interval between two successive base profiles\n",
    "   - Typical value: 10% of the interval\n",
    "\n",
    "2. **Preference threshold (p)**:\n",
    "   - Range: 20% to 30% of the interval between two successive base profiles\n",
    "   - Typical value: 25% of the interval\n",
    "\n",
    "3. **Veto threshold (v)**:\n",
    "   - Range: 40% to 60% of the interval between two successive base profiles\n",
    "   - Typical value: 50% of the interval\n",
    "\n",
    "Example calculation\n",
    "\n",
    "Let's consider two successive base profiles for a criterion:\n",
    "- Lower base profile: 100\n",
    "- Upper base profile: 200\n",
    "- Interval between profiles: 200 - 100 = 100\n",
    "\n",
    "Threshold calculations using typical values:\n",
    "- q = 10% of 100 = 10\n",
    "- p = 25% of 100 = 25\n",
    "- v = 50% of 100 = 50\n",
    "\n",
    "### Guidelines for application\n",
    "\n",
    "1. **Consistency**: Ensure that q < p < v for each criterion.\n",
    "\n",
    "2. **Criterion-specific adjustments**: While these percentages provide a starting point, adjust them based on the nature of each criterion. For instance:\n",
    "   - Criteria with high precision might use lower percentages.\n",
    "   - Criteria with more uncertainty might use higher percentages.\n",
    "\n",
    "3. **Rounding**: Round the calculated thresholds to a level of precision appropriate for the criterion.\n",
    "\n",
    "4. **Stakeholder validation**: Present these calculated thresholds to stakeholders or experts for validation and refinement.\n",
    "\n",
    "5. **Sensitivity analysis**: Test how small changes in these thresholds affect the final results to ensure robustness.\n",
    "\n",
    "### Advantages and limitations\n",
    "\n",
    "Advantages:\n",
    "- Simplicity and ease of understanding\n",
    "- Consistency across criteria\n",
    "- Quick initial setup for further refinement\n",
    "- Easily communicable to stakeholders\n",
    "\n",
    "Limitations:\n",
    "- May not capture the full complexity of some decision problems\n",
    "- Might need adjustment for criteria with non-linear scales or special considerations\n",
    "\n",
    "This method provides a structured starting point for setting thresholds in ELECTRE Tri-B, which can then be fine-tuned based on expert knowledge, data analysis, or specific requirements of the decision context."
   ]
  },
  {
   "cell_type": "markdown",
   "id": "ea051862-7fc2-452c-9be7-36fdac1a2d93",
   "metadata": {},
   "source": [
    "# References\n",
    "\n",
    "1. Daniel, S., & Ghiaus, C. (2023). Multi-Criteria Decision Analysis for Energy Retrofit of Residential Buildings: Methodology and Feedback from Real Application. Energies, 16(2), 902. https://doi.org/10.3390/en16020902 \n",
    "2. The, A. N., & Mousseau, V. (2002). Using assignment examples to infer category limits for the ELECTRE TRI method. Journal of Multi‐Criteria Decision Analysis, 11(1), 29-43. DOI: https://doi.org/10.1002/mcda.314\n",
    "3. Bouyssou, D., & Marchant, T. (2015). On the relations between ELECTRE TRI-B and ELECTRE TRI-C and on a new variant of ELECTRE TRI-B. European Journal of Operational Research, 242(1), 201-211. https://doi.org/10.1016/j.ejor.2014.09.057\n",
    "4. Figueira, J., Roy, B. (2002). Determining the weights of criteria in the ELECTRE type methods with a revised Simos' procedure. European journal of operational research, 139(2), 317-326. https://doi.org/10.1016/S0377-2217(01)00370-8"
   ]
  },
  {
   "cell_type": "code",
   "execution_count": null,
   "id": "cd483cc8-072c-4971-b648-131beba2aaec",
   "metadata": {},
   "outputs": [],
   "source": []
  }
 ],
 "metadata": {
  "kernelspec": {
   "display_name": "Python 3 (ipykernel)",
   "language": "python",
   "name": "python3"
  },
  "language_info": {
   "codemirror_mode": {
    "name": "ipython",
    "version": 3
   },
   "file_extension": ".py",
   "mimetype": "text/x-python",
   "name": "python",
   "nbconvert_exporter": "python",
   "pygments_lexer": "ipython3",
   "version": "3.11.7"
  }
 },
 "nbformat": 4,
 "nbformat_minor": 5
}
