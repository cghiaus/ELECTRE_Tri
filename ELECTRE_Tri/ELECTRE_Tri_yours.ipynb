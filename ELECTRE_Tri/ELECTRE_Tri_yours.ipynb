{
 "cells": [
  {
   "cell_type": "markdown",
   "id": "e6af49a0-095c-42e1-a306-5133c6c4b30b",
   "metadata": {},
   "source": [
    "<h1>Your ELECTRE Tri analysis</h1>\n",
    "\n",
    "[![Binder](https://mybinder.org/badge_logo.svg)](https://mybinder.org/v2/gh/cghiaus/ELECTRE_Tri/HEAD?labpath=ELECTRE_Tri_yours.ipynb)\n",
    "\n",
    "1. Upload your data file by dragging  your file in `data\\` folder.\n",
    "2. Change `data_file` accrdingly.\n",
    "3. Interpret the results."
   ]
  },
  {
   "cell_type": "code",
   "execution_count": 1,
   "id": "ea315bf5-03ab-473c-833d-a7850aa306da",
   "metadata": {},
   "outputs": [],
   "source": [
    "import pandas as pd\n",
    "import ELECTRE_Tri as et\n",
    "\n",
    "# Problem statement\n",
    "data_file = './data/simple_example.csv'\n",
    "credibility_threshold = 0.7\n",
    "\n",
    "# Problem solving\n",
    "A, B, T, w = et.read_electre_tri_data(data_file)\n",
    "optimistic, pessimistic = et.ELECTRE_Tri(A, B, T, w,\n",
    "                                         credibility_threshold)"
   ]
  },
  {
   "cell_type": "code",
   "execution_count": 2,
   "id": "14d56f45-9640-4e29-807f-80a992b0444e",
   "metadata": {},
   "outputs": [
    {
     "name": "stdout",
     "output_type": "stream",
     "text": [
      "Optimistic sorting\n"
     ]
    },
    {
     "data": {
      "text/html": [
       "<div>\n",
       "<style scoped>\n",
       "    .dataframe tbody tr th:only-of-type {\n",
       "        vertical-align: middle;\n",
       "    }\n",
       "\n",
       "    .dataframe tbody tr th {\n",
       "        vertical-align: top;\n",
       "    }\n",
       "\n",
       "    .dataframe thead th {\n",
       "        text-align: right;\n",
       "    }\n",
       "</style>\n",
       "<table border=\"1\" class=\"dataframe\">\n",
       "  <thead>\n",
       "    <tr style=\"text-align: right;\">\n",
       "      <th></th>\n",
       "      <th>alternatives</th>\n",
       "    </tr>\n",
       "    <tr>\n",
       "      <th>categories</th>\n",
       "      <th></th>\n",
       "    </tr>\n",
       "  </thead>\n",
       "  <tbody>\n",
       "    <tr>\n",
       "      <th>b1 &gt;</th>\n",
       "      <td>[a1]</td>\n",
       "    </tr>\n",
       "    <tr>\n",
       "      <th>(b1, b2)</th>\n",
       "      <td>[]</td>\n",
       "    </tr>\n",
       "    <tr>\n",
       "      <th>b2 &lt;</th>\n",
       "      <td>[a2, a3]</td>\n",
       "    </tr>\n",
       "  </tbody>\n",
       "</table>\n",
       "</div>"
      ],
      "text/plain": [
       "           alternatives\n",
       "categories             \n",
       "b1 >               [a1]\n",
       "(b1, b2)             []\n",
       "b2 <           [a2, a3]"
      ]
     },
     "execution_count": 2,
     "metadata": {},
     "output_type": "execute_result"
    }
   ],
   "source": [
    "# Optimistic sorting\n",
    "opti_sort = et.sort(optimistic)\n",
    "print('Optimistic sorting')\n",
    "opti_sort.to_frame(name=\"alternatives\").rename_axis(\"categories\")"
   ]
  },
  {
   "cell_type": "code",
   "execution_count": 3,
   "id": "a2b45620-814b-41f7-80ce-55bd59877d23",
   "metadata": {},
   "outputs": [
    {
     "name": "stdout",
     "output_type": "stream",
     "text": [
      "Pessimistic sorting\n"
     ]
    },
    {
     "data": {
      "text/html": [
       "<div>\n",
       "<style scoped>\n",
       "    .dataframe tbody tr th:only-of-type {\n",
       "        vertical-align: middle;\n",
       "    }\n",
       "\n",
       "    .dataframe tbody tr th {\n",
       "        vertical-align: top;\n",
       "    }\n",
       "\n",
       "    .dataframe thead th {\n",
       "        text-align: right;\n",
       "    }\n",
       "</style>\n",
       "<table border=\"1\" class=\"dataframe\">\n",
       "  <thead>\n",
       "    <tr style=\"text-align: right;\">\n",
       "      <th></th>\n",
       "      <th>alternatives</th>\n",
       "    </tr>\n",
       "    <tr>\n",
       "      <th>categories</th>\n",
       "      <th></th>\n",
       "    </tr>\n",
       "  </thead>\n",
       "  <tbody>\n",
       "    <tr>\n",
       "      <th>b1 &gt;</th>\n",
       "      <td>[a1, a3]</td>\n",
       "    </tr>\n",
       "    <tr>\n",
       "      <th>(b1, b2)</th>\n",
       "      <td>[a2]</td>\n",
       "    </tr>\n",
       "    <tr>\n",
       "      <th>b2 &lt;</th>\n",
       "      <td>[]</td>\n",
       "    </tr>\n",
       "  </tbody>\n",
       "</table>\n",
       "</div>"
      ],
      "text/plain": [
       "           alternatives\n",
       "categories             \n",
       "b1 >           [a1, a3]\n",
       "(b1, b2)           [a2]\n",
       "b2 <                 []"
      ]
     },
     "execution_count": 3,
     "metadata": {},
     "output_type": "execute_result"
    }
   ],
   "source": [
    "# Pessimistic sorting\n",
    "pessi_sort = et.sort(pessimistic)\n",
    "print('Pessimistic sorting')\n",
    "pessi_sort.to_frame(name=\"alternatives\").rename_axis(\"categories\")"
   ]
  }
 ],
 "metadata": {
  "kernelspec": {
   "display_name": "Python 3 (ipykernel)",
   "language": "python",
   "name": "python3"
  },
  "language_info": {
   "codemirror_mode": {
    "name": "ipython",
    "version": 3
   },
   "file_extension": ".py",
   "mimetype": "text/x-python",
   "name": "python",
   "nbconvert_exporter": "python",
   "pygments_lexer": "ipython3",
   "version": "3.11.7"
  }
 },
 "nbformat": 4,
 "nbformat_minor": 5
}
