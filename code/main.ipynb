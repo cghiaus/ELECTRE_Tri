{
 "cells": [
  {
   "cell_type": "markdown",
   "id": "5c2dbcaf-59fa-4b86-814c-f9834f678c6b",
   "metadata": {},
   "source": [
    "# Examples\n",
    "\n",
    "This notebook runs the Python scripts from `./examples` folder.\n",
    "\n",
    "See Jupyter notebooks in `../docs/tutorials` for a detailed description."
   ]
  },
  {
   "cell_type": "code",
   "execution_count": 1,
   "id": "88fb3115-ed91-455b-b231-80806006d2f6",
   "metadata": {},
   "outputs": [
    {
     "name": "stdout",
     "output_type": "stream",
     "text": [
      "ELECTRE Tri-B\n",
      "Data file: ../data/base_profile.csv\n",
      "\n",
      "Optimistic ranking:\n",
      "           a1   a2   a3\n",
      "b1 ≻      1.0    0    0\n",
      "(b1, b2)    0    0    0\n",
      "b2 ≺        0  1.0  1.0\n",
      "\n",
      "Pessimistic ranking:\n",
      "           a1   a2   a3\n",
      "b1 ≻      1.0    0  1.0\n",
      "(b1, b2)    0  1.0    0\n",
      "b2 ≺        0    0    0\n"
     ]
    }
   ],
   "source": [
    "%run ./examples/base_profile.py"
   ]
  },
  {
   "cell_type": "code",
   "execution_count": 2,
   "id": "6f97f23d-cfcd-4fb9-8a66-6aef64cf7494",
   "metadata": {},
   "outputs": [
    {
     "name": "stdout",
     "output_type": "stream",
     "text": [
      "Probabilistic pELECTRE Tri-B\n",
      "Data file: ../data/base_profile_std.csv\n",
      "\n",
      "Probabilistic optimistic ranking:\n",
      "            a1    a2    a3\n",
      "b1 ≻      0.49     0  0.03\n",
      "(b1, b2)  0.51  0.46  0.47\n",
      "b2 ≺         0  0.54  0.50\n",
      "\n",
      "Probabilistic pessimistic ranking:\n",
      "           a1    a2   a3\n",
      "b1 ≻      1.0  0.04  1.0\n",
      "(b1, b2)    0  0.94    0\n",
      "b2 ≺        0  0.02    0\n"
     ]
    }
   ],
   "source": [
    "%run ./examples/base_profile_std.py"
   ]
  },
  {
   "cell_type": "code",
   "execution_count": 3,
   "id": "498598cd-cf08-42ed-a78e-26e4fbedb280",
   "metadata": {},
   "outputs": [
    {
     "name": "stdout",
     "output_type": "stream",
     "text": [
      "ELECTRE Tri-B with specified base profiles\n",
      "Data file: ../data/bldg_retrofit_base.csv\n",
      "/nOptimistic sorting\n",
      "                          alternatives\n",
      "categories                            \n",
      "bad ≻                               []\n",
      "(bad, good)  [a1: Basic, a2: Moderate]\n",
      "good ≺                 [a3: Extensive]\n",
      "/nPessimistic sorting\n",
      "                          alternatives\n",
      "categories                            \n",
      "bad ≻                  [a3: Extensive]\n",
      "(bad, good)  [a1: Basic, a2: Moderate]\n",
      "good ≺                              []\n"
     ]
    }
   ],
   "source": [
    "%run ./examples/bldg_retrofit_base.py"
   ]
  },
  {
   "cell_type": "code",
   "execution_count": 4,
   "id": "698f847c-587a-4867-9f69-98cf808f029e",
   "metadata": {},
   "outputs": [
    {
     "name": "stdout",
     "output_type": "stream",
     "text": [
      "Probabilistic pELECTRE Tri-B with specified base profiles\n",
      "Data file: ../data/bldg_retrofit_base_std.csv\n",
      "\n",
      "Probabilistic optimistic ranking:\n",
      "             a1: Basic  a2: Moderate  a3: Extensive\n",
      "bad ≻                0             0              0\n",
      "(bad, good)        1.0           1.0           0.16\n",
      "good ≺               0             0           0.84\n",
      "\n",
      "Probabilistic pessimistic ranking:\n",
      "             a1: Basic  a2: Moderate  a3: Extensive\n",
      "bad ≻             0.02          0.03            1.0\n",
      "(bad, good)       0.98          0.97              0\n",
      "good ≺               0             0              0\n"
     ]
    }
   ],
   "source": [
    "%run ./examples/bldg_retrofit_base_std.py"
   ]
  },
  {
   "cell_type": "code",
   "execution_count": 5,
   "id": "55cc9dbb-c1c3-447f-9b72-7d7d8a33bfec",
   "metadata": {},
   "outputs": [
    {
     "name": "stdout",
     "output_type": "stream",
     "text": [
      "ELECTRE Tri-B with specified extreme level profiles\n",
      "Data file: ../data/bldg_retrofit_level.csv\n",
      "Optimistic sorting\n",
      "                         alternatives\n",
      "categories                           \n",
      "b1 ≻                               []\n",
      "(b1, b2)    [a1: Basic, a2: Moderate]\n",
      "b2 ≺                  [a3: Extensive]\n",
      "Pessimistic sorting\n",
      "                         alternatives\n",
      "categories                           \n",
      "b1 ≻                  [a3: Extensive]\n",
      "(b1, b2)    [a1: Basic, a2: Moderate]\n",
      "b2 ≺                               []\n"
     ]
    }
   ],
   "source": [
    "%run ./examples/bldg_retrofit_level.py"
   ]
  },
  {
   "cell_type": "code",
   "execution_count": null,
   "id": "1c11ff08-af7b-4887-9266-d07410267b52",
   "metadata": {},
   "outputs": [],
   "source": []
  }
 ],
 "metadata": {
  "kernelspec": {
   "display_name": "Python 3 (ipykernel)",
   "language": "python",
   "name": "python3"
  },
  "language_info": {
   "codemirror_mode": {
    "name": "ipython",
    "version": 3
   },
   "file_extension": ".py",
   "mimetype": "text/x-python",
   "name": "python",
   "nbconvert_exporter": "python",
   "pygments_lexer": "ipython3",
   "version": "3.11.7"
  }
 },
 "nbformat": 4,
 "nbformat_minor": 5
}
