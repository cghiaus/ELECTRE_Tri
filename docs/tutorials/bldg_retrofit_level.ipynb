{
 "cells": [
  {
   "cell_type": "markdown",
   "id": "e6af49a0-095c-42e1-a306-5133c6c4b30b",
   "metadata": {},
   "source": [
    "<h1>ELECTRE Tri-B analysis with default parameters: example of a building energy retrofit</h1>\n",
    "\n",
    "[![Binder](https://mybinder.org/badge_logo.svg)](https://mybinder.org/v2/gh/cghiaus/ELECTRE_Tri/HEAD?labpath=docs%2Ftutorials%2Fbldg_retrofit_defaults.ipynb)\n",
    "\n",
    "In the case of energy retrofit of a building, let's suppose that there are three alternatives:\n",
    "- basic renovation,\n",
    "- moderate renovation,\n",
    "- extensive renovation,\n",
    "\n",
    "each one yielding energy savings and requiring costs. \n",
    "\n",
    "We want to sort these three alternatives into three categories (e.g. bad, acceptable, good) based on their performance on criteria of energy savings and costs. The categories are defined by equidistant base profiles between  two extreme levels.\n",
    "\n",
    "See [/explanation/electre_tri-b_explained.ipynb](../explanation/electre_tri-b_explained.ipynb#Definitions) for definitions of concepts.\n",
    "\n",
    "**Given:**\n",
    "\n",
    "- A set of criteria $\\{c_{k}\\}$:\n",
    "    - __c1: Saving (in kWh/m²/year)__ with weight $w = 0.7$\n",
    "    - __c2: Cost (in €/m²)__ with weight $w = 0.3$\n",
    "___\n",
    "- A set of alternatives $\\{a_{i}\\}$:\n",
    "   - __a1: Basic renovation__\n",
    "   - __a2: Moderate renovation__\n",
    "   - __a3: Extensive renovation__\n",
    "___\n",
    "- A matrix $A = \\{a_{i,k}\\}$ of performances of alternatives $a_i$ for each criterion $c_k$.\n",
    "\n",
    "| Alternative profile | c1: Saving/(kWh/m²/year)| c2: Cost/(€/m²)|\n",
    "|---------------------------|------------------:|------------:|\n",
    "| a1: Basic renovation      | 50.0              | 100.0       |\n",
    "| a2: Moderate renovation   | 80.0              | 200.0       |\n",
    "| a3: Extensive renovation  | 120.0             | 350.0       |\n",
    "___\n",
    "\n",
    "- A matrix $L = \\{b_{j,k}\\}$ of extreme levels of the base profiles for each criterion $c_k$.\n",
    "\n",
    "| Level profile | c1: Saving/(kWh/m²/year) | c2: Cost/(€/m²) |\n",
    "|---------------|---------------------:|-------------:|\n",
    "| worst         | 0.0                  |   300.0      |\n",
    "| best          | 150.0                |   100.0      |\n",
    "\n",
    "These base profiles are the lowest and higest limit of five equidistant categories:\n",
    "\n",
    "- __b1 >__ worse than the worst profile __b1__;\n",
    "- __(b1, b2)__ between base profiles __b1__ and __b2__; \n",
    "- __b2 <__ better than the best profile __b4__.\n",
    "____\n",
    "\n",
    "- The thresholds are:\n",
    "  - indifference $q = \\{q_k\\}$, the largest difference in performance on a criterion that a decision-maker considers insignificant;\n",
    "  - preference $p = \\{p_k\\}$,  the smallest difference in performance on a criterion that the decision-maker considers significant enough to strongly prefer one alternative over another;\n",
    "  - veto $v = \\{v_k\\}$, the maximum allowable difference in performance on a criterion beyond which an alternative cannot outrank another, regardless of its performance on other criteria.\n",
    "\n",
    "The default values of the thresholds are:\n",
    "\n",
    "$q = 10 \\,\\%$, $p = 25 \\,\\%$, $v = 50 \\,\\%$\n",
    "of the range of the equidistant categories.\n",
    "___\n",
    "\n",
    "- A credibility threshold $\\lambda$ for outranking, i.e. minimum degree of credibility index that is considered necessary to validate the statement \"alternative a outranks base profile b\" (value within the range [0.5, 1], typically 0.75).\n",
    "____\n",
    "\n",
    "**Do:**\n",
    "\n",
    "Assign each alternative $a_i ∈ A$ to one of the predefined categories $C_j ∈ C$ based on its performance across all criteria $c_k$ by using optimistic and pessimistic classification:\n",
    "\n",
    "| Categories   | Alternatives                             |\n",
    "|--------------|------------------------------------------|\n",
    "| __b1 ≻__     |                                          |\n",
    "| __(b1, b2)__ | [list of alternatives between b1 and b2] |\n",
    "| __b2 ≺__     |                                          |\n",
    "\n",
    "____\n",
    "\n",
    "__Procedure:__\n",
    "1. Upload your data file containing the performance of alternatives, base profiles, thresholds, and weights.\n",
    "2. Read data file and solve ELECTRE Tri-B sorting problem.\n",
    "3. Interpret the results."
   ]
  },
  {
   "cell_type": "code",
   "execution_count": 1,
   "id": "facd074c-a16e-4376-bc78-6aacf7a2ec70",
   "metadata": {},
   "outputs": [],
   "source": [
    "\"\"\"\n",
    "Append `src/` directory to `path`\n",
    "\"\"\"\n",
    "import sys\n",
    "import os\n",
    "\n",
    "notebook_dir = os.path.dirname(os.path.abspath('__file__'))\n",
    "project_root = os.path.dirname(os.path.dirname(notebook_dir))\n",
    "\n",
    "src_dir = os.path.join(project_root, 'src')\n",
    "sys.path.append(src_dir)"
   ]
  },
  {
   "cell_type": "code",
   "execution_count": 2,
   "id": "d088eea9-6f1a-42ab-aefe-aed829fc31dd",
   "metadata": {},
   "outputs": [],
   "source": [
    "import pandas as pd\n",
    "\n",
    "import electre_tri as et"
   ]
  },
  {
   "cell_type": "markdown",
   "id": "090d1869-34b2-48e8-bdb9-cddbe77e14e9",
   "metadata": {},
   "source": [
    "# Data file\n",
    "\n",
    "ELECTRE Tri-B data is a [.csv](https://en.m.wikipedia.org/wiki/Comma-separated_values) text file that contains, for each criterion:\n",
    "- performance of alternatives **A**;\n",
    "- extreme level profiles **L**;\n",
    "- weights **w**. \n",
    "\n",
    "__Note__: For criteria to be minimized (i.e. cost), the data for performance of alternatives __A__ and the base profiles __L__ are negative numbers.\n",
    "\n",
    "Data files can be written by using a [spreadsheet](https://en.m.wikipedia.org/wiki/Spreadsheet)."
   ]
  },
  {
   "cell_type": "code",
   "execution_count": 3,
   "id": "67043013-f51e-4cf2-99e1-af210178b960",
   "metadata": {
    "scrolled": true
   },
   "outputs": [
    {
     "name": "stdout",
     "output_type": "stream",
     "text": [
      "Example of data file\n"
     ]
    },
    {
     "data": {
      "text/html": [
       "<div>\n",
       "<style scoped>\n",
       "    .dataframe tbody tr th:only-of-type {\n",
       "        vertical-align: middle;\n",
       "    }\n",
       "\n",
       "    .dataframe tbody tr th {\n",
       "        vertical-align: top;\n",
       "    }\n",
       "\n",
       "    .dataframe thead th {\n",
       "        text-align: right;\n",
       "    }\n",
       "</style>\n",
       "<table border=\"1\" class=\"dataframe\">\n",
       "  <thead>\n",
       "    <tr style=\"text-align: right;\">\n",
       "      <th></th>\n",
       "      <th>type</th>\n",
       "      <th>profile</th>\n",
       "      <th>Saving/(kWh/m²/year)</th>\n",
       "      <th>Cost/(€/m²)</th>\n",
       "    </tr>\n",
       "  </thead>\n",
       "  <tbody>\n",
       "    <tr>\n",
       "      <th>0</th>\n",
       "      <td>A</td>\n",
       "      <td>a1: Basic</td>\n",
       "      <td>50.0</td>\n",
       "      <td>-100.0</td>\n",
       "    </tr>\n",
       "    <tr>\n",
       "      <th>1</th>\n",
       "      <td>A</td>\n",
       "      <td>a2: Moderate</td>\n",
       "      <td>80.0</td>\n",
       "      <td>-200.0</td>\n",
       "    </tr>\n",
       "    <tr>\n",
       "      <th>2</th>\n",
       "      <td>A</td>\n",
       "      <td>a3: Extensive</td>\n",
       "      <td>120.0</td>\n",
       "      <td>-350.0</td>\n",
       "    </tr>\n",
       "    <tr>\n",
       "      <th>3</th>\n",
       "      <td>L</td>\n",
       "      <td>worst</td>\n",
       "      <td>0.0</td>\n",
       "      <td>-300.0</td>\n",
       "    </tr>\n",
       "    <tr>\n",
       "      <th>4</th>\n",
       "      <td>L</td>\n",
       "      <td>best</td>\n",
       "      <td>150.0</td>\n",
       "      <td>0.0</td>\n",
       "    </tr>\n",
       "    <tr>\n",
       "      <th>5</th>\n",
       "      <td>w</td>\n",
       "      <td>NaN</td>\n",
       "      <td>0.7</td>\n",
       "      <td>0.3</td>\n",
       "    </tr>\n",
       "  </tbody>\n",
       "</table>\n",
       "</div>"
      ],
      "text/plain": [
       "  type        profile  Saving/(kWh/m²/year)  Cost/(€/m²)\n",
       "0    A      a1: Basic                  50.0       -100.0\n",
       "1    A   a2: Moderate                  80.0       -200.0\n",
       "2    A  a3: Extensive                 120.0       -350.0\n",
       "3    L          worst                   0.0       -300.0\n",
       "4    L           best                 150.0          0.0\n",
       "5    w            NaN                   0.7          0.3"
      ]
     },
     "execution_count": 3,
     "metadata": {},
     "output_type": "execute_result"
    }
   ],
   "source": [
    "data_file = \"../../data/bldg_retrofit_level.csv\"\n",
    "print(\"Example of data file\")\n",
    "pd.read_csv(data_file)"
   ]
  },
  {
   "cell_type": "markdown",
   "id": "c5fd78f1-46a1-4c99-932d-75f706f1330c",
   "metadata": {},
   "source": [
    "# Problem solving"
   ]
  },
  {
   "cell_type": "code",
   "execution_count": 4,
   "id": "ea315bf5-03ab-473c-833d-a7850aa306da",
   "metadata": {},
   "outputs": [],
   "source": [
    "# Problem statement\n",
    "data_file = \"../../data/bldg_retrofit_level.csv\"\n",
    "credibility_threshold = 0.7\n",
    "\n",
    "# Problem solving\n",
    "A, L, w = et.read_electre_tri_level(data_file)\n",
    "B = et.base_profile(L, n_base_profile=2)\n",
    "T = et.threshold(B)\n",
    "\n",
    "optimistic, pessimistic = et.electre_tri_b(A, B, T, w,\n",
    "                                           credibility_threshold)"
   ]
  },
  {
   "cell_type": "markdown",
   "id": "d434c7c9-fe0d-4790-8908-0d4849f35e5c",
   "metadata": {},
   "source": [
    "# Results"
   ]
  },
  {
   "cell_type": "code",
   "execution_count": 5,
   "id": "14d56f45-9640-4e29-807f-80a992b0444e",
   "metadata": {},
   "outputs": [
    {
     "name": "stdout",
     "output_type": "stream",
     "text": [
      "Optimistic sorting\n"
     ]
    },
    {
     "data": {
      "text/html": [
       "<div>\n",
       "<style scoped>\n",
       "    .dataframe tbody tr th:only-of-type {\n",
       "        vertical-align: middle;\n",
       "    }\n",
       "\n",
       "    .dataframe tbody tr th {\n",
       "        vertical-align: top;\n",
       "    }\n",
       "\n",
       "    .dataframe thead th {\n",
       "        text-align: right;\n",
       "    }\n",
       "</style>\n",
       "<table border=\"1\" class=\"dataframe\">\n",
       "  <thead>\n",
       "    <tr style=\"text-align: right;\">\n",
       "      <th></th>\n",
       "      <th>alternatives</th>\n",
       "    </tr>\n",
       "    <tr>\n",
       "      <th>categories</th>\n",
       "      <th></th>\n",
       "    </tr>\n",
       "  </thead>\n",
       "  <tbody>\n",
       "    <tr>\n",
       "      <th>b1 ≻</th>\n",
       "      <td>[]</td>\n",
       "    </tr>\n",
       "    <tr>\n",
       "      <th>(b1, b2)</th>\n",
       "      <td>[a1: Basic, a2: Moderate]</td>\n",
       "    </tr>\n",
       "    <tr>\n",
       "      <th>b2 ≺</th>\n",
       "      <td>[a3: Extensive]</td>\n",
       "    </tr>\n",
       "  </tbody>\n",
       "</table>\n",
       "</div>"
      ],
      "text/plain": [
       "                         alternatives\n",
       "categories                           \n",
       "b1 ≻                               []\n",
       "(b1, b2)    [a1: Basic, a2: Moderate]\n",
       "b2 ≺                  [a3: Extensive]"
      ]
     },
     "execution_count": 5,
     "metadata": {},
     "output_type": "execute_result"
    }
   ],
   "source": [
    "# Optimistic sorting\n",
    "opti_sort = et.sort(optimistic)\n",
    "print('Optimistic sorting')\n",
    "opti_sort.to_frame(name=\"alternatives\").rename_axis(\"categories\")"
   ]
  },
  {
   "cell_type": "code",
   "execution_count": 6,
   "id": "a2b45620-814b-41f7-80ce-55bd59877d23",
   "metadata": {},
   "outputs": [
    {
     "name": "stdout",
     "output_type": "stream",
     "text": [
      "Pessimistic sorting\n"
     ]
    },
    {
     "data": {
      "text/html": [
       "<div>\n",
       "<style scoped>\n",
       "    .dataframe tbody tr th:only-of-type {\n",
       "        vertical-align: middle;\n",
       "    }\n",
       "\n",
       "    .dataframe tbody tr th {\n",
       "        vertical-align: top;\n",
       "    }\n",
       "\n",
       "    .dataframe thead th {\n",
       "        text-align: right;\n",
       "    }\n",
       "</style>\n",
       "<table border=\"1\" class=\"dataframe\">\n",
       "  <thead>\n",
       "    <tr style=\"text-align: right;\">\n",
       "      <th></th>\n",
       "      <th>alternatives</th>\n",
       "    </tr>\n",
       "    <tr>\n",
       "      <th>categories</th>\n",
       "      <th></th>\n",
       "    </tr>\n",
       "  </thead>\n",
       "  <tbody>\n",
       "    <tr>\n",
       "      <th>b1 ≻</th>\n",
       "      <td>[a3: Extensive]</td>\n",
       "    </tr>\n",
       "    <tr>\n",
       "      <th>(b1, b2)</th>\n",
       "      <td>[a1: Basic, a2: Moderate]</td>\n",
       "    </tr>\n",
       "    <tr>\n",
       "      <th>b2 ≺</th>\n",
       "      <td>[]</td>\n",
       "    </tr>\n",
       "  </tbody>\n",
       "</table>\n",
       "</div>"
      ],
      "text/plain": [
       "                         alternatives\n",
       "categories                           \n",
       "b1 ≻                  [a3: Extensive]\n",
       "(b1, b2)    [a1: Basic, a2: Moderate]\n",
       "b2 ≺                               []"
      ]
     },
     "execution_count": 6,
     "metadata": {},
     "output_type": "execute_result"
    }
   ],
   "source": [
    "# Pessimistic sorting\n",
    "pessi_sort = et.sort(pessimistic)\n",
    "print('Pessimistic sorting')\n",
    "pessi_sort.to_frame(name=\"alternatives\").rename_axis(\"categories\")"
   ]
  },
  {
   "cell_type": "markdown",
   "id": "bb174320-b165-468a-863d-a82173232a3e",
   "metadata": {},
   "source": [
    "# Comparison with the case of complete set of data\n",
    "\n",
    "When extreme levels (i.e. worst and best) levels are given, the base profiles $B$ and the threshold profiles $T$ are obtained by calculations.\n",
    "\n",
    "When the complete set of data is given, the base profiles $B$ and threshold profiles $T$ are given explicitely (see [ELECTRE Tri-B analysis with complete set of data](nb1.ipynb)).\n",
    "\n",
    "The values of $B$ and $T$ chosen in [ELECTRE Tri-B analysis with complete set of data](nb1.ipynb)) are the same to those calculated in this notebook."
   ]
  },
  {
   "cell_type": "code",
   "execution_count": 7,
   "id": "211c38b4-531f-411b-bb7c-b760778b1d2a",
   "metadata": {},
   "outputs": [
    {
     "name": "stdout",
     "output_type": "stream",
     "text": [
      "Base profiles\n"
     ]
    },
    {
     "data": {
      "text/html": [
       "<div>\n",
       "<style scoped>\n",
       "    .dataframe tbody tr th:only-of-type {\n",
       "        vertical-align: middle;\n",
       "    }\n",
       "\n",
       "    .dataframe tbody tr th {\n",
       "        vertical-align: top;\n",
       "    }\n",
       "\n",
       "    .dataframe thead th {\n",
       "        text-align: right;\n",
       "    }\n",
       "</style>\n",
       "<table border=\"1\" class=\"dataframe\">\n",
       "  <thead>\n",
       "    <tr style=\"text-align: right;\">\n",
       "      <th></th>\n",
       "      <th>Saving/(kWh/m²/year)</th>\n",
       "      <th>Cost/(€/m²)</th>\n",
       "    </tr>\n",
       "  </thead>\n",
       "  <tbody>\n",
       "    <tr>\n",
       "      <th>b1</th>\n",
       "      <td>50.0</td>\n",
       "      <td>-200.0</td>\n",
       "    </tr>\n",
       "    <tr>\n",
       "      <th>b2</th>\n",
       "      <td>100.0</td>\n",
       "      <td>-100.0</td>\n",
       "    </tr>\n",
       "  </tbody>\n",
       "</table>\n",
       "</div>"
      ],
      "text/plain": [
       "    Saving/(kWh/m²/year)  Cost/(€/m²)\n",
       "b1                  50.0       -200.0\n",
       "b2                 100.0       -100.0"
      ]
     },
     "execution_count": 7,
     "metadata": {},
     "output_type": "execute_result"
    }
   ],
   "source": [
    "print(\"Base profiles\")\n",
    "B"
   ]
  },
  {
   "cell_type": "code",
   "execution_count": 8,
   "id": "24242c1c-5188-423b-857b-fdc7cb5fb87e",
   "metadata": {},
   "outputs": [
    {
     "name": "stdout",
     "output_type": "stream",
     "text": [
      "Threshold profiles\n"
     ]
    },
    {
     "data": {
      "text/html": [
       "<div>\n",
       "<style scoped>\n",
       "    .dataframe tbody tr th:only-of-type {\n",
       "        vertical-align: middle;\n",
       "    }\n",
       "\n",
       "    .dataframe tbody tr th {\n",
       "        vertical-align: top;\n",
       "    }\n",
       "\n",
       "    .dataframe thead th {\n",
       "        text-align: right;\n",
       "    }\n",
       "</style>\n",
       "<table border=\"1\" class=\"dataframe\">\n",
       "  <thead>\n",
       "    <tr style=\"text-align: right;\">\n",
       "      <th></th>\n",
       "      <th>Saving/(kWh/m²/year)</th>\n",
       "      <th>Cost/(€/m²)</th>\n",
       "    </tr>\n",
       "  </thead>\n",
       "  <tbody>\n",
       "    <tr>\n",
       "      <th>q</th>\n",
       "      <td>5.0</td>\n",
       "      <td>10.0</td>\n",
       "    </tr>\n",
       "    <tr>\n",
       "      <th>p</th>\n",
       "      <td>12.5</td>\n",
       "      <td>25.0</td>\n",
       "    </tr>\n",
       "    <tr>\n",
       "      <th>v</th>\n",
       "      <td>25.0</td>\n",
       "      <td>50.0</td>\n",
       "    </tr>\n",
       "  </tbody>\n",
       "</table>\n",
       "</div>"
      ],
      "text/plain": [
       "   Saving/(kWh/m²/year)  Cost/(€/m²)\n",
       "q                   5.0         10.0\n",
       "p                  12.5         25.0\n",
       "v                  25.0         50.0"
      ]
     },
     "execution_count": 8,
     "metadata": {},
     "output_type": "execute_result"
    }
   ],
   "source": [
    "print(\"Threshold profiles\")\n",
    "T"
   ]
  },
  {
   "cell_type": "code",
   "execution_count": null,
   "id": "5832d2db-7682-46d7-a8fc-207cac0b58b6",
   "metadata": {},
   "outputs": [],
   "source": []
  }
 ],
 "metadata": {
  "kernelspec": {
   "display_name": "Python [conda env:base] *",
   "language": "python",
   "name": "conda-base-py"
  },
  "language_info": {
   "codemirror_mode": {
    "name": "ipython",
    "version": 3
   },
   "file_extension": ".py",
   "mimetype": "text/x-python",
   "name": "python",
   "nbconvert_exporter": "python",
   "pygments_lexer": "ipython3",
   "version": "3.11.7"
  }
 },
 "nbformat": 4,
 "nbformat_minor": 5
}
