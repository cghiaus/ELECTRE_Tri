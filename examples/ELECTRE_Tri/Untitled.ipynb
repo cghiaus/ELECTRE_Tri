{
 "cells": [
  {
   "cell_type": "raw",
   "id": "bd889840-5582-4f2a-b9b7-9434e86c2fac",
   "metadata": {},
   "source": [
    "$bla \\sqr{bla}$"
   ]
  },
  {
   "cell_type": "markdown",
   "id": "e252fc20-ff02-4c9a-b0e1-d52490ecfaab",
   "metadata": {},
   "source": [
    "# Title\n",
    "bla\n",
    "\n",
    "## Title 1\n",
    "\n",
    "- ff\n",
    "- ddd\n",
    "\n",
    "$$ \\sum_j x_j$$\n",
    "\n",
    "$$\\oint_a^b\\frac{-b\\pm\\sqrt{b^2-4ac}}{2a}$$"
   ]
  },
  {
   "cell_type": "code",
   "execution_count": null,
   "id": "2f25000a-e227-4195-a6f8-74a997be9e18",
   "metadata": {},
   "outputs": [],
   "source": []
  }
 ],
 "metadata": {
  "kernelspec": {
   "display_name": "Python 3 (ipykernel)",
   "language": "python",
   "name": "python3"
  },
  "language_info": {
   "codemirror_mode": {
    "name": "ipython",
    "version": 3
   },
   "file_extension": ".py",
   "mimetype": "text/x-python",
   "name": "python",
   "nbconvert_exporter": "python",
   "pygments_lexer": "ipython3",
   "version": "3.11.7"
  }
 },
 "nbformat": 4,
 "nbformat_minor": 5
}
