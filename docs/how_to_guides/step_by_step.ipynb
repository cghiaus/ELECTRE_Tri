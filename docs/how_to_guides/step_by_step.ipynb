{
 "cells": [
  {
   "cell_type": "markdown",
   "id": "fa1b72df-87b8-4f31-aee2-3e41cae2b73e",
   "metadata": {},
   "source": [
    "<font size=\"6\">ELECTRE Tri-B step-by-step</font>\n",
    "\n",
    "[![Binder](https://mybinder.org/badge_logo.svg)](https://mybinder.org/v2/gh/cghiaus/ELECTRE_Tri/main?labpath=docs%2Fhow_to_guides%2Fstep_by_step.ipynb)"
   ]
  },
  {
   "cell_type": "markdown",
   "id": "52881f8b-35d4-49df-8849-9fb3a351d10b",
   "metadata": {},
   "source": [
    "ELECTRE Tri-B is a sorting method for multiple-criteria decision-making ([MCDM](https://en.m.wikipedia.org/wiki/Multiple-criteria_decision_analysis)) in which alternatives are assigned to categories. The categories are completely ordered and defined by base (or reference) profiles ([Figueira et al. 2005](https://doi.org/10.1007/0-387-23081-5_4)). \n",
    "\n",
    "Note that ELECTRE Tri-B uses boundary profiles to define categories: each category is defined by a lower and upper limiting profile. ELECTRE Tri-C uses central (characteristic) reference actions to define categories: each category is represented by a single central reference action that typifies that category ([Bouyssou, Marchant 2015]( https://doi.org/10.1016/j.ejor.2014.09.057))."
   ]
  },
  {
   "cell_type": "code",
   "execution_count": 1,
   "id": "27b60680-57b9-4e3d-8417-766294eaf62d",
   "metadata": {},
   "outputs": [],
   "source": [
    "\"\"\"\n",
    "Append `src/` directory to `path`\n",
    "\"\"\"\n",
    "import sys\n",
    "import os\n",
    "\n",
    "notebook_dir = os.path.dirname(os.path.abspath('__file__'))\n",
    "project_root = os.path.dirname(os.path.dirname(notebook_dir))\n",
    "\n",
    "src_dir = os.path.join(project_root, 'src')\n",
    "sys.path.append(src_dir)"
   ]
  },
  {
   "cell_type": "code",
   "execution_count": 2,
   "id": "5089e42a-abad-4306-bcac-11dc5e2237a4",
   "metadata": {},
   "outputs": [],
   "source": [
    "import pandas as pd\n",
    "\n",
    "import electre_tri as et"
   ]
  },
  {
   "cell_type": "markdown",
   "id": "e8d96ec0-b665-45a4-8d74-f6bd388dac5b",
   "metadata": {},
   "source": [
    "# Introduction\n",
    "\n",
    "ELECTRE is a family of **outranking** methods. The relation **\"a outranks b\"** (denoted as $a > b$, $a\\, S\\, b$, or $a \\succ b$) means that there are sufficient arguments to support the claim that **alternative $a$ is at least as good as alternative $b$**, while there are no strong arguments against this claim."
   ]
  },
  {
   "cell_type": "markdown",
   "id": "a4c3ef4f-82fe-406f-a238-01af78d167cd",
   "metadata": {
    "jp-MarkdownHeadingCollapsed": true
   },
   "source": [
    "## Assumptions\n",
    "\n",
    "1. The set of categories to which the alternatives must be assigned to is completely ordered (from the worst to the best, from the lowest to the highest priority, from the  riskiest to the least risky, etc.).\n",
    "2. Each category is defined to receive alternatives (or actions), which are processed in the same way.\n",
    "3. Each category is defined by two reference alternatives, which represent its lower and upper bounds, called boundary reference alternatives, boundary actions or base profiles. The lower base profile of a better category is also the upper base profile of the worse consecutive category."
   ]
  },
  {
   "cell_type": "markdown",
   "id": "dd031b10-dfa8-4534-abe4-96b66c36e1e5",
   "metadata": {},
   "source": [
    "## Definitions\n",
    "  \n",
    "### Input data\n",
    "\n",
    "- **Criteria** $c = \\{c_k\\}$ are the different factors or attributes used to evaluate the alternatives in the decision making process. The criteria can be maximised (e.g. efficiency, savings) or minimised (e.g. cost, environmental impact).\n",
    "\n",
    "- **Alternatives** are the options or items being evaluated and sorted into categories. These represent the decision objects that need to be classified according to multiple criteria. The performance of each alternative $a_i$ across all criteria $c_k$ form the **performance matrix** $A = \\{a_{i,k}\\}$ with $i=0,\\ldots,n-1$ and $k=0,\\ldots,m-1$, where $i$ is the index of alternatives and $k$ is the index of criteria. In the case of a criterion $k$ with an increasing preference direction, the higher the evaluation of the alternative on this criterion, $a_{i,k}$, the better the alternative performs on this criterion. Conversely, for a criterion $k$ with a decreasing performance direction, the lower the evaluation of the alternative on this criterion $a_{i,k}$, the lower the performance of this alternative on this criterion. In order to unify the calculations and not to have to differentiate between the two cases described above, the performance values in the criteria with a decreasing preference direction will be multiplied by \"-1\". Thus, these criteria will also get an increasing performance direction. \n",
    "\n",
    "- **Base profiles** (boundary reference actions, boundary actions, or reference profiles) define the boundaries between the predefined ordered **categories**. The base profiles form a matrix: $B = \\{b_{j,k}\\}$ with $j=0,\\ldots,l-1$ and $k=0,\\ldots,m-1$, where $j$ is the index of base profile and $k$ is the index of criteria. The base profile values for criteria with a decreasing preference direction will be multiplied by \"-1\".\n",
    "\n",
    "- **Thresholds** to account for uncertainnty and imprecision of alternatives and base profiles $T = \\{t_{j,k}\\}$, where $k$ is the index of criteria and $j=\\{q, p, v\\}$ are the vectors:\n",
    "\n",
    "    - *indifference* $q = \\{q_k \\}$ : The largest difference in performance on a criterion that a decision maker considers negligible.\n",
    "    - *preference* $p = \\{p_k\\}$ : The smallest difference in performance on a criterion that is considered significant for a clear preference.\n",
    "    - *veto* $v = \\{v_k\\}$ : A difference in performance so large that it can negate any outranking relationship indicated by other criteria; the relation $q_k \\leq p_k \\leq v_k$ holds for each $k.$\n",
    "\n",
    "\n",
    "- **Criteria weights** $w = \\{w_k\\}$  represent the relative importance of each criterion in the decision-making process.\n",
    "\n",
    "- **Credibility threshold** $\\lambda$ is a cutting level value that determines whether the outranking relation between an alternative and a profile is considered valid or not. It is usually set within the range of 0.5 to 1 (typically 0.75)."
   ]
  },
  {
   "cell_type": "markdown",
   "id": "beb48cf7-ab53-438f-8e30-b48d74bd7717",
   "metadata": {},
   "source": [
    "### Concepts specific to ELECTRE problem solving\n",
    "- **Partial concordances** $c(a, b)$ between profiles $a$ and $b$ for each criterion $c$ is the truth value (between 0 and 1) of the concordance (i.e. agreement) with the statement *a outranks b for criterion c* where \"outranks\" means \"is at least as good as\". The comparison is done between alternative $a_{i,k}$ and base $b_{j,k}$ for each criterion $c_k$. The result, $c_{(k,j),i}(a_{i,k},b_{j,k})$, has a double index  (criterion $k$, base profile $j$) and columns corresponding to alternatives $i.$\n",
    "\n",
    "- **Global concordance** $C(a,b)$ between profiles $a$ and $b$ is the truth value (berween 0 and 1) of the statement *a outranks b globally, i.e. for all criteria* where \"outranks\" means \"is at least as good as\". The global concordances are calculated by using the partial concordances and the weights. They are the normalized weighted sum of partial concordances $c_{(k,j),i}$ for each criterion.\n",
    "\n",
    "- **Partial discordances** $d(a, b)$ between profiles $a$ and $b$ for each criterion $c$ is the truth value (between 0 and 1) of the discordance (i.e. disagreement) with the statement: *a outranks b for criterion c* where \"outranks\" means \"is at least as good as\". The comparison is done between alternative $a_{i,k}$ and base profile $b_{j,k}$ for each criterion $c_k.$\n",
    "\n",
    "- **Credibility index** $\\sigma(a, b)$ represents how credible the assertion *a outranks b* is. It can be seen as a fuzzy relation of outranking. The credibility index $\\sigma(a,b)$ corresponds to the global concordance index $C(a,b)$ weakened by partial discordances $d(a, b).$\n",
    "\n",
    "- **Outranking relationships** $a_i$ `I` $b_j$, $a_i$ `>` $b_j$, $a_i$  `<` $b_j$ and $a_i$ `R` $b_j$ (for indiferrent, preferred, not preferred, and incomparable) are relations between alternatives $a$ and $b$ derived from the credibility indexes $\\sigma(a, b)$ and $\\sigma(b, a).$\n",
    "\n",
    "- **Optimistic classification** is a procedure in which the level of base profiles is increased till the lowest base profile which is \"preferred\" to alternative (b > a) is found. The alternative is assigned to the category having this base as upper bound. If no base is \"preferred\", the alternative is assigned to the category above the highest base profile.\n",
    "\n",
    "- **Pessimistic classification** is a procedure in which the level of base profiles is decreased till a base profile which is \"not preferred\" to alternative (b < a) is found. The alternative is assigned to the category having this base as lower bound. If no base is \"not preferred\", the alternative is assigned to the category below the lowest base profile."
   ]
  },
  {
   "cell_type": "markdown",
   "id": "7397efed-dd41-49a6-a8f8-5a23cd05f5fd",
   "metadata": {
    "jp-MarkdownHeadingCollapsed": true
   },
   "source": [
    "### Results\n",
    "\n",
    "- **Ranking** means indicating for each alternative the category to which it belongs.\n",
    "\n",
    "- **Sorting** means indicating for each category the alternatives that belong to it."
   ]
  },
  {
   "cell_type": "markdown",
   "id": "0f8afac3-f2c2-4249-8575-156243497c63",
   "metadata": {},
   "source": [
    "# Problem statement for ELECTRE Tri MCDM\n",
    "\n",
    "ELECTRE Tri is a multiple-criteria decision-making (MCDM) method designed to sort a set of alternatives into predefined ordered categories based on their performance across multiple criteria, considering both supporting and opposing arguments for each assignment decision. \n",
    "\n",
    "The problem it addresses can be stated as:\n",
    "\n",
    "**Given:**\n",
    "- A set of criteria $c = \\{c_k\\}$ with associated weights $w = \\{w_k\\}$.\n",
    "- A matrix $A = \\{a_{i,k}\\}$ of performances of alternatives $a_i$ for each criterion $k$.\n",
    "- A matrix $B = \\{b_{j,k}\\}$ of base profiles (or category boundaries) $b_j$ for each criterion $k$ that form a set of $l$ ordered categories $C$, where $l - 1$ is the number of base profiles.\n",
    "- Preference $p = \\{p_k\\}$, indifference $q = \\{q_k\\}$, and veto $v = \\{v_k\\}$ threshold vectors for each criterion.\n",
    "- A credibility threshold $\\lambda$ for outranking.\n",
    "\n",
    "\n",
    "**Do:**\n",
    "\n",
    "Assign each alternative $a_i ∈ A$ to one of the predefined categories $C_j ∈ C$ based on its performance across all criteria $c_k$ by using optimistic and pessimistic classification, while considering:\n",
    "\n",
    "1. The outranking relations between alternatives and base profiles.\n",
    "2. The credibility of these outranking relations.\n",
    "3. The concordance and discordance between alternatives and base profiles.\n",
    "4. The possibility of indifference and/or incomparability between alternatives and base profiles.\n",
    "\n",
    "# Features of ELECTRE Tri-B\n",
    "\n",
    "The method provides a robust sorting procedure that can handle:\n",
    "- Multiple conflicting criteria.\n",
    "- Imprecise or uncertain information.\n",
    "- Partial compensation between criteria.\n",
    "- Preference, indifference, and veto thresholds."
   ]
  },
  {
   "cell_type": "code",
   "execution_count": 3,
   "id": "66e26eb8-c3d3-429e-aa3a-b13f8c3bf309",
   "metadata": {},
   "outputs": [],
   "source": [
    "\n",
    "data_file = '../../data/base_profile.csv'\n",
    "A, B, T, w = et.read_electre_tri_data(data_file)"
   ]
  },
  {
   "cell_type": "code",
   "execution_count": 4,
   "id": "7451dfac-6169-499b-9e19-cb8b9987e6b1",
   "metadata": {},
   "outputs": [
    {
     "name": "stdout",
     "output_type": "stream",
     "text": [
      "Performance of alternatives\n"
     ]
    },
    {
     "data": {
      "text/html": [
       "<div>\n",
       "<style scoped>\n",
       "    .dataframe tbody tr th:only-of-type {\n",
       "        vertical-align: middle;\n",
       "    }\n",
       "\n",
       "    .dataframe tbody tr th {\n",
       "        vertical-align: top;\n",
       "    }\n",
       "\n",
       "    .dataframe thead th {\n",
       "        text-align: right;\n",
       "    }\n",
       "</style>\n",
       "<table border=\"1\" class=\"dataframe\">\n",
       "  <thead>\n",
       "    <tr style=\"text-align: right;\">\n",
       "      <th></th>\n",
       "      <th>c1</th>\n",
       "      <th>c2</th>\n",
       "    </tr>\n",
       "  </thead>\n",
       "  <tbody>\n",
       "    <tr>\n",
       "      <th>a1</th>\n",
       "      <td>8.5</td>\n",
       "      <td>18.0</td>\n",
       "    </tr>\n",
       "    <tr>\n",
       "      <th>a2</th>\n",
       "      <td>14.0</td>\n",
       "      <td>16.0</td>\n",
       "    </tr>\n",
       "    <tr>\n",
       "      <th>a3</th>\n",
       "      <td>5.0</td>\n",
       "      <td>27.0</td>\n",
       "    </tr>\n",
       "  </tbody>\n",
       "</table>\n",
       "</div>"
      ],
      "text/plain": [
       "      c1    c2\n",
       "a1   8.5  18.0\n",
       "a2  14.0  16.0\n",
       "a3   5.0  27.0"
      ]
     },
     "execution_count": 4,
     "metadata": {},
     "output_type": "execute_result"
    }
   ],
   "source": [
    "print(\"Performance of alternatives\")\n",
    "A"
   ]
  },
  {
   "cell_type": "code",
   "execution_count": 5,
   "id": "0960200d-ded1-4bf9-9811-6cb51acb53d7",
   "metadata": {},
   "outputs": [
    {
     "name": "stdout",
     "output_type": "stream",
     "text": [
      "Base profiles\n"
     ]
    },
    {
     "data": {
      "text/html": [
       "<div>\n",
       "<style scoped>\n",
       "    .dataframe tbody tr th:only-of-type {\n",
       "        vertical-align: middle;\n",
       "    }\n",
       "\n",
       "    .dataframe tbody tr th {\n",
       "        vertical-align: top;\n",
       "    }\n",
       "\n",
       "    .dataframe thead th {\n",
       "        text-align: right;\n",
       "    }\n",
       "</style>\n",
       "<table border=\"1\" class=\"dataframe\">\n",
       "  <thead>\n",
       "    <tr style=\"text-align: right;\">\n",
       "      <th></th>\n",
       "      <th>c1</th>\n",
       "      <th>c2</th>\n",
       "    </tr>\n",
       "  </thead>\n",
       "  <tbody>\n",
       "    <tr>\n",
       "      <th>b1</th>\n",
       "      <td>10.0</td>\n",
       "      <td>15.0</td>\n",
       "    </tr>\n",
       "    <tr>\n",
       "      <th>b2</th>\n",
       "      <td>15.0</td>\n",
       "      <td>20.0</td>\n",
       "    </tr>\n",
       "  </tbody>\n",
       "</table>\n",
       "</div>"
      ],
      "text/plain": [
       "      c1    c2\n",
       "b1  10.0  15.0\n",
       "b2  15.0  20.0"
      ]
     },
     "execution_count": 5,
     "metadata": {},
     "output_type": "execute_result"
    }
   ],
   "source": [
    "print(\"Base profiles\")\n",
    "B"
   ]
  },
  {
   "cell_type": "code",
   "execution_count": 6,
   "id": "565a9f50-2e42-4134-8d38-4e555a1d4125",
   "metadata": {},
   "outputs": [
    {
     "name": "stdout",
     "output_type": "stream",
     "text": [
      "Thresholds\n"
     ]
    },
    {
     "data": {
      "text/html": [
       "<div>\n",
       "<style scoped>\n",
       "    .dataframe tbody tr th:only-of-type {\n",
       "        vertical-align: middle;\n",
       "    }\n",
       "\n",
       "    .dataframe tbody tr th {\n",
       "        vertical-align: top;\n",
       "    }\n",
       "\n",
       "    .dataframe thead th {\n",
       "        text-align: right;\n",
       "    }\n",
       "</style>\n",
       "<table border=\"1\" class=\"dataframe\">\n",
       "  <thead>\n",
       "    <tr style=\"text-align: right;\">\n",
       "      <th></th>\n",
       "      <th>c1</th>\n",
       "      <th>c2</th>\n",
       "    </tr>\n",
       "  </thead>\n",
       "  <tbody>\n",
       "    <tr>\n",
       "      <th>q</th>\n",
       "      <td>1.0</td>\n",
       "      <td>2.0</td>\n",
       "    </tr>\n",
       "    <tr>\n",
       "      <th>p</th>\n",
       "      <td>2.0</td>\n",
       "      <td>4.0</td>\n",
       "    </tr>\n",
       "    <tr>\n",
       "      <th>v</th>\n",
       "      <td>4.0</td>\n",
       "      <td>8.0</td>\n",
       "    </tr>\n",
       "  </tbody>\n",
       "</table>\n",
       "</div>"
      ],
      "text/plain": [
       "    c1   c2\n",
       "q  1.0  2.0\n",
       "p  2.0  4.0\n",
       "v  4.0  8.0"
      ]
     },
     "execution_count": 6,
     "metadata": {},
     "output_type": "execute_result"
    }
   ],
   "source": [
    "print(\"Thresholds\")\n",
    "T"
   ]
  },
  {
   "cell_type": "code",
   "execution_count": 7,
   "id": "cbe55c9c-2429-4be9-8d39-36926b4c342a",
   "metadata": {},
   "outputs": [
    {
     "name": "stdout",
     "output_type": "stream",
     "text": [
      "Weights\n"
     ]
    },
    {
     "data": {
      "text/html": [
       "<div>\n",
       "<style scoped>\n",
       "    .dataframe tbody tr th:only-of-type {\n",
       "        vertical-align: middle;\n",
       "    }\n",
       "\n",
       "    .dataframe tbody tr th {\n",
       "        vertical-align: top;\n",
       "    }\n",
       "\n",
       "    .dataframe thead th {\n",
       "        text-align: right;\n",
       "    }\n",
       "</style>\n",
       "<table border=\"1\" class=\"dataframe\">\n",
       "  <thead>\n",
       "    <tr style=\"text-align: right;\">\n",
       "      <th></th>\n",
       "      <th>c1</th>\n",
       "      <th>c2</th>\n",
       "    </tr>\n",
       "  </thead>\n",
       "  <tbody>\n",
       "    <tr>\n",
       "      <th>w</th>\n",
       "      <td>0.7</td>\n",
       "      <td>0.3</td>\n",
       "    </tr>\n",
       "  </tbody>\n",
       "</table>\n",
       "</div>"
      ],
      "text/plain": [
       "    c1   c2\n",
       "w  0.7  0.3"
      ]
     },
     "execution_count": 7,
     "metadata": {},
     "output_type": "execute_result"
    }
   ],
   "source": [
    "print(\"Weights\")\n",
    "w.to_frame().T.rename(index={0: 'w'})"
   ]
  },
  {
   "cell_type": "code",
   "execution_count": 8,
   "id": "b853fda4-f0ee-4f27-8dbd-09faed089ea5",
   "metadata": {},
   "outputs": [],
   "source": [
    "credibility_threshold = 0.7"
   ]
  },
  {
   "cell_type": "markdown",
   "id": "2d7b8d6b-d779-430c-93d7-c987912109dc",
   "metadata": {},
   "source": [
    "# Problem solving\n",
    "\n",
    "Given:\n",
    "- criteria to maximize<sup>*</sup>; \n",
    "- alternatives, __A__, and increasing base profiles, __B__;\n",
    "- thresholds (preference, indifference, and veto), __T__;\n",
    "- weights, __w__;\n",
    "- credibility threshold, λ.\n",
    "\n",
    "Calculate:\n",
    "- partial concordance and discordance indexes;\n",
    "- global concordance indexes;\n",
    "- credibility indexes;\n",
    "- outranking relations;\n",
    "\n",
    "and perform classification using:\n",
    "- optimistic (ascending) procedure;\n",
    "- pessimistic (descending) procedure.\n",
    "\n",
    "<sup>*</sup>_Note_: The sorting problem is solved for criteria to maximize. To deal with criteria that need to be minimized, multiply by $-1$ the data for these criteria, i.e. the columns of alternatives __A__ and base profiles __B__ (but not of theresholds __T__ and weights __w__) corresponding to these criteria."
   ]
  },
  {
   "cell_type": "markdown",
   "id": "cdb71466-0525-493c-a2c1-cd94124f977d",
   "metadata": {},
   "source": [
    "## Partial concordance\n",
    "\n",
    "Partial concordance between profiles $a$ and $b$ for each criterion $c$ is the truth value (between 0 and 1) of the concordance (i.e. agreement) with the statement:\n",
    "\n",
    "$$a \\text{ outranks } b \\text{ for criterion } c$$\n",
    "\n",
    "where \"outranks\" means \"is at least as good as\"."
   ]
  },
  {
   "cell_type": "code",
   "execution_count": 9,
   "id": "365dfa06-143d-49a8-93f1-d64861efb94d",
   "metadata": {},
   "outputs": [],
   "source": [
    "c_ab, c_ba = et.partial_concordance(A, B, T)"
   ]
  },
  {
   "cell_type": "markdown",
   "id": "ff026e6c-0943-4bb4-b4dd-9789e428e042",
   "metadata": {},
   "source": [
    "### Partial concordance between alternatives and base profiles\n",
    "\n",
    "For a given criterion $k$:\n",
    "- If the alternative is higher than the base minus the indifference, then the concordance is 1, i.e. we agree that \"$a$ outranks $b$\" is true.\n",
    "\n",
    "- If the alternative is lower than the base minus the preference, then the concordance is 0, i.e. we don't agree that \"$a$ outranks $b$\".\n",
    "\n",
    "- Otherwise, the concordance is between 0 and 1, i.e. we partially agree that \"$a$ outranks $b$\"."
   ]
  },
  {
   "cell_type": "code",
   "execution_count": 10,
   "id": "a56997ae-ce7c-4333-b199-3f9c820c6c13",
   "metadata": {},
   "outputs": [
    {
     "name": "stdout",
     "output_type": "stream",
     "text": [
      "\n",
      "Partial concordance \n",
      "c_ab = \n",
      "\n"
     ]
    },
    {
     "data": {
      "text/html": [
       "<div>\n",
       "<style scoped>\n",
       "    .dataframe tbody tr th:only-of-type {\n",
       "        vertical-align: middle;\n",
       "    }\n",
       "\n",
       "    .dataframe tbody tr th {\n",
       "        vertical-align: top;\n",
       "    }\n",
       "\n",
       "    .dataframe thead th {\n",
       "        text-align: right;\n",
       "    }\n",
       "</style>\n",
       "<table border=\"1\" class=\"dataframe\">\n",
       "  <thead>\n",
       "    <tr style=\"text-align: right;\">\n",
       "      <th></th>\n",
       "      <th></th>\n",
       "      <th>a1</th>\n",
       "      <th>a2</th>\n",
       "      <th>a3</th>\n",
       "    </tr>\n",
       "    <tr>\n",
       "      <th>criteria</th>\n",
       "      <th>base</th>\n",
       "      <th></th>\n",
       "      <th></th>\n",
       "      <th></th>\n",
       "    </tr>\n",
       "  </thead>\n",
       "  <tbody>\n",
       "    <tr>\n",
       "      <th rowspan=\"2\" valign=\"top\">c1</th>\n",
       "      <th>b1</th>\n",
       "      <td>0.5</td>\n",
       "      <td>1.0</td>\n",
       "      <td>0</td>\n",
       "    </tr>\n",
       "    <tr>\n",
       "      <th>b2</th>\n",
       "      <td>0.0</td>\n",
       "      <td>1.0</td>\n",
       "      <td>0</td>\n",
       "    </tr>\n",
       "    <tr>\n",
       "      <th rowspan=\"2\" valign=\"top\">c2</th>\n",
       "      <th>b1</th>\n",
       "      <td>1.0</td>\n",
       "      <td>1.0</td>\n",
       "      <td>1</td>\n",
       "    </tr>\n",
       "    <tr>\n",
       "      <th>b2</th>\n",
       "      <td>1.0</td>\n",
       "      <td>0.0</td>\n",
       "      <td>1</td>\n",
       "    </tr>\n",
       "  </tbody>\n",
       "</table>\n",
       "</div>"
      ],
      "text/plain": [
       "                a1   a2  a3\n",
       "criteria base              \n",
       "c1       b1    0.5  1.0   0\n",
       "         b2    0.0  1.0   0\n",
       "c2       b1    1.0  1.0   1\n",
       "         b2    1.0  0.0   1"
      ]
     },
     "execution_count": 10,
     "metadata": {},
     "output_type": "execute_result"
    }
   ],
   "source": [
    "print(\"\\nPartial concordance \\nc_ab = \\n\")\n",
    "c_ab"
   ]
  },
  {
   "cell_type": "markdown",
   "id": "5f922c44-ec14-496b-8385-780b90de0de8",
   "metadata": {},
   "source": [
    "### Partial concordance between base profiles and alternatives\n",
    "\n",
    "For a given criterion $k$:\n",
    "- If the base  is higher than the alternative minus the indifference, then the concordance is 1, i.e. we agree that \"$b$ outranks $a$\" is true.\n",
    "\n",
    "- If the base is lower than the alternative minus the preference, then the concordance is 0, i.e. we don't agree that \"$b$ outranks $a$\".\n",
    "\n",
    "- Otherwise, the concordance is between 0 and 1, i.e. we partially agree that \"$b$ outranks $a$\"."
   ]
  },
  {
   "cell_type": "markdown",
   "id": "6b5251ac-9a9e-4597-9538-18adcb844d2c",
   "metadata": {},
   "source": [
    "## Discordance\n",
    "\n",
    "Partial discordance between profiles `a` and `b` for each criterion `c` is the truth value (between 0 and 1) of the discordance (i.e. disagreement) with the statement:\n",
    "\n",
    "$$a \\text{ outranks } b \\text{ for criterion } c$$\n",
    "\n",
    "where \"outranks\" means \"is at least as good as\"."
   ]
  },
  {
   "cell_type": "code",
   "execution_count": 11,
   "id": "d9b408c6-6b3d-4cbd-a577-f908864e20b0",
   "metadata": {},
   "outputs": [
    {
     "data": {
      "text/html": [
       "<div>\n",
       "<style scoped>\n",
       "    .dataframe tbody tr th:only-of-type {\n",
       "        vertical-align: middle;\n",
       "    }\n",
       "\n",
       "    .dataframe tbody tr th {\n",
       "        vertical-align: top;\n",
       "    }\n",
       "\n",
       "    .dataframe thead th {\n",
       "        text-align: right;\n",
       "    }\n",
       "</style>\n",
       "<table border=\"1\" class=\"dataframe\">\n",
       "  <thead>\n",
       "    <tr style=\"text-align: right;\">\n",
       "      <th></th>\n",
       "      <th></th>\n",
       "      <th>a1</th>\n",
       "      <th>a2</th>\n",
       "      <th>a3</th>\n",
       "    </tr>\n",
       "    <tr>\n",
       "      <th>criteria</th>\n",
       "      <th>base</th>\n",
       "      <th></th>\n",
       "      <th></th>\n",
       "      <th></th>\n",
       "    </tr>\n",
       "  </thead>\n",
       "  <tbody>\n",
       "    <tr>\n",
       "      <th rowspan=\"2\" valign=\"top\">c1</th>\n",
       "      <th>b1</th>\n",
       "      <td>0</td>\n",
       "      <td>0</td>\n",
       "      <td>1</td>\n",
       "    </tr>\n",
       "    <tr>\n",
       "      <th>b2</th>\n",
       "      <td>1</td>\n",
       "      <td>0</td>\n",
       "      <td>1</td>\n",
       "    </tr>\n",
       "    <tr>\n",
       "      <th rowspan=\"2\" valign=\"top\">c2</th>\n",
       "      <th>b1</th>\n",
       "      <td>0</td>\n",
       "      <td>0</td>\n",
       "      <td>0</td>\n",
       "    </tr>\n",
       "    <tr>\n",
       "      <th>b2</th>\n",
       "      <td>0</td>\n",
       "      <td>0</td>\n",
       "      <td>0</td>\n",
       "    </tr>\n",
       "  </tbody>\n",
       "</table>\n",
       "</div>"
      ],
      "text/plain": [
       "               a1  a2  a3\n",
       "criteria base            \n",
       "c1       b1     0   0   1\n",
       "         b2     1   0   1\n",
       "c2       b1     0   0   0\n",
       "         b2     0   0   0"
      ]
     },
     "execution_count": 11,
     "metadata": {},
     "output_type": "execute_result"
    }
   ],
   "source": [
    "d_ab, d_ba = et.discordance(A, B, T)\n",
    "d_ab"
   ]
  },
  {
   "cell_type": "markdown",
   "id": "766cc8e5-98eb-4394-b61b-3d23e84f9544",
   "metadata": {},
   "source": [
    "### Discordance between alternatives and base profiles\n",
    "\n",
    "For a given criterion $k$,\n",
    "\n",
    "- If the alternative is higher than the base minus the preference, then the discordance is 0, i.e. we do not disagree that \"$a$ outranks $b$\" is true.\n",
    "\n",
    "- If the alternative is lower than the base minus the veto, then the concordance is 1, i.e. we disagree that \"$a$ outranks $b$\".\n",
    "\n",
    "- Otherwise, the discordance is between 0 and 1, i.e. we partially disagree that \"$a$ outranks $b$\"."
   ]
  },
  {
   "cell_type": "code",
   "execution_count": 12,
   "id": "22128d7e-ebc7-42c5-a86c-64c87021ba90",
   "metadata": {},
   "outputs": [
    {
     "name": "stdout",
     "output_type": "stream",
     "text": [
      "\n",
      "Partial discordance between alternatives and base profiles \n",
      "d_ab = \n",
      "\n"
     ]
    },
    {
     "data": {
      "text/html": [
       "<div>\n",
       "<style scoped>\n",
       "    .dataframe tbody tr th:only-of-type {\n",
       "        vertical-align: middle;\n",
       "    }\n",
       "\n",
       "    .dataframe tbody tr th {\n",
       "        vertical-align: top;\n",
       "    }\n",
       "\n",
       "    .dataframe thead th {\n",
       "        text-align: right;\n",
       "    }\n",
       "</style>\n",
       "<table border=\"1\" class=\"dataframe\">\n",
       "  <thead>\n",
       "    <tr style=\"text-align: right;\">\n",
       "      <th></th>\n",
       "      <th></th>\n",
       "      <th>a1</th>\n",
       "      <th>a2</th>\n",
       "      <th>a3</th>\n",
       "    </tr>\n",
       "    <tr>\n",
       "      <th>criteria</th>\n",
       "      <th>base</th>\n",
       "      <th></th>\n",
       "      <th></th>\n",
       "      <th></th>\n",
       "    </tr>\n",
       "  </thead>\n",
       "  <tbody>\n",
       "    <tr>\n",
       "      <th rowspan=\"2\" valign=\"top\">c1</th>\n",
       "      <th>b1</th>\n",
       "      <td>0</td>\n",
       "      <td>0</td>\n",
       "      <td>1</td>\n",
       "    </tr>\n",
       "    <tr>\n",
       "      <th>b2</th>\n",
       "      <td>1</td>\n",
       "      <td>0</td>\n",
       "      <td>1</td>\n",
       "    </tr>\n",
       "    <tr>\n",
       "      <th rowspan=\"2\" valign=\"top\">c2</th>\n",
       "      <th>b1</th>\n",
       "      <td>0</td>\n",
       "      <td>0</td>\n",
       "      <td>0</td>\n",
       "    </tr>\n",
       "    <tr>\n",
       "      <th>b2</th>\n",
       "      <td>0</td>\n",
       "      <td>0</td>\n",
       "      <td>0</td>\n",
       "    </tr>\n",
       "  </tbody>\n",
       "</table>\n",
       "</div>"
      ],
      "text/plain": [
       "               a1  a2  a3\n",
       "criteria base            \n",
       "c1       b1     0   0   1\n",
       "         b2     1   0   1\n",
       "c2       b1     0   0   0\n",
       "         b2     0   0   0"
      ]
     },
     "execution_count": 12,
     "metadata": {},
     "output_type": "execute_result"
    }
   ],
   "source": [
    "print(\"\\nPartial discordance between alternatives and base profiles \\nd_ab = \\n\")\n",
    "d_ab"
   ]
  },
  {
   "cell_type": "markdown",
   "id": "0f36e6bd-6636-4c78-a42c-3969831b0e51",
   "metadata": {},
   "source": [
    "### Discordance between base profiles and alternatives\n",
    "\n",
    "For a given criterion $k$,\n",
    "\n",
    "- If the base is higher than the alternative minus the preference, then the discordance is 0, i.e. we do not disagree that \"$b$ outranks $a$\" is true.\n",
    "\n",
    "- If the base is lower than the alternative minus the veto, then the concordance is 1, i.e. we disagree that \"$b$ outranks $a$\".\n",
    "\n",
    "- Otherwise, the discordance is between 0 and 1, i.e. we partially disagree that \"$b$ outranks $a$\"."
   ]
  },
  {
   "cell_type": "markdown",
   "id": "eeb3d720-0a00-4efb-b04e-e7dea9e786b6",
   "metadata": {},
   "source": [
    "## Global concordance\n",
    "\n",
    "Global concordance between profiles $a$ and $b$ is the truth value (between 0 and 1) of the statement:\n",
    "$$a \\text{ outranks } b \\text{ globally, i.e. for all criteria}$$\n",
    "where \"outranks\" means \"is at least as good as\"."
   ]
  },
  {
   "cell_type": "code",
   "execution_count": 13,
   "id": "2cafc291-0356-4a56-85a9-7b96cb5bbb0e",
   "metadata": {},
   "outputs": [
    {
     "data": {
      "text/html": [
       "<div>\n",
       "<style scoped>\n",
       "    .dataframe tbody tr th:only-of-type {\n",
       "        vertical-align: middle;\n",
       "    }\n",
       "\n",
       "    .dataframe tbody tr th {\n",
       "        vertical-align: top;\n",
       "    }\n",
       "\n",
       "    .dataframe thead th {\n",
       "        text-align: right;\n",
       "    }\n",
       "</style>\n",
       "<table border=\"1\" class=\"dataframe\">\n",
       "  <thead>\n",
       "    <tr style=\"text-align: right;\">\n",
       "      <th></th>\n",
       "      <th>a1</th>\n",
       "      <th>a2</th>\n",
       "      <th>a3</th>\n",
       "    </tr>\n",
       "    <tr>\n",
       "      <th>base</th>\n",
       "      <th></th>\n",
       "      <th></th>\n",
       "      <th></th>\n",
       "    </tr>\n",
       "  </thead>\n",
       "  <tbody>\n",
       "    <tr>\n",
       "      <th>b1</th>\n",
       "      <td>0.65</td>\n",
       "      <td>1.0</td>\n",
       "      <td>0.3</td>\n",
       "    </tr>\n",
       "    <tr>\n",
       "      <th>b2</th>\n",
       "      <td>0.3</td>\n",
       "      <td>0.7</td>\n",
       "      <td>0.3</td>\n",
       "    </tr>\n",
       "  </tbody>\n",
       "</table>\n",
       "</div>"
      ],
      "text/plain": [
       "        a1   a2   a3\n",
       "base                \n",
       "b1    0.65  1.0  0.3\n",
       "b2     0.3  0.7  0.3"
      ]
     },
     "execution_count": 13,
     "metadata": {},
     "output_type": "execute_result"
    }
   ],
   "source": [
    "C_ab = et.global_concordance(c_ab, w)\n",
    "C_ab"
   ]
  },
  {
   "cell_type": "code",
   "execution_count": 14,
   "id": "b07f21a7-6e97-49e3-a612-432fa3caf4d6",
   "metadata": {},
   "outputs": [
    {
     "data": {
      "text/html": [
       "<div>\n",
       "<style scoped>\n",
       "    .dataframe tbody tr th:only-of-type {\n",
       "        vertical-align: middle;\n",
       "    }\n",
       "\n",
       "    .dataframe tbody tr th {\n",
       "        vertical-align: top;\n",
       "    }\n",
       "\n",
       "    .dataframe thead th {\n",
       "        text-align: right;\n",
       "    }\n",
       "</style>\n",
       "<table border=\"1\" class=\"dataframe\">\n",
       "  <thead>\n",
       "    <tr style=\"text-align: right;\">\n",
       "      <th></th>\n",
       "      <th>a1</th>\n",
       "      <th>a2</th>\n",
       "      <th>a3</th>\n",
       "    </tr>\n",
       "    <tr>\n",
       "      <th>base</th>\n",
       "      <th></th>\n",
       "      <th></th>\n",
       "      <th></th>\n",
       "    </tr>\n",
       "  </thead>\n",
       "  <tbody>\n",
       "    <tr>\n",
       "      <th>b1</th>\n",
       "      <td>0.85</td>\n",
       "      <td>0.3</td>\n",
       "      <td>0.7</td>\n",
       "    </tr>\n",
       "    <tr>\n",
       "      <th>b2</th>\n",
       "      <td>1.0</td>\n",
       "      <td>1.0</td>\n",
       "      <td>0.7</td>\n",
       "    </tr>\n",
       "  </tbody>\n",
       "</table>\n",
       "</div>"
      ],
      "text/plain": [
       "        a1   a2   a3\n",
       "base                \n",
       "b1    0.85  0.3  0.7\n",
       "b2     1.0  1.0  0.7"
      ]
     },
     "execution_count": 14,
     "metadata": {},
     "output_type": "execute_result"
    }
   ],
   "source": [
    "C_ba = et.global_concordance(c_ba, w)\n",
    "C_ba"
   ]
  },
  {
   "cell_type": "markdown",
   "id": "84b8558d-2f2f-4ba7-8dd4-ce477d424601",
   "metadata": {},
   "source": [
    "## Credibility index of outranking relation\n",
    "\n",
    "Credibility index represents how credible the assertion \"$a$ outranks $b$\" is. It can be seen as a fuzzy relation of outranking. The credibility index $\\sigma(a,b)$ corresponds to the global concordance index $C(a,b)$ weakened by discordances $d(a, b)$:\n",
    "\n",
    "- When no criterion shows strong opposition (discordance) to the outranking relation, the credibility index is equal to the global concordance.\n",
    "\n",
    "- When a discordant criterion opposes a veto to the assertion ”$a$ outranks $b$\" (i.e. discordance is 1), then credibility index $\\sigma(a,b)$ becomes null (the assertion ”$a$ outranks $b$\" is not credible at all).\n",
    "\n",
    "- When one or more criteria strongly oppose the outranking relation (i.e., their discordance exceeds the global concordance), the credibility index is reduced by multiplying the global concordance by a factor derived from the discordances that exceed the global concordance. The formula for this correction involves a product of terms, each representing the effect of a discordant criterion."
   ]
  },
  {
   "cell_type": "code",
   "execution_count": 15,
   "id": "2b901086-565c-4043-aefa-41b4b807ef51",
   "metadata": {},
   "outputs": [
    {
     "data": {
      "text/html": [
       "<div>\n",
       "<style scoped>\n",
       "    .dataframe tbody tr th:only-of-type {\n",
       "        vertical-align: middle;\n",
       "    }\n",
       "\n",
       "    .dataframe tbody tr th {\n",
       "        vertical-align: top;\n",
       "    }\n",
       "\n",
       "    .dataframe thead th {\n",
       "        text-align: right;\n",
       "    }\n",
       "</style>\n",
       "<table border=\"1\" class=\"dataframe\">\n",
       "  <thead>\n",
       "    <tr style=\"text-align: right;\">\n",
       "      <th></th>\n",
       "      <th>a1</th>\n",
       "      <th>a2</th>\n",
       "      <th>a3</th>\n",
       "    </tr>\n",
       "    <tr>\n",
       "      <th>base</th>\n",
       "      <th></th>\n",
       "      <th></th>\n",
       "      <th></th>\n",
       "    </tr>\n",
       "  </thead>\n",
       "  <tbody>\n",
       "    <tr>\n",
       "      <th>b1</th>\n",
       "      <td>0.65</td>\n",
       "      <td>1.0</td>\n",
       "      <td>0.0</td>\n",
       "    </tr>\n",
       "    <tr>\n",
       "      <th>b2</th>\n",
       "      <td>0.0</td>\n",
       "      <td>0.7</td>\n",
       "      <td>0.0</td>\n",
       "    </tr>\n",
       "  </tbody>\n",
       "</table>\n",
       "</div>"
      ],
      "text/plain": [
       "        a1   a2   a3\n",
       "base                \n",
       "b1    0.65  1.0  0.0\n",
       "b2     0.0  0.7  0.0"
      ]
     },
     "execution_count": 15,
     "metadata": {},
     "output_type": "execute_result"
    }
   ],
   "source": [
    "sigma_ab = et.credibility_index(C_ab, d_ab)\n",
    "sigma_ab"
   ]
  },
  {
   "cell_type": "code",
   "execution_count": 16,
   "id": "a270a4c5-6933-49ae-a6a7-4e7c237e7f48",
   "metadata": {},
   "outputs": [
    {
     "data": {
      "text/html": [
       "<div>\n",
       "<style scoped>\n",
       "    .dataframe tbody tr th:only-of-type {\n",
       "        vertical-align: middle;\n",
       "    }\n",
       "\n",
       "    .dataframe tbody tr th {\n",
       "        vertical-align: top;\n",
       "    }\n",
       "\n",
       "    .dataframe thead th {\n",
       "        text-align: right;\n",
       "    }\n",
       "</style>\n",
       "<table border=\"1\" class=\"dataframe\">\n",
       "  <thead>\n",
       "    <tr style=\"text-align: right;\">\n",
       "      <th></th>\n",
       "      <th>a1</th>\n",
       "      <th>a2</th>\n",
       "      <th>a3</th>\n",
       "    </tr>\n",
       "    <tr>\n",
       "      <th>base</th>\n",
       "      <th></th>\n",
       "      <th></th>\n",
       "      <th></th>\n",
       "    </tr>\n",
       "  </thead>\n",
       "  <tbody>\n",
       "    <tr>\n",
       "      <th>b1</th>\n",
       "      <td>0.85</td>\n",
       "      <td>0.0</td>\n",
       "      <td>0.0</td>\n",
       "    </tr>\n",
       "    <tr>\n",
       "      <th>b2</th>\n",
       "      <td>1.0</td>\n",
       "      <td>1.0</td>\n",
       "      <td>0.583333</td>\n",
       "    </tr>\n",
       "  </tbody>\n",
       "</table>\n",
       "</div>"
      ],
      "text/plain": [
       "        a1   a2        a3\n",
       "base                     \n",
       "b1    0.85  0.0       0.0\n",
       "b2     1.0  1.0  0.583333"
      ]
     },
     "execution_count": 16,
     "metadata": {},
     "output_type": "execute_result"
    }
   ],
   "source": [
    "sigma_ba = et.credibility_index(C_ba, d_ba)\n",
    "sigma_ba"
   ]
  },
  {
   "cell_type": "markdown",
   "id": "90b2ebb4-84d9-47bf-9c03-13874afdbabe",
   "metadata": {},
   "source": [
    "## Outranking relationships\n",
    "\n",
    "The fuzzy outranking relations, expressed by the credibility indexes $\\sigma$, is transformed into an outranking relationship  by using a cutting level $\\lambda$.\n",
    "\n",
    "There are four types of relationships that can be established between each $a_i$ and each $b_j$:\n",
    "\n",
    "- $a_i$  `I`  $b_j$ : $a_i$  is indifferent to  $b_j$ if $\\sigma(a_i, b_j) \\geq \\lambda$ and $\\sigma(b_j, a_i) \\geq \\lambda$ \n",
    "- $a_i$  `>`  $b_j$ : $a_i$  is preferred to  $b_j$ if $\\sigma(a_i, b_j) \\geq \\lambda$ and $\\sigma(b_j, a_i) < \\lambda$ \n",
    "- $a_i$  `<`  $b_j$ : $a_i$  is not preferred to  $b_j$ if $\\sigma(a_i, b_j) < \\lambda$ and $\\sigma(b_j, a_i) \\geq \\lambda$ \n",
    "- $a_i$  `R`  $b_j$ : $a_i$  incomparable to $b_j$ if $\\sigma(a_i, b_j) < \\lambda$ and $\\sigma(b_j, a_i) < \\lambda$\n",
    "\n",
    "|                    | $\\sigma(a_i, b_j) \\geq \\lambda$ |$\\sigma(a_i, b_j) < \\lambda$|\n",
    "| ---------------------------------|-------------------|----------------------------|\n",
    "| $\\sigma(b_j, a_i) \\geq \\lambda$  | $a_i$  `I`  $b_j$ | $a_i$  `<`  $b_j$ |\n",
    "| $\\sigma(b_j, a_i) < \\lambda$     | $a_i$  `>`  $b_j$ | $a_i$  `R`  $b_j$ |\n"
   ]
  },
  {
   "cell_type": "code",
   "execution_count": 17,
   "id": "14417f4b-3f76-4110-85d3-625da4d1e6fd",
   "metadata": {},
   "outputs": [
    {
     "data": {
      "text/html": [
       "<div>\n",
       "<style scoped>\n",
       "    .dataframe tbody tr th:only-of-type {\n",
       "        vertical-align: middle;\n",
       "    }\n",
       "\n",
       "    .dataframe tbody tr th {\n",
       "        vertical-align: top;\n",
       "    }\n",
       "\n",
       "    .dataframe thead th {\n",
       "        text-align: right;\n",
       "    }\n",
       "</style>\n",
       "<table border=\"1\" class=\"dataframe\">\n",
       "  <thead>\n",
       "    <tr style=\"text-align: right;\">\n",
       "      <th></th>\n",
       "      <th>a1</th>\n",
       "      <th>a2</th>\n",
       "      <th>a3</th>\n",
       "    </tr>\n",
       "    <tr>\n",
       "      <th>base</th>\n",
       "      <th></th>\n",
       "      <th></th>\n",
       "      <th></th>\n",
       "    </tr>\n",
       "  </thead>\n",
       "  <tbody>\n",
       "    <tr>\n",
       "      <th>b1</th>\n",
       "      <td>≻</td>\n",
       "      <td>≺</td>\n",
       "      <td>R</td>\n",
       "    </tr>\n",
       "    <tr>\n",
       "      <th>b2</th>\n",
       "      <td>≻</td>\n",
       "      <td>I</td>\n",
       "      <td>R</td>\n",
       "    </tr>\n",
       "  </tbody>\n",
       "</table>\n",
       "</div>"
      ],
      "text/plain": [
       "     a1 a2 a3\n",
       "base         \n",
       "b1    ≻  ≺  R\n",
       "b2    ≻  I  R"
      ]
     },
     "execution_count": 17,
     "metadata": {},
     "output_type": "execute_result"
    }
   ],
   "source": [
    "outranking = et.outrank(sigma_ab, sigma_ba, credibility_threshold=0.7)\n",
    "outranking"
   ]
  },
  {
   "cell_type": "markdown",
   "id": "6ebef689-2d35-4d83-a822-c53716bc7f54",
   "metadata": {},
   "source": [
    "## Optimistic and pessimistic classification\n",
    "\n",
    "Optimistic and pessimistic classification procedures are used to assign\n",
    "alternatives to ordered categories separated by base profiles.\n",
    "These procedures utilize outranking relations:\n",
    " - `>` : preferred\n",
    " - `<` : not preferred\n",
    " - `I` : indifferent\n",
    " - `R` : incomparable\n",
    "\n",
    "between the alternatives and the base profiles.\n",
    "\n",
    "- The **optimistic** procedure increases the level of base profiles till the lowest base profile which is \"preferred\" to alternative (b `>` a) is found. The alternative is assigned to the category having this base as upper bound. If no base is \"preferred\", the alternative is assigned to the category above the highest base profile.\n",
    "\n",
    "- The **pessimistic** procedure decreases the level of base profiles till a base profile which is \"not preferred\" to alternative (b `<` a) is found. The alternative is assigned to the category having this base as lower bound. If no base is \"not preferred\", the alternative is assigned to the category below the lowest base profile\n",
    "\n",
    "When the outranking relation between base and alternative is only of \"preference\" (b `>` a or b `<` a), the classification of the alternative gives the same result with optimistic and pessimistic procedure. For example, consider the outranking relation $b$ = [\"<\", \"<\", \">\", \">\", \">\", \">\"] for an alternative a. Both classifications (optimistic and pessimistic) classify alternative $a$ in $(b_1, b_2)$, i.e. $a ∈ (b_1, b_2)$.\n",
    "\n",
    "When the outranking relation between alternative and base profile is \"indifferent\" (`I`) or \"incomparable\" (`R`), the pessimistic procedure assigns the alternative in a lower category than the optimistic procedure. For example, consider the outranking relation $b$ = [\"<\", \"<\", \"I\", \"R\", \">\", \">\"] for an alternative $a$:\n",
    "\n",
    "- Optimistic classification starts from lowest base profile $b_0$ = \"<\" and increases the index of $b$ till $b_4$ = \">\". The alternative is classified in $(b_3, b_4)$, i.e. $a ∈ (b_3, b_4).$\n",
    "\n",
    "- Pessimistic classification starts from highest base profile $b_{-1}$ = \">\" and decreases the index of $b$ till $b_1$ = \"<\". The alternative is classified in $(b_1, b_2)$, i.e. $a ∈ (b_1, b_2).$"
   ]
  },
  {
   "cell_type": "code",
   "execution_count": 18,
   "id": "5848f259-bf8e-4389-b815-34407412a91a",
   "metadata": {},
   "outputs": [],
   "source": [
    "optimistic, pessimistic = et.classify(outranking)"
   ]
  },
  {
   "cell_type": "code",
   "execution_count": 19,
   "id": "c2b49246-e093-4d0c-bacf-98e98951defd",
   "metadata": {},
   "outputs": [
    {
     "name": "stdout",
     "output_type": "stream",
     "text": [
      "\n",
      "Optimistic classification\n"
     ]
    },
    {
     "data": {
      "text/html": [
       "<div>\n",
       "<style scoped>\n",
       "    .dataframe tbody tr th:only-of-type {\n",
       "        vertical-align: middle;\n",
       "    }\n",
       "\n",
       "    .dataframe tbody tr th {\n",
       "        vertical-align: top;\n",
       "    }\n",
       "\n",
       "    .dataframe thead th {\n",
       "        text-align: right;\n",
       "    }\n",
       "</style>\n",
       "<table border=\"1\" class=\"dataframe\">\n",
       "  <thead>\n",
       "    <tr style=\"text-align: right;\">\n",
       "      <th></th>\n",
       "      <th>a1</th>\n",
       "      <th>a2</th>\n",
       "      <th>a3</th>\n",
       "    </tr>\n",
       "  </thead>\n",
       "  <tbody>\n",
       "    <tr>\n",
       "      <th>b1 ≻</th>\n",
       "      <td>1.0</td>\n",
       "      <td>NaN</td>\n",
       "      <td>NaN</td>\n",
       "    </tr>\n",
       "    <tr>\n",
       "      <th>(b1, b2)</th>\n",
       "      <td>NaN</td>\n",
       "      <td>NaN</td>\n",
       "      <td>NaN</td>\n",
       "    </tr>\n",
       "    <tr>\n",
       "      <th>b2 ≺</th>\n",
       "      <td>NaN</td>\n",
       "      <td>1.0</td>\n",
       "      <td>1.0</td>\n",
       "    </tr>\n",
       "  </tbody>\n",
       "</table>\n",
       "</div>"
      ],
      "text/plain": [
       "           a1   a2   a3\n",
       "b1 ≻      1.0  NaN  NaN\n",
       "(b1, b2)  NaN  NaN  NaN\n",
       "b2 ≺      NaN  1.0  1.0"
      ]
     },
     "execution_count": 19,
     "metadata": {},
     "output_type": "execute_result"
    }
   ],
   "source": [
    "print(\"\\nOptimistic classification\")\n",
    "optimistic"
   ]
  },
  {
   "cell_type": "code",
   "execution_count": 20,
   "id": "7b47cfef-5518-4a30-9fb8-8262b50c8d66",
   "metadata": {},
   "outputs": [
    {
     "name": "stdout",
     "output_type": "stream",
     "text": [
      "\n",
      "Pessimistic classification\n"
     ]
    },
    {
     "data": {
      "text/html": [
       "<div>\n",
       "<style scoped>\n",
       "    .dataframe tbody tr th:only-of-type {\n",
       "        vertical-align: middle;\n",
       "    }\n",
       "\n",
       "    .dataframe tbody tr th {\n",
       "        vertical-align: top;\n",
       "    }\n",
       "\n",
       "    .dataframe thead th {\n",
       "        text-align: right;\n",
       "    }\n",
       "</style>\n",
       "<table border=\"1\" class=\"dataframe\">\n",
       "  <thead>\n",
       "    <tr style=\"text-align: right;\">\n",
       "      <th></th>\n",
       "      <th>a1</th>\n",
       "      <th>a2</th>\n",
       "      <th>a3</th>\n",
       "    </tr>\n",
       "  </thead>\n",
       "  <tbody>\n",
       "    <tr>\n",
       "      <th>b1 ≻</th>\n",
       "      <td>1.0</td>\n",
       "      <td>NaN</td>\n",
       "      <td>1.0</td>\n",
       "    </tr>\n",
       "    <tr>\n",
       "      <th>(b1, b2)</th>\n",
       "      <td>NaN</td>\n",
       "      <td>1.0</td>\n",
       "      <td>NaN</td>\n",
       "    </tr>\n",
       "    <tr>\n",
       "      <th>b2 ≺</th>\n",
       "      <td>NaN</td>\n",
       "      <td>NaN</td>\n",
       "      <td>NaN</td>\n",
       "    </tr>\n",
       "  </tbody>\n",
       "</table>\n",
       "</div>"
      ],
      "text/plain": [
       "           a1   a2   a3\n",
       "b1 ≻      1.0  NaN  1.0\n",
       "(b1, b2)  NaN  1.0  NaN\n",
       "b2 ≺      NaN  NaN  NaN"
      ]
     },
     "execution_count": 20,
     "metadata": {},
     "output_type": "execute_result"
    }
   ],
   "source": [
    "print(\"\\nPessimistic classification\")\n",
    "pessimistic"
   ]
  },
  {
   "cell_type": "markdown",
   "id": "75004ea0-5596-4ccd-9144-92311514770f",
   "metadata": {},
   "source": [
    "## Raking and sorting\n",
    "\n",
    "The optimistic and pessimistic classifications can be:\n",
    "- ranked, by indicating for each alternative the class to which it belongs;\n",
    "\n",
    "- sorted, by indicating for each class the alternatives that belong to it."
   ]
  },
  {
   "cell_type": "code",
   "execution_count": 21,
   "id": "48cb57d2-ed04-4404-9dea-cd1279d701f4",
   "metadata": {},
   "outputs": [
    {
     "name": "stdout",
     "output_type": "stream",
     "text": [
      "\n",
      "Pessimistic ranking\n"
     ]
    },
    {
     "data": {
      "text/html": [
       "<div>\n",
       "<style scoped>\n",
       "    .dataframe tbody tr th:only-of-type {\n",
       "        vertical-align: middle;\n",
       "    }\n",
       "\n",
       "    .dataframe tbody tr th {\n",
       "        vertical-align: top;\n",
       "    }\n",
       "\n",
       "    .dataframe thead th {\n",
       "        text-align: right;\n",
       "    }\n",
       "</style>\n",
       "<table border=\"1\" class=\"dataframe\">\n",
       "  <thead>\n",
       "    <tr style=\"text-align: right;\">\n",
       "      <th></th>\n",
       "      <th>0</th>\n",
       "    </tr>\n",
       "  </thead>\n",
       "  <tbody>\n",
       "    <tr>\n",
       "      <th>a1</th>\n",
       "      <td>∈ b1 ≻</td>\n",
       "    </tr>\n",
       "    <tr>\n",
       "      <th>a2</th>\n",
       "      <td>∈ (b1, b2)</td>\n",
       "    </tr>\n",
       "    <tr>\n",
       "      <th>a3</th>\n",
       "      <td>∈ b1 ≻</td>\n",
       "    </tr>\n",
       "  </tbody>\n",
       "</table>\n",
       "</div>"
      ],
      "text/plain": [
       "             0\n",
       "a1      ∈ b1 ≻\n",
       "a2  ∈ (b1, b2)\n",
       "a3      ∈ b1 ≻"
      ]
     },
     "execution_count": 21,
     "metadata": {},
     "output_type": "execute_result"
    }
   ],
   "source": [
    "pessi_rank = et.rank(pessimistic)\n",
    "print('\\nPessimistic ranking')\n",
    "pessi_rank.to_frame()"
   ]
  },
  {
   "cell_type": "code",
   "execution_count": 22,
   "id": "d41a8b62-1c51-44f8-b8e6-6877405675b6",
   "metadata": {},
   "outputs": [
    {
     "name": "stdout",
     "output_type": "stream",
     "text": [
      "\n",
      "Pessimistic sorting\n"
     ]
    },
    {
     "data": {
      "text/html": [
       "<div>\n",
       "<style scoped>\n",
       "    .dataframe tbody tr th:only-of-type {\n",
       "        vertical-align: middle;\n",
       "    }\n",
       "\n",
       "    .dataframe tbody tr th {\n",
       "        vertical-align: top;\n",
       "    }\n",
       "\n",
       "    .dataframe thead th {\n",
       "        text-align: right;\n",
       "    }\n",
       "</style>\n",
       "<table border=\"1\" class=\"dataframe\">\n",
       "  <thead>\n",
       "    <tr style=\"text-align: right;\">\n",
       "      <th></th>\n",
       "      <th>0</th>\n",
       "    </tr>\n",
       "  </thead>\n",
       "  <tbody>\n",
       "    <tr>\n",
       "      <th>b1 ≻</th>\n",
       "      <td>[a1, a3]</td>\n",
       "    </tr>\n",
       "    <tr>\n",
       "      <th>(b1, b2)</th>\n",
       "      <td>[a2]</td>\n",
       "    </tr>\n",
       "    <tr>\n",
       "      <th>b2 ≺</th>\n",
       "      <td>[]</td>\n",
       "    </tr>\n",
       "  </tbody>\n",
       "</table>\n",
       "</div>"
      ],
      "text/plain": [
       "                 0\n",
       "b1 ≻      [a1, a3]\n",
       "(b1, b2)      [a2]\n",
       "b2 ≺            []"
      ]
     },
     "execution_count": 22,
     "metadata": {},
     "output_type": "execute_result"
    }
   ],
   "source": [
    "pessi_sort = et.sort(pessimistic)\n",
    "print('\\nPessimistic sorting')\n",
    "pessi_sort.to_frame()"
   ]
  },
  {
   "cell_type": "code",
   "execution_count": null,
   "id": "9bd57c44-ca23-486d-81b3-69119a6b85a0",
   "metadata": {},
   "outputs": [],
   "source": []
  }
 ],
 "metadata": {
  "kernelspec": {
   "display_name": "Python 3 (ipykernel)",
   "language": "python",
   "name": "python3"
  },
  "language_info": {
   "codemirror_mode": {
    "name": "ipython",
    "version": 3
   },
   "file_extension": ".py",
   "mimetype": "text/x-python",
   "name": "python",
   "nbconvert_exporter": "python",
   "pygments_lexer": "ipython3",
   "version": "3.11.7"
  }
 },
 "nbformat": 4,
 "nbformat_minor": 5
}
