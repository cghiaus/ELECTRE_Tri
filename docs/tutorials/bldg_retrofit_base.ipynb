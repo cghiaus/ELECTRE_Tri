{
 "cells": [
  {
   "cell_type": "markdown",
   "id": "a373e5e2-b382-4cbb-90ca-6ef9eab651d4",
   "metadata": {},
   "source": [
    "<h1>ELECTRE Tri-B analysis with complete set of data: example of a building energy retrofit</h1>\n",
    "\n",
    "[![Binder](https://mybinder.org/badge_logo.svg)](https://mybinder.org/v2/gh/cghiaus/ELECTRE_Tri/HEAD?labpath=docs%2Ftutorials%2Fbldg_retrofit.ipynb)\n",
    "\n",
    "In the case of energy retrofit of a building, let's suppose that there are three alternatives:\n",
    "- basic renovation,\n",
    "- moderate renovation,\n",
    "- extensive renovation,\n",
    "\n",
    "each one yielding energy savings and requiring costs. \n",
    "\n",
    "We want to sort these three alternatives into predefined  categories (e.g. bad, acceptable, good) based on their performance on criteria of energy savings and costs. The categroes are delimited by base profiles.\n",
    "\n",
    "# Problem statement\n",
    "\n",
    "**Given:**\n",
    "\n",
    "- A set of criteria $\\{c_{k}\\}$:\n",
    "    - __c1: Saving (in kWh/m²/year)__ with weight $w = 0.7$\n",
    "    - __c2: Cost (in €/m²)__ with weight $w = 0.3$\n",
    "___\n",
    "- A set of alternatives $\\{a_{i}\\}$:\n",
    "   - __a1: Basic renovation__\n",
    "   - __a2: Moderate renovation__\n",
    "   - __a3: Extensive renovation__\n",
    "___\n",
    "- A matrix $A = \\{a_{i,k}\\}$ of performances of alternatives $a_i$ for each criterion $c_k$.\n",
    "\n",
    "| Alternative profile | c1: Saving/(kWh/m²/year)| c2: Cost/(€/m²)|\n",
    "|---------------------------|------------------:|------------:|\n",
    "| a1: Basic renovation      | 50.0              | 100.0       |\n",
    "| a2: Moderate renovation   | 80.0              | 200.0       |\n",
    "| a3: Extensive renovation  | 120.0             | 350.0       |\n",
    "___\n",
    "\n",
    "- A matrix $B = \\{b_{j,k}\\}$ of base profiles (or category boundaries) $b_j$ for each criterion $k$.\n",
    "\n",
    "| Base profile | c1: Saving/(kWh/m²/year) | c2: Cost/(€/m²) |\n",
    "|---------|---------------------:|-------------:|\n",
    "| b1: bad | 50.0                 |   300.0      |\n",
    "| b2: good| 100.0                |   100.0      |\n",
    "\n",
    "These base profiles form a set of $n + 1$ ordered __categories__ $C$, where $n$ is the number of base profiles $B$ in which the alternatives are to be sorted:\n",
    "\n",
    "- __bad >__ : worse than __b1__ (bad) base profile. \n",
    "- __(bad, good)__: between base profiles __bad__ and __good__.\n",
    "- __good <__: better than __b2__ (good) base profile.\n",
    "____\n",
    "\n",
    "- A matrix $T$ of thresholds for:\n",
    "  - indifference $q = \\{q_k\\}$, the largest difference in performance on a criterion that a decision-maker considers insignificant;\n",
    "  - preference $p = \\{p_k\\}$,  the smallest difference in performance on a criterion that the decision-maker considers significant enough to strongly prefer one alternative over another;\n",
    "  - veto $v = \\{v_k\\}$, the maximum allowable difference in performance on a criterion beyond which an alternative cannot outrank another, regardless of its performance on other criteria.\n",
    "\n",
    "| Threshold profile | c1: Saving/(kWh/m²/year) | c2: Cost/(€/m²) |\n",
    "|---------|---------------------:|------------:|\n",
    "| q       | 5.0                  | 10.0        |\n",
    "| p       | 10.0                 | 25.0        |\n",
    "| v       | 20.0                 | 50.0        |\n",
    "___\n",
    "\n",
    "- A credibility threshold $\\lambda$ for outranking, i.e. minimum degree of credibility index that is considered necessary to validate the statement \"alternative a outranks base profile b\" (value within the range [0.5, 1], typically 0.75).\n",
    "____\n",
    "\n",
    "**Do:**\n",
    "\n",
    "Assign each alternative $a_i ∈ A$ to one of the predefined categories $C_j ∈ C$ based on its performance across all criteria $c_k$ by using optimistic and pessimistic classification:\n",
    "\n",
    "| Categories   | Alternatives                             |\n",
    "|--------------|------------------------------------------|\n",
    "| __bad ≻__     | [list of alternatives worse than **bad**]     |\n",
    "| __(bad, good)__ | [list of alternatives between **bad** and **good**] |\n",
    "| __good ≺__     | [list of alternatives better than **good**]    |\n",
    "\n",
    "____"
   ]
  },
  {
   "cell_type": "markdown",
   "id": "de7a8f06-ff34-474c-b10e-e65a6b1aa262",
   "metadata": {},
   "source": [
    "# Procedure:\n",
    "1. Upload your data file containing the performance of alternatives, base profiles, thresholds, and weights.\n",
    "3. Read data file and solve ELECTRE Tri-B sorting problem.\n",
    "4. Assume a _credibility threshold_.\n",
    "5. Interpret the results."
   ]
  },
  {
   "cell_type": "code",
   "execution_count": 1,
   "id": "facd074c-a16e-4376-bc78-6aacf7a2ec70",
   "metadata": {},
   "outputs": [],
   "source": [
    "\"\"\"\n",
    "Append `src/` directory to `path`\n",
    "\"\"\"\n",
    "import sys\n",
    "import os\n",
    "\n",
    "notebook_dir = os.path.dirname(os.path.abspath('__file__'))\n",
    "project_root = os.path.dirname(os.path.dirname(notebook_dir))\n",
    "\n",
    "src_dir = os.path.join(project_root, 'src')\n",
    "sys.path.append(src_dir)"
   ]
  },
  {
   "cell_type": "code",
   "execution_count": 2,
   "id": "d088eea9-6f1a-42ab-aefe-aed829fc31dd",
   "metadata": {},
   "outputs": [],
   "source": [
    "import pandas as pd\n",
    "\n",
    "import electre_tri as et"
   ]
  },
  {
   "cell_type": "markdown",
   "id": "090d1869-34b2-48e8-bdb9-cddbe77e14e9",
   "metadata": {},
   "source": [
    "# Data file\n",
    "\n",
    "ELECTRE Tri-B data is a [.csv](https://en.m.wikipedia.org/wiki/Comma-separated_values) text file that contains, for each criterion:\n",
    "- performance of alternatives **A**;\n",
    "- base profiles **B**;\n",
    "- indifference, preference and veto thresholds **T**;\n",
    "- weights **w**. \n",
    "\n",
    "__Note__: For criteria to be minimized (i.e. cost), the data for performance of alternatives __A__ and the base profiles __B__ are negative numbers.\n",
    "\n",
    "Data files can be written by using a [spreadsheet](https://en.m.wikipedia.org/wiki/Spreadsheet)."
   ]
  },
  {
   "cell_type": "code",
   "execution_count": 3,
   "id": "67043013-f51e-4cf2-99e1-af210178b960",
   "metadata": {},
   "outputs": [
    {
     "name": "stdout",
     "output_type": "stream",
     "text": [
      "Example of data file\n"
     ]
    },
    {
     "data": {
      "text/html": [
       "<div>\n",
       "<style scoped>\n",
       "    .dataframe tbody tr th:only-of-type {\n",
       "        vertical-align: middle;\n",
       "    }\n",
       "\n",
       "    .dataframe tbody tr th {\n",
       "        vertical-align: top;\n",
       "    }\n",
       "\n",
       "    .dataframe thead th {\n",
       "        text-align: right;\n",
       "    }\n",
       "</style>\n",
       "<table border=\"1\" class=\"dataframe\">\n",
       "  <thead>\n",
       "    <tr style=\"text-align: right;\">\n",
       "      <th></th>\n",
       "      <th>type</th>\n",
       "      <th>profile</th>\n",
       "      <th>Saving/(kWh/m²/year)</th>\n",
       "      <th>Cost/(€/m²)</th>\n",
       "    </tr>\n",
       "  </thead>\n",
       "  <tbody>\n",
       "    <tr>\n",
       "      <th>0</th>\n",
       "      <td>A</td>\n",
       "      <td>a1: Basic</td>\n",
       "      <td>50.0</td>\n",
       "      <td>-100.0</td>\n",
       "    </tr>\n",
       "    <tr>\n",
       "      <th>1</th>\n",
       "      <td>A</td>\n",
       "      <td>a2: Moderate</td>\n",
       "      <td>80.0</td>\n",
       "      <td>-200.0</td>\n",
       "    </tr>\n",
       "    <tr>\n",
       "      <th>2</th>\n",
       "      <td>A</td>\n",
       "      <td>a3: Extensive</td>\n",
       "      <td>120.0</td>\n",
       "      <td>-350.0</td>\n",
       "    </tr>\n",
       "    <tr>\n",
       "      <th>3</th>\n",
       "      <td>B</td>\n",
       "      <td>bad</td>\n",
       "      <td>50.0</td>\n",
       "      <td>-300.0</td>\n",
       "    </tr>\n",
       "    <tr>\n",
       "      <th>4</th>\n",
       "      <td>B</td>\n",
       "      <td>good</td>\n",
       "      <td>100.0</td>\n",
       "      <td>-100.0</td>\n",
       "    </tr>\n",
       "    <tr>\n",
       "      <th>5</th>\n",
       "      <td>T</td>\n",
       "      <td>q</td>\n",
       "      <td>5.0</td>\n",
       "      <td>10.0</td>\n",
       "    </tr>\n",
       "    <tr>\n",
       "      <th>6</th>\n",
       "      <td>T</td>\n",
       "      <td>p</td>\n",
       "      <td>10.0</td>\n",
       "      <td>25.0</td>\n",
       "    </tr>\n",
       "    <tr>\n",
       "      <th>7</th>\n",
       "      <td>T</td>\n",
       "      <td>v</td>\n",
       "      <td>20.0</td>\n",
       "      <td>50.0</td>\n",
       "    </tr>\n",
       "    <tr>\n",
       "      <th>8</th>\n",
       "      <td>w</td>\n",
       "      <td>NaN</td>\n",
       "      <td>0.7</td>\n",
       "      <td>0.3</td>\n",
       "    </tr>\n",
       "  </tbody>\n",
       "</table>\n",
       "</div>"
      ],
      "text/plain": [
       "  type        profile  Saving/(kWh/m²/year)  Cost/(€/m²)\n",
       "0    A      a1: Basic                  50.0       -100.0\n",
       "1    A   a2: Moderate                  80.0       -200.0\n",
       "2    A  a3: Extensive                 120.0       -350.0\n",
       "3    B            bad                  50.0       -300.0\n",
       "4    B           good                 100.0       -100.0\n",
       "5    T              q                   5.0         10.0\n",
       "6    T              p                  10.0         25.0\n",
       "7    T              v                  20.0         50.0\n",
       "8    w            NaN                   0.7          0.3"
      ]
     },
     "execution_count": 3,
     "metadata": {},
     "output_type": "execute_result"
    }
   ],
   "source": [
    "data_file = \"../../data/bldg_retrofit_base.csv\"\n",
    "print(\"Example of data file\")\n",
    "pd.read_csv(data_file)"
   ]
  },
  {
   "cell_type": "markdown",
   "id": "c5fd78f1-46a1-4c99-932d-75f706f1330c",
   "metadata": {},
   "source": [
    "# Problem solving"
   ]
  },
  {
   "cell_type": "code",
   "execution_count": 4,
   "id": "ea315bf5-03ab-473c-833d-a7850aa306da",
   "metadata": {},
   "outputs": [],
   "source": [
    "# Problem statement\n",
    "data_file = \"../../data/bldg_retrofit_base.csv\"\n",
    "credibility_threshold = 0.7\n",
    "\n",
    "# Problem solving\n",
    "A, B, T, w = et.read_electre_tri_base(data_file)\n",
    "optimistic, pessimistic = et.electre_tri_b(A, B, T, w,\n",
    "                                           credibility_threshold)"
   ]
  },
  {
   "cell_type": "markdown",
   "id": "d434c7c9-fe0d-4790-8908-0d4849f35e5c",
   "metadata": {},
   "source": [
    "# Results"
   ]
  },
  {
   "cell_type": "code",
   "execution_count": 5,
   "id": "14d56f45-9640-4e29-807f-80a992b0444e",
   "metadata": {},
   "outputs": [
    {
     "name": "stdout",
     "output_type": "stream",
     "text": [
      "Optimistic sorting\n"
     ]
    },
    {
     "data": {
      "text/html": [
       "<div>\n",
       "<style scoped>\n",
       "    .dataframe tbody tr th:only-of-type {\n",
       "        vertical-align: middle;\n",
       "    }\n",
       "\n",
       "    .dataframe tbody tr th {\n",
       "        vertical-align: top;\n",
       "    }\n",
       "\n",
       "    .dataframe thead th {\n",
       "        text-align: right;\n",
       "    }\n",
       "</style>\n",
       "<table border=\"1\" class=\"dataframe\">\n",
       "  <thead>\n",
       "    <tr style=\"text-align: right;\">\n",
       "      <th></th>\n",
       "      <th>alternatives</th>\n",
       "    </tr>\n",
       "    <tr>\n",
       "      <th>categories</th>\n",
       "      <th></th>\n",
       "    </tr>\n",
       "  </thead>\n",
       "  <tbody>\n",
       "    <tr>\n",
       "      <th>bad ≻</th>\n",
       "      <td>[]</td>\n",
       "    </tr>\n",
       "    <tr>\n",
       "      <th>(bad, good)</th>\n",
       "      <td>[a1: Basic, a2: Moderate]</td>\n",
       "    </tr>\n",
       "    <tr>\n",
       "      <th>good ≺</th>\n",
       "      <td>[a3: Extensive]</td>\n",
       "    </tr>\n",
       "  </tbody>\n",
       "</table>\n",
       "</div>"
      ],
      "text/plain": [
       "                          alternatives\n",
       "categories                            \n",
       "bad ≻                               []\n",
       "(bad, good)  [a1: Basic, a2: Moderate]\n",
       "good ≺                 [a3: Extensive]"
      ]
     },
     "execution_count": 5,
     "metadata": {},
     "output_type": "execute_result"
    }
   ],
   "source": [
    "# Optimistic sorting\n",
    "opti_sort = et.sort(optimistic)\n",
    "print('Optimistic sorting')\n",
    "opti_sort.to_frame(name=\"alternatives\").rename_axis(\"categories\")"
   ]
  },
  {
   "cell_type": "code",
   "execution_count": 6,
   "id": "a2b45620-814b-41f7-80ce-55bd59877d23",
   "metadata": {},
   "outputs": [
    {
     "name": "stdout",
     "output_type": "stream",
     "text": [
      "Pessimistic sorting\n"
     ]
    },
    {
     "data": {
      "text/html": [
       "<div>\n",
       "<style scoped>\n",
       "    .dataframe tbody tr th:only-of-type {\n",
       "        vertical-align: middle;\n",
       "    }\n",
       "\n",
       "    .dataframe tbody tr th {\n",
       "        vertical-align: top;\n",
       "    }\n",
       "\n",
       "    .dataframe thead th {\n",
       "        text-align: right;\n",
       "    }\n",
       "</style>\n",
       "<table border=\"1\" class=\"dataframe\">\n",
       "  <thead>\n",
       "    <tr style=\"text-align: right;\">\n",
       "      <th></th>\n",
       "      <th>alternatives</th>\n",
       "    </tr>\n",
       "    <tr>\n",
       "      <th>categories</th>\n",
       "      <th></th>\n",
       "    </tr>\n",
       "  </thead>\n",
       "  <tbody>\n",
       "    <tr>\n",
       "      <th>bad ≻</th>\n",
       "      <td>[a3: Extensive]</td>\n",
       "    </tr>\n",
       "    <tr>\n",
       "      <th>(bad, good)</th>\n",
       "      <td>[a1: Basic, a2: Moderate]</td>\n",
       "    </tr>\n",
       "    <tr>\n",
       "      <th>good ≺</th>\n",
       "      <td>[]</td>\n",
       "    </tr>\n",
       "  </tbody>\n",
       "</table>\n",
       "</div>"
      ],
      "text/plain": [
       "                          alternatives\n",
       "categories                            \n",
       "bad ≻                  [a3: Extensive]\n",
       "(bad, good)  [a1: Basic, a2: Moderate]\n",
       "good ≺                              []"
      ]
     },
     "execution_count": 6,
     "metadata": {},
     "output_type": "execute_result"
    }
   ],
   "source": [
    "# Pessimistic sorting\n",
    "pessi_sort = et.sort(pessimistic)\n",
    "print('Pessimistic sorting')\n",
    "pessi_sort.to_frame(name=\"alternatives\").rename_axis(\"categories\")"
   ]
  },
  {
   "cell_type": "code",
   "execution_count": null,
   "id": "4779188e-31ac-4746-965e-99eb8098792d",
   "metadata": {},
   "outputs": [],
   "source": []
  }
 ],
 "metadata": {
  "kernelspec": {
   "display_name": "Python 3 (ipykernel)",
   "language": "python",
   "name": "python3"
  },
  "language_info": {
   "codemirror_mode": {
    "name": "ipython",
    "version": 3
   },
   "file_extension": ".py",
   "mimetype": "text/x-python",
   "name": "python",
   "nbconvert_exporter": "python",
   "pygments_lexer": "ipython3",
   "version": "3.11.7"
  }
 },
 "nbformat": 4,
 "nbformat_minor": 5
}
